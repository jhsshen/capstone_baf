{
 "cells": [
  {
   "cell_type": "markdown",
   "metadata": {},
   "source": [
    "# 5. Modeling"
   ]
  },
  {
   "cell_type": "markdown",
   "metadata": {},
   "source": [
    "## 5.1 Imports"
   ]
  },
  {
   "cell_type": "code",
   "execution_count": 1,
   "metadata": {},
   "outputs": [],
   "source": [
    "import numpy as np\n",
    "import pandas as pd\n",
    "\n",
    "from sklearn.model_selection import train_test_split\n",
    "import os"
   ]
  },
  {
   "cell_type": "markdown",
   "metadata": {},
   "source": [
    "## 5.2 Load previously processed data"
   ]
  },
  {
   "cell_type": "code",
   "execution_count": 2,
   "metadata": {},
   "outputs": [],
   "source": [
    "# Intermediate data was saved as '../data/baf_cat_dummy_na_median_num_scaled.csv.gz' previously.\n",
    "baf_data = pd.read_csv('../data/baf_cat_dummy_na_median_num_scaled.csv.gz', compression='gzip')\n"
   ]
  },
  {
   "cell_type": "code",
   "execution_count": 3,
   "metadata": {},
   "outputs": [
    {
     "name": "stdout",
     "output_type": "stream",
     "text": [
      "<class 'pandas.core.frame.DataFrame'>\n",
      "RangeIndex: 993563 entries, 0 to 993562\n",
      "Data columns (total 53 columns):\n",
      " #   Column                            Non-Null Count   Dtype  \n",
      "---  ------                            --------------   -----  \n",
      " 0   fraud_bool                        993563 non-null  int64  \n",
      " 1   email_is_free                     993563 non-null  int64  \n",
      " 2   phone_home_valid                  993563 non-null  int64  \n",
      " 3   phone_mobile_valid                993563 non-null  int64  \n",
      " 4   has_other_cards                   993563 non-null  int64  \n",
      " 5   foreign_request                   993563 non-null  int64  \n",
      " 6   keep_alive_session                993563 non-null  int64  \n",
      " 7   payment_type_AA                   993563 non-null  int64  \n",
      " 8   payment_type_AB                   993563 non-null  int64  \n",
      " 9   payment_type_AC                   993563 non-null  int64  \n",
      " 10  payment_type_AD                   993563 non-null  int64  \n",
      " 11  payment_type_AE                   993563 non-null  int64  \n",
      " 12  employment_status_CA              993563 non-null  int64  \n",
      " 13  employment_status_CB              993563 non-null  int64  \n",
      " 14  employment_status_CC              993563 non-null  int64  \n",
      " 15  employment_status_CD              993563 non-null  int64  \n",
      " 16  employment_status_CE              993563 non-null  int64  \n",
      " 17  employment_status_CF              993563 non-null  int64  \n",
      " 18  employment_status_CG              993563 non-null  int64  \n",
      " 19  housing_status_BA                 993563 non-null  int64  \n",
      " 20  housing_status_BB                 993563 non-null  int64  \n",
      " 21  housing_status_BC                 993563 non-null  int64  \n",
      " 22  housing_status_BD                 993563 non-null  int64  \n",
      " 23  housing_status_BE                 993563 non-null  int64  \n",
      " 24  housing_status_BF                 993563 non-null  int64  \n",
      " 25  housing_status_BG                 993563 non-null  int64  \n",
      " 26  source_INTERNET                   993563 non-null  int64  \n",
      " 27  source_TELEAPP                    993563 non-null  int64  \n",
      " 28  device_os_linux                   993563 non-null  int64  \n",
      " 29  device_os_macintosh               993563 non-null  int64  \n",
      " 30  device_os_other                   993563 non-null  int64  \n",
      " 31  device_os_windows                 993563 non-null  int64  \n",
      " 32  device_os_x11                     993563 non-null  int64  \n",
      " 33  intended_balcon_amount_negative   993563 non-null  int64  \n",
      " 34  income                            993563 non-null  float64\n",
      " 35  name_email_similarity             993563 non-null  float64\n",
      " 36  prev_address_months_count         993563 non-null  float64\n",
      " 37  current_address_months_count      993563 non-null  float64\n",
      " 38  customer_age                      993563 non-null  float64\n",
      " 39  days_since_request                993563 non-null  float64\n",
      " 40  intended_balcon_amount            993563 non-null  float64\n",
      " 41  zip_count_4w                      993563 non-null  float64\n",
      " 42  velocity_6h                       993563 non-null  float64\n",
      " 43  velocity_24h                      993563 non-null  float64\n",
      " 44  velocity_4w                       993563 non-null  float64\n",
      " 45  bank_branch_count_8w              993563 non-null  float64\n",
      " 46  date_of_birth_distinct_emails_4w  993563 non-null  float64\n",
      " 47  credit_risk_score                 993563 non-null  float64\n",
      " 48  bank_months_count                 993563 non-null  float64\n",
      " 49  proposed_credit_limit             993563 non-null  float64\n",
      " 50  session_length_in_minutes         993563 non-null  float64\n",
      " 51  device_distinct_emails_8w         993563 non-null  float64\n",
      " 52  month                             993563 non-null  float64\n",
      "dtypes: float64(19), int64(34)\n",
      "memory usage: 401.8 MB\n"
     ]
    }
   ],
   "source": [
    "# Validate data types and non-null values.\n",
    "baf_data.info()"
   ]
  },
  {
   "cell_type": "markdown",
   "metadata": {},
   "source": [
    "## 5.3 Split data into training and testing subsets"
   ]
  },
  {
   "cell_type": "markdown",
   "metadata": {},
   "source": [
    "All the features will be used for modeling at the first step."
   ]
  },
  {
   "cell_type": "code",
   "execution_count": 4,
   "metadata": {},
   "outputs": [],
   "source": [
    "# split dataset into X_train, X_test, y_train, y_test\n",
    "X_train, X_test, y_train, y_test = train_test_split(baf_data.drop(columns='fraud_bool'), baf_data.fraud_bool, test_size=0.3, random_state=47)"
   ]
  },
  {
   "cell_type": "code",
   "execution_count": 5,
   "metadata": {},
   "outputs": [
    {
     "data": {
      "text/plain": [
       "((695494, 52), (298069, 52))"
      ]
     },
     "execution_count": 5,
     "metadata": {},
     "output_type": "execute_result"
    }
   ],
   "source": [
    "X_train.shape, X_test.shape"
   ]
  },
  {
   "cell_type": "code",
   "execution_count": 6,
   "metadata": {},
   "outputs": [
    {
     "data": {
      "text/plain": [
       "((695494,), (298069,))"
      ]
     },
     "execution_count": 6,
     "metadata": {},
     "output_type": "execute_result"
    }
   ],
   "source": [
    "y_train.shape, y_test.shape"
   ]
  },
  {
   "cell_type": "markdown",
   "metadata": {},
   "source": [
    "## 5.4 Applying the Machine Learning models"
   ]
  },
  {
   "cell_type": "markdown",
   "metadata": {},
   "source": [
    "Fraud or not is a classification problem. The following supervised learning classification models will be used:\n",
    "\n",
    "- Logistic Regression\n",
    "- K-Nearest Neighbor (KNN)\n",
    "- Random Forest\n",
    "- Support vector machine (SVM)\n",
    "- Naive Bayes\n",
    "- Gradient Boost"
   ]
  },
  {
   "cell_type": "markdown",
   "metadata": {},
   "source": [
    "For evaluation metrics, F1 score, Recall, Precision, ROC AUC, PR AUC will be calculated and compared."
   ]
  },
  {
   "cell_type": "code",
   "execution_count": 7,
   "metadata": {},
   "outputs": [],
   "source": [
    "# Import\n",
    "from sklearn.metrics import confusion_matrix, classification_report\n",
    "from sklearn.metrics import f1_score, precision_score, recall_score, roc_auc_score\n",
    "from sklearn.metrics import roc_curve, auc, precision_recall_curve\n",
    "from sklearn.metrics import accuracy_score\n",
    "from sklearn.metrics import average_precision_score\n",
    "from sklearn.model_selection import cross_val_score\n",
    "from sklearn.model_selection import validation_curve\n"
   ]
  },
  {
   "cell_type": "markdown",
   "metadata": {},
   "source": [
    "### 5.4.1 Logistic Regression"
   ]
  },
  {
   "cell_type": "code",
   "execution_count": 8,
   "metadata": {},
   "outputs": [
    {
     "name": "stdout",
     "output_type": "stream",
     "text": [
      "[[294774     26]\n",
      " [  3231     38]]\n",
      "              precision    recall  f1-score   support\n",
      "\n",
      "           0       0.99      1.00      0.99    294800\n",
      "           1       0.59      0.01      0.02      3269\n",
      "\n",
      "    accuracy                           0.99    298069\n",
      "   macro avg       0.79      0.51      0.51    298069\n",
      "weighted avg       0.98      0.99      0.98    298069\n",
      "\n",
      "   C_parameter Accuracy_score Precision_score Recall_score  F1_score  \\\n",
      "0            1       0.989073         0.59375     0.011624  0.022802   \n",
      "\n",
      "  roc_auc_score    pr_auc  \n",
      "0      0.871519  0.130022  \n"
     ]
    }
   ],
   "source": [
    "from sklearn.linear_model import LogisticRegression\n",
    "\n",
    "# First we will try LogisticRegresssion model without considering the class_weight\n",
    "\n",
    "table = pd.DataFrame(columns = ['C_parameter','Accuracy_score', 'Precision_score', 'Recall_score', 'F1_score', 'roc_auc_score', 'pr_auc'])\n",
    "table['C_parameter'] = [1]\n",
    "\n",
    "# Apply logistic regression model to training data\n",
    "logreg = LogisticRegression(penalty='l2', C=1, class_weight=None, random_state=47, max_iter=1000)\n",
    "logreg.fit(X_train, y_train)\n",
    "\n",
    "# Predict and save to y_pred\n",
    "y_pred = logreg.predict(X_test)\n",
    "y_score = logreg.predict_proba(X_test)[:, 1]\n",
    "\n",
    "# Save score values in table\n",
    "table.iloc[0, 1] = accuracy_score(y_test, y_pred)\n",
    "table.iloc[0, 2] = precision_score(y_test, y_pred)\n",
    "table.iloc[0, 3] = recall_score(y_test, y_pred)\n",
    "table.iloc[0, 4] = f1_score(y_test, y_pred)\n",
    "table.iloc[0, 5] = roc_auc_score(y_test, y_score)\n",
    "\n",
    "# Compute the precision-recall curve\n",
    "precision, recall, thresholds = precision_recall_curve(y_test, y_score)\n",
    "# Compute the area under precision-recall curve (pr_auc)\n",
    "table.iloc[0, 6] = auc(recall, precision)\n",
    "\n",
    "# Print confusion matrix\n",
    "print(confusion_matrix(y_test, y_pred))\n",
    "print(classification_report(y_test, y_pred))\n",
    "\n",
    "# Print score values\n",
    "print(table)"
   ]
  },
  {
   "cell_type": "markdown",
   "metadata": {},
   "source": [
    "F1 score 0.022 is very poor. Would it be related to inbalanced classes?"
   ]
  },
  {
   "cell_type": "code",
   "execution_count": 9,
   "metadata": {},
   "outputs": [
    {
     "name": "stdout",
     "output_type": "stream",
     "text": [
      "fraud_bool\n",
      "0    982568\n",
      "1     10995\n",
      "Name: count, dtype: int64\n",
      "fraud_bool=1 of all ratio:  0.011\n",
      "fraud_bool=0 of all ratio:  0.989\n"
     ]
    }
   ],
   "source": [
    "# Print target column `fraud_bool` value count\n",
    "print(baf_data['fraud_bool'].value_counts())\n",
    "# Print the pencentage of fraud instances of all records\n",
    "fraud_bool_1 = len(baf_data[baf_data['fraud_bool']==1]) / len(baf_data)\n",
    "fraud_bool_0 = len(baf_data[baf_data['fraud_bool']==0]) / len(baf_data)\n",
    "print(f'fraud_bool=1 of all ratio: {fraud_bool_1: .3f}')\n",
    "print(f'fraud_bool=0 of all ratio: {fraud_bool_0: .3f}')"
   ]
  },
  {
   "cell_type": "markdown",
   "metadata": {},
   "source": [
    "We can see that the fraud ratio is very low, only 1.1% of all in baf_data. Next we are going to try class_weight='balanced' in the modeling."
   ]
  },
  {
   "cell_type": "code",
   "execution_count": 10,
   "metadata": {},
   "outputs": [
    {
     "name": "stdout",
     "output_type": "stream",
     "text": [
      "[[237182  57618]\n",
      " [   716   2553]]\n",
      "              precision    recall  f1-score   support\n",
      "\n",
      "           0       1.00      0.80      0.89    294800\n",
      "           1       0.04      0.78      0.08      3269\n",
      "\n",
      "    accuracy                           0.80    298069\n",
      "   macro avg       0.52      0.79      0.49    298069\n",
      "weighted avg       0.99      0.80      0.88    298069\n",
      "\n",
      "   C_parameter Accuracy_score Precision_score Recall_score  F1_score  \\\n",
      "0            1       0.804294        0.042429     0.780973  0.080485   \n",
      "\n",
      "  roc_auc_score    pr_auc  \n",
      "0      0.872572  0.125288  \n"
     ]
    }
   ],
   "source": [
    "# Try the built in class_weight='balanced'\n",
    "\n",
    "table = pd.DataFrame(columns = ['C_parameter','Accuracy_score', 'Precision_score', 'Recall_score', 'F1_score', 'roc_auc_score', 'pr_auc'])\n",
    "table['C_parameter'] = [1]\n",
    "\n",
    "# Apply logistic regression model to training data\n",
    "logreg = LogisticRegression(penalty='l2', C=1, class_weight='balanced', random_state=47, max_iter=1000)\n",
    "logreg.fit(X_train, y_train)\n",
    "\n",
    "# Predict and save to y_pred\n",
    "y_pred = logreg.predict(X_test)\n",
    "y_score = logreg.predict_proba(X_test)[:, 1]\n",
    "\n",
    "# Save score values in table\n",
    "table.iloc[0, 1] = accuracy_score(y_test, y_pred)\n",
    "table.iloc[0, 2] = precision_score(y_test, y_pred)\n",
    "table.iloc[0, 3] = recall_score(y_test, y_pred)\n",
    "table.iloc[0, 4] = f1_score(y_test, y_pred)\n",
    "table.iloc[0, 5] = roc_auc_score(y_test, y_score)\n",
    "\n",
    "# Compute the precision-recall curve\n",
    "precision, recall, thresholds = precision_recall_curve(y_test, y_score)\n",
    "# Compute the area under precision-recall curve (pr_auc)\n",
    "table.iloc[0, 6] = auc(recall, precision)\n",
    "\n",
    "# Print confusion matrix\n",
    "print(confusion_matrix(y_test, y_pred))\n",
    "print(classification_report(y_test, y_pred))\n",
    "\n",
    "# Print score values\n",
    "print(table)\n"
   ]
  },
  {
   "cell_type": "markdown",
   "metadata": {},
   "source": [
    "With the built in 'balanced' class_weight, Recall score increased to 0.78, but Precision decreased to 0.04 as false positive number also increased a lot. F1 score improved to 0.08, better still poor. Accuracy score and roc_auc score doesn't seem to be good choices for inbalanced data classification in the current model. F1 score and pr_auc may be more useful metrics."
   ]
  },
  {
   "cell_type": "code",
   "execution_count": 23,
   "metadata": {},
   "outputs": [
    {
     "data": {
      "text/html": [
       "<style>#sk-container-id-1 {color: black;background-color: white;}#sk-container-id-1 pre{padding: 0;}#sk-container-id-1 div.sk-toggleable {background-color: white;}#sk-container-id-1 label.sk-toggleable__label {cursor: pointer;display: block;width: 100%;margin-bottom: 0;padding: 0.3em;box-sizing: border-box;text-align: center;}#sk-container-id-1 label.sk-toggleable__label-arrow:before {content: \"▸\";float: left;margin-right: 0.25em;color: #696969;}#sk-container-id-1 label.sk-toggleable__label-arrow:hover:before {color: black;}#sk-container-id-1 div.sk-estimator:hover label.sk-toggleable__label-arrow:before {color: black;}#sk-container-id-1 div.sk-toggleable__content {max-height: 0;max-width: 0;overflow: hidden;text-align: left;background-color: #f0f8ff;}#sk-container-id-1 div.sk-toggleable__content pre {margin: 0.2em;color: black;border-radius: 0.25em;background-color: #f0f8ff;}#sk-container-id-1 input.sk-toggleable__control:checked~div.sk-toggleable__content {max-height: 200px;max-width: 100%;overflow: auto;}#sk-container-id-1 input.sk-toggleable__control:checked~label.sk-toggleable__label-arrow:before {content: \"▾\";}#sk-container-id-1 div.sk-estimator input.sk-toggleable__control:checked~label.sk-toggleable__label {background-color: #d4ebff;}#sk-container-id-1 div.sk-label input.sk-toggleable__control:checked~label.sk-toggleable__label {background-color: #d4ebff;}#sk-container-id-1 input.sk-hidden--visually {border: 0;clip: rect(1px 1px 1px 1px);clip: rect(1px, 1px, 1px, 1px);height: 1px;margin: -1px;overflow: hidden;padding: 0;position: absolute;width: 1px;}#sk-container-id-1 div.sk-estimator {font-family: monospace;background-color: #f0f8ff;border: 1px dotted black;border-radius: 0.25em;box-sizing: border-box;margin-bottom: 0.5em;}#sk-container-id-1 div.sk-estimator:hover {background-color: #d4ebff;}#sk-container-id-1 div.sk-parallel-item::after {content: \"\";width: 100%;border-bottom: 1px solid gray;flex-grow: 1;}#sk-container-id-1 div.sk-label:hover label.sk-toggleable__label {background-color: #d4ebff;}#sk-container-id-1 div.sk-serial::before {content: \"\";position: absolute;border-left: 1px solid gray;box-sizing: border-box;top: 0;bottom: 0;left: 50%;z-index: 0;}#sk-container-id-1 div.sk-serial {display: flex;flex-direction: column;align-items: center;background-color: white;padding-right: 0.2em;padding-left: 0.2em;position: relative;}#sk-container-id-1 div.sk-item {position: relative;z-index: 1;}#sk-container-id-1 div.sk-parallel {display: flex;align-items: stretch;justify-content: center;background-color: white;position: relative;}#sk-container-id-1 div.sk-item::before, #sk-container-id-1 div.sk-parallel-item::before {content: \"\";position: absolute;border-left: 1px solid gray;box-sizing: border-box;top: 0;bottom: 0;left: 50%;z-index: -1;}#sk-container-id-1 div.sk-parallel-item {display: flex;flex-direction: column;z-index: 1;position: relative;background-color: white;}#sk-container-id-1 div.sk-parallel-item:first-child::after {align-self: flex-end;width: 50%;}#sk-container-id-1 div.sk-parallel-item:last-child::after {align-self: flex-start;width: 50%;}#sk-container-id-1 div.sk-parallel-item:only-child::after {width: 0;}#sk-container-id-1 div.sk-dashed-wrapped {border: 1px dashed gray;margin: 0 0.4em 0.5em 0.4em;box-sizing: border-box;padding-bottom: 0.4em;background-color: white;}#sk-container-id-1 div.sk-label label {font-family: monospace;font-weight: bold;display: inline-block;line-height: 1.2em;}#sk-container-id-1 div.sk-label-container {text-align: center;}#sk-container-id-1 div.sk-container {/* jupyter's `normalize.less` sets `[hidden] { display: none; }` but bootstrap.min.css set `[hidden] { display: none !important; }` so we also need the `!important` here to be able to override the default hidden behavior on the sphinx rendered scikit-learn.org. See: https://github.com/scikit-learn/scikit-learn/issues/21755 */display: inline-block !important;position: relative;}#sk-container-id-1 div.sk-text-repr-fallback {display: none;}</style><div id=\"sk-container-id-1\" class=\"sk-top-container\"><div class=\"sk-text-repr-fallback\"><pre>GridSearchCV(cv=5,\n",
       "             estimator=LogisticRegression(max_iter=100000, random_state=47),\n",
       "             n_jobs=-1,\n",
       "             param_grid={&#x27;C&#x27;: [0.001, 0.01, 0.1, 1, 10, 100],\n",
       "                         &#x27;class_weight&#x27;: [{0: 0.001, 1: 0.999},\n",
       "                                          {0: 0.005, 1: 0.995},\n",
       "                                          {0: 0.01, 1: 0.99},\n",
       "                                          {0: 0.02, 1: 0.98}, {0: 0.1, 1: 0.9},\n",
       "                                          {0: 0.2, 1: 0.8}],\n",
       "                         &#x27;solver&#x27;: [&#x27;lbfgs&#x27;, &#x27;newton-cg&#x27;, &#x27;newton-cholesky&#x27;,\n",
       "                                    &#x27;sag&#x27;, &#x27;saga&#x27;]},\n",
       "             scoring=&#x27;f1&#x27;)</pre><b>In a Jupyter environment, please rerun this cell to show the HTML representation or trust the notebook. <br />On GitHub, the HTML representation is unable to render, please try loading this page with nbviewer.org.</b></div><div class=\"sk-container\" hidden><div class=\"sk-item sk-dashed-wrapped\"><div class=\"sk-label-container\"><div class=\"sk-label sk-toggleable\"><input class=\"sk-toggleable__control sk-hidden--visually\" id=\"sk-estimator-id-1\" type=\"checkbox\" ><label for=\"sk-estimator-id-1\" class=\"sk-toggleable__label sk-toggleable__label-arrow\">GridSearchCV</label><div class=\"sk-toggleable__content\"><pre>GridSearchCV(cv=5,\n",
       "             estimator=LogisticRegression(max_iter=100000, random_state=47),\n",
       "             n_jobs=-1,\n",
       "             param_grid={&#x27;C&#x27;: [0.001, 0.01, 0.1, 1, 10, 100],\n",
       "                         &#x27;class_weight&#x27;: [{0: 0.001, 1: 0.999},\n",
       "                                          {0: 0.005, 1: 0.995},\n",
       "                                          {0: 0.01, 1: 0.99},\n",
       "                                          {0: 0.02, 1: 0.98}, {0: 0.1, 1: 0.9},\n",
       "                                          {0: 0.2, 1: 0.8}],\n",
       "                         &#x27;solver&#x27;: [&#x27;lbfgs&#x27;, &#x27;newton-cg&#x27;, &#x27;newton-cholesky&#x27;,\n",
       "                                    &#x27;sag&#x27;, &#x27;saga&#x27;]},\n",
       "             scoring=&#x27;f1&#x27;)</pre></div></div></div><div class=\"sk-parallel\"><div class=\"sk-parallel-item\"><div class=\"sk-item\"><div class=\"sk-label-container\"><div class=\"sk-label sk-toggleable\"><input class=\"sk-toggleable__control sk-hidden--visually\" id=\"sk-estimator-id-2\" type=\"checkbox\" ><label for=\"sk-estimator-id-2\" class=\"sk-toggleable__label sk-toggleable__label-arrow\">estimator: LogisticRegression</label><div class=\"sk-toggleable__content\"><pre>LogisticRegression(max_iter=100000, random_state=47)</pre></div></div></div><div class=\"sk-serial\"><div class=\"sk-item\"><div class=\"sk-estimator sk-toggleable\"><input class=\"sk-toggleable__control sk-hidden--visually\" id=\"sk-estimator-id-3\" type=\"checkbox\" ><label for=\"sk-estimator-id-3\" class=\"sk-toggleable__label sk-toggleable__label-arrow\">LogisticRegression</label><div class=\"sk-toggleable__content\"><pre>LogisticRegression(max_iter=100000, random_state=47)</pre></div></div></div></div></div></div></div></div></div></div>"
      ],
      "text/plain": [
       "GridSearchCV(cv=5,\n",
       "             estimator=LogisticRegression(max_iter=100000, random_state=47),\n",
       "             n_jobs=-1,\n",
       "             param_grid={'C': [0.001, 0.01, 0.1, 1, 10, 100],\n",
       "                         'class_weight': [{0: 0.001, 1: 0.999},\n",
       "                                          {0: 0.005, 1: 0.995},\n",
       "                                          {0: 0.01, 1: 0.99},\n",
       "                                          {0: 0.02, 1: 0.98}, {0: 0.1, 1: 0.9},\n",
       "                                          {0: 0.2, 1: 0.8}],\n",
       "                         'solver': ['lbfgs', 'newton-cg', 'newton-cholesky',\n",
       "                                    'sag', 'saga']},\n",
       "             scoring='f1')"
      ]
     },
     "execution_count": 23,
     "metadata": {},
     "output_type": "execute_result"
    }
   ],
   "source": [
    "# Hyperparameter GridSearch for better parameters.\n",
    "# penalty, C, class_weight, and solver will be tried.\n",
    "\n",
    "from sklearn.model_selection import GridSearchCV\n",
    "\n",
    "param_grid = {'C': [0.001, 0.01, 0.1, 1, 10, 100],\n",
    "              'class_weight': [{0:0.001, 1:0.999}, {0:0.005, 1:0.995}, {0:0.01, 1:0.99}, \n",
    "                               {0:0.02, 1:0.98}, {0:0.1, 1:0.9}, {0:0.2, 1:0.8}], \n",
    "              'solver': ['lbfgs', 'newton-cg', 'newton-cholesky', 'sag', 'saga']\n",
    "              }\n",
    "\n",
    "logreg = LogisticRegression(penalty='l2', random_state=47, max_iter=100000)\n",
    "\n",
    "cv = GridSearchCV(logreg, param_grid, scoring='f1', cv=5, n_jobs=-1)\n",
    "cv.fit(X_train, y_train)\n"
   ]
  },
  {
   "cell_type": "code",
   "execution_count": 24,
   "metadata": {},
   "outputs": [
    {
     "name": "stdout",
     "output_type": "stream",
     "text": [
      "Best score: 0.21037044297173818\n",
      "Best parameters: {'C': 0.1, 'class_weight': {0: 0.1, 1: 0.9}, 'solver': 'lbfgs'}\n"
     ]
    }
   ],
   "source": [
    "print(f'Best score: {cv.best_score_}')\n",
    "print(f'Best parameters: {cv.best_params_}')"
   ]
  },
  {
   "cell_type": "code",
   "execution_count": 26,
   "metadata": {},
   "outputs": [
    {
     "data": {
      "text/html": [
       "<style>#sk-container-id-2 {color: black;background-color: white;}#sk-container-id-2 pre{padding: 0;}#sk-container-id-2 div.sk-toggleable {background-color: white;}#sk-container-id-2 label.sk-toggleable__label {cursor: pointer;display: block;width: 100%;margin-bottom: 0;padding: 0.3em;box-sizing: border-box;text-align: center;}#sk-container-id-2 label.sk-toggleable__label-arrow:before {content: \"▸\";float: left;margin-right: 0.25em;color: #696969;}#sk-container-id-2 label.sk-toggleable__label-arrow:hover:before {color: black;}#sk-container-id-2 div.sk-estimator:hover label.sk-toggleable__label-arrow:before {color: black;}#sk-container-id-2 div.sk-toggleable__content {max-height: 0;max-width: 0;overflow: hidden;text-align: left;background-color: #f0f8ff;}#sk-container-id-2 div.sk-toggleable__content pre {margin: 0.2em;color: black;border-radius: 0.25em;background-color: #f0f8ff;}#sk-container-id-2 input.sk-toggleable__control:checked~div.sk-toggleable__content {max-height: 200px;max-width: 100%;overflow: auto;}#sk-container-id-2 input.sk-toggleable__control:checked~label.sk-toggleable__label-arrow:before {content: \"▾\";}#sk-container-id-2 div.sk-estimator input.sk-toggleable__control:checked~label.sk-toggleable__label {background-color: #d4ebff;}#sk-container-id-2 div.sk-label input.sk-toggleable__control:checked~label.sk-toggleable__label {background-color: #d4ebff;}#sk-container-id-2 input.sk-hidden--visually {border: 0;clip: rect(1px 1px 1px 1px);clip: rect(1px, 1px, 1px, 1px);height: 1px;margin: -1px;overflow: hidden;padding: 0;position: absolute;width: 1px;}#sk-container-id-2 div.sk-estimator {font-family: monospace;background-color: #f0f8ff;border: 1px dotted black;border-radius: 0.25em;box-sizing: border-box;margin-bottom: 0.5em;}#sk-container-id-2 div.sk-estimator:hover {background-color: #d4ebff;}#sk-container-id-2 div.sk-parallel-item::after {content: \"\";width: 100%;border-bottom: 1px solid gray;flex-grow: 1;}#sk-container-id-2 div.sk-label:hover label.sk-toggleable__label {background-color: #d4ebff;}#sk-container-id-2 div.sk-serial::before {content: \"\";position: absolute;border-left: 1px solid gray;box-sizing: border-box;top: 0;bottom: 0;left: 50%;z-index: 0;}#sk-container-id-2 div.sk-serial {display: flex;flex-direction: column;align-items: center;background-color: white;padding-right: 0.2em;padding-left: 0.2em;position: relative;}#sk-container-id-2 div.sk-item {position: relative;z-index: 1;}#sk-container-id-2 div.sk-parallel {display: flex;align-items: stretch;justify-content: center;background-color: white;position: relative;}#sk-container-id-2 div.sk-item::before, #sk-container-id-2 div.sk-parallel-item::before {content: \"\";position: absolute;border-left: 1px solid gray;box-sizing: border-box;top: 0;bottom: 0;left: 50%;z-index: -1;}#sk-container-id-2 div.sk-parallel-item {display: flex;flex-direction: column;z-index: 1;position: relative;background-color: white;}#sk-container-id-2 div.sk-parallel-item:first-child::after {align-self: flex-end;width: 50%;}#sk-container-id-2 div.sk-parallel-item:last-child::after {align-self: flex-start;width: 50%;}#sk-container-id-2 div.sk-parallel-item:only-child::after {width: 0;}#sk-container-id-2 div.sk-dashed-wrapped {border: 1px dashed gray;margin: 0 0.4em 0.5em 0.4em;box-sizing: border-box;padding-bottom: 0.4em;background-color: white;}#sk-container-id-2 div.sk-label label {font-family: monospace;font-weight: bold;display: inline-block;line-height: 1.2em;}#sk-container-id-2 div.sk-label-container {text-align: center;}#sk-container-id-2 div.sk-container {/* jupyter's `normalize.less` sets `[hidden] { display: none; }` but bootstrap.min.css set `[hidden] { display: none !important; }` so we also need the `!important` here to be able to override the default hidden behavior on the sphinx rendered scikit-learn.org. See: https://github.com/scikit-learn/scikit-learn/issues/21755 */display: inline-block !important;position: relative;}#sk-container-id-2 div.sk-text-repr-fallback {display: none;}</style><div id=\"sk-container-id-2\" class=\"sk-top-container\"><div class=\"sk-text-repr-fallback\"><pre>LogisticRegression(C=0.1, class_weight={0: 0.1, 1: 0.9}, max_iter=100000,\n",
       "                   random_state=47)</pre><b>In a Jupyter environment, please rerun this cell to show the HTML representation or trust the notebook. <br />On GitHub, the HTML representation is unable to render, please try loading this page with nbviewer.org.</b></div><div class=\"sk-container\" hidden><div class=\"sk-item\"><div class=\"sk-estimator sk-toggleable\"><input class=\"sk-toggleable__control sk-hidden--visually\" id=\"sk-estimator-id-4\" type=\"checkbox\" checked><label for=\"sk-estimator-id-4\" class=\"sk-toggleable__label sk-toggleable__label-arrow\">LogisticRegression</label><div class=\"sk-toggleable__content\"><pre>LogisticRegression(C=0.1, class_weight={0: 0.1, 1: 0.9}, max_iter=100000,\n",
       "                   random_state=47)</pre></div></div></div></div></div>"
      ],
      "text/plain": [
       "LogisticRegression(C=0.1, class_weight={0: 0.1, 1: 0.9}, max_iter=100000,\n",
       "                   random_state=47)"
      ]
     },
     "execution_count": 26,
     "metadata": {},
     "output_type": "execute_result"
    }
   ],
   "source": [
    "cv.best_estimator_"
   ]
  },
  {
   "cell_type": "markdown",
   "metadata": {},
   "source": [
    "We will use the best parameters found by GridSearchCV to apply logistic regression model for result."
   ]
  },
  {
   "cell_type": "code",
   "execution_count": 11,
   "metadata": {},
   "outputs": [
    {
     "name": "stdout",
     "output_type": "stream",
     "text": [
      "[[290285   4515]\n",
      " [  2399    870]]\n",
      "              precision    recall  f1-score   support\n",
      "\n",
      "           0       0.99      0.98      0.99    294800\n",
      "           1       0.16      0.27      0.20      3269\n",
      "\n",
      "    accuracy                           0.98    298069\n",
      "   macro avg       0.58      0.63      0.59    298069\n",
      "weighted avg       0.98      0.98      0.98    298069\n",
      "\n",
      "   C_parameter Accuracy_score Precision_score Recall_score  F1_score  \\\n",
      "0          0.1       0.976804         0.16156     0.266136  0.201063   \n",
      "\n",
      "  roc_auc_score    pr_auc  \n",
      "0       0.87217  0.128743  \n"
     ]
    }
   ],
   "source": [
    "# Use best parameters: {'C': 0.1, 'class_weight': {0: 0.1, 1: 0.9}, 'solver': 'lbfgs'}\n",
    "\n",
    "table = pd.DataFrame(columns = ['C_parameter','Accuracy_score', 'Precision_score', 'Recall_score', 'F1_score', 'roc_auc_score', 'pr_auc'])\n",
    "table['C_parameter'] = [0.1]\n",
    "\n",
    "# Apply logistic regression model to training data\n",
    "logreg = LogisticRegression(penalty='l2', C=1, class_weight={0: 0.1, 1: 0.9}, solver='lbfgs', random_state=47, max_iter=1000)\n",
    "logreg.fit(X_train, y_train)\n",
    "\n",
    "# Predict and save to y_pred\n",
    "y_pred = logreg.predict(X_test)\n",
    "y_score = logreg.predict_proba(X_test)[:, 1]\n",
    "\n",
    "# Save score values in table\n",
    "table.iloc[0, 1] = accuracy_score(y_test, y_pred)\n",
    "table.iloc[0, 2] = precision_score(y_test, y_pred)\n",
    "table.iloc[0, 3] = recall_score(y_test, y_pred)\n",
    "table.iloc[0, 4] = f1_score(y_test, y_pred)\n",
    "table.iloc[0, 5] = roc_auc_score(y_test, y_score)\n",
    "\n",
    "# Compute the precision-recall curve\n",
    "precision, recall, thresholds = precision_recall_curve(y_test, y_score)\n",
    "# Compute the area under precision-recall curve (pr_auc)\n",
    "table.iloc[0, 6] = auc(recall, precision)\n",
    "\n",
    "# Print confusion matrix\n",
    "print(confusion_matrix(y_test, y_pred))\n",
    "print(classification_report(y_test, y_pred))\n",
    "\n",
    "# Print score values\n",
    "print(table)"
   ]
  },
  {
   "cell_type": "markdown",
   "metadata": {},
   "source": [
    "While F1 score is 0.201, Recall and Precision are both low. Let's visulize the result the ROC curve and Precision Recall curve."
   ]
  },
  {
   "cell_type": "code",
   "execution_count": 12,
   "metadata": {},
   "outputs": [
    {
     "data": {
      "image/png": "[encoded data removed]",
      "text/plain": [
       "<Figure size 640x480 with 1 Axes>"
      ]
     },
     "metadata": {},
     "output_type": "display_data"
    },
    {
     "data": {
      "image/png": "[encoded data removed]",
      "text/plain": [
       "<Figure size 640x480 with 1 Axes>"
      ]
     },
     "metadata": {},
     "output_type": "display_data"
    }
   ],
   "source": [
    "import matplotlib.pyplot as plt\n",
    "\n",
    "fpr, tpr, thd = roc_curve(y_test, y_score)\n",
    "\n",
    "# ROC curve\n",
    "plt.plot([0, 1], [0, 1], linestyle='--')\n",
    "plt.plot(fpr, tpr, marker='.', markersize=1.5, label='LogisticRegression')\n",
    "\n",
    "plt.xlabel('False Positive Rate')\n",
    "plt.ylabel('True Positive Rate')\n",
    "\n",
    "plt.legend()\n",
    "plt.show()\n",
    "\n",
    "# Precision recall curve\n",
    "plt.plot([0, 1], [1, 0], linestyle='--')\n",
    "plt.plot(recall, precision, marker='.', markersize=1.5, label='LogisticRegression')\n",
    "\n",
    "plt.xlabel('Recall')\n",
    "plt.ylabel('Precision')\n",
    "\n",
    "plt.legend()\n",
    "plt.show()"
   ]
  },
  {
   "cell_type": "markdown",
   "metadata": {},
   "source": [
    "From the above two charts, we can see that ROC curve doesn't show the impact of class inbalance. Precision recall curve may be better to use."
   ]
  },
  {
   "cell_type": "markdown",
   "metadata": {},
   "source": [
    "### 5.4.2 K-Nearest neighbor (KNN)"
   ]
  },
  {
   "cell_type": "code",
   "execution_count": 14,
   "metadata": {},
   "outputs": [
    {
     "name": "stderr",
     "output_type": "stream",
     "text": [
      "/home/ematrix/miniconda3/envs/datascience/lib/python3.11/site-packages/sklearn/metrics/_classification.py:1344: UndefinedMetricWarning: Precision is ill-defined and being set to 0.0 due to no predicted samples. Use `zero_division` parameter to control this behavior.\n",
      "  _warn_prf(average, modifier, msg_start, len(result))\n"
     ]
    },
    {
     "name": "stdout",
     "output_type": "stream",
     "text": [
      "[[294800      0]\n",
      " [  3269      0]]\n"
     ]
    },
    {
     "name": "stderr",
     "output_type": "stream",
     "text": [
      "/home/ematrix/miniconda3/envs/datascience/lib/python3.11/site-packages/sklearn/metrics/_classification.py:1344: UndefinedMetricWarning: Precision and F-score are ill-defined and being set to 0.0 in labels with no predicted samples. Use `zero_division` parameter to control this behavior.\n",
      "  _warn_prf(average, modifier, msg_start, len(result))\n",
      "/home/ematrix/miniconda3/envs/datascience/lib/python3.11/site-packages/sklearn/metrics/_classification.py:1344: UndefinedMetricWarning: Precision and F-score are ill-defined and being set to 0.0 in labels with no predicted samples. Use `zero_division` parameter to control this behavior.\n",
      "  _warn_prf(average, modifier, msg_start, len(result))\n"
     ]
    },
    {
     "name": "stdout",
     "output_type": "stream",
     "text": [
      "              precision    recall  f1-score   support\n",
      "\n",
      "           0       0.99      1.00      0.99    294800\n",
      "           1       0.00      0.00      0.00      3269\n",
      "\n",
      "    accuracy                           0.99    298069\n",
      "   macro avg       0.49      0.50      0.50    298069\n",
      "weighted avg       0.98      0.99      0.98    298069\n",
      "\n",
      "   n_neighbors Accuracy_score Precision_score Recall_score F1_score  \\\n",
      "0           50       0.989033             0.0          0.0      0.0   \n",
      "\n",
      "  roc_auc_score    pr_auc  \n",
      "0      0.770316  0.092424  \n"
     ]
    },
    {
     "name": "stderr",
     "output_type": "stream",
     "text": [
      "/home/ematrix/miniconda3/envs/datascience/lib/python3.11/site-packages/sklearn/metrics/_classification.py:1344: UndefinedMetricWarning: Precision and F-score are ill-defined and being set to 0.0 in labels with no predicted samples. Use `zero_division` parameter to control this behavior.\n",
      "  _warn_prf(average, modifier, msg_start, len(result))\n"
     ]
    }
   ],
   "source": [
    "from sklearn.neighbors import KNeighborsClassifier\n",
    "\n",
    "table = pd.DataFrame(columns = ['n_neighbors','Accuracy_score', 'Precision_score', 'Recall_score', 'F1_score', 'roc_auc_score', 'pr_auc'])\n",
    "table['n_neighbors'] = [50]\n",
    "\n",
    "# Apply KNN model to the training data\n",
    "# knn = KNeighborsClassifier(n_neighbors=50, weights='distance', p=2, metric='minkowski', n_jobs=-1)\n",
    "knn = KNeighborsClassifier(n_neighbors=50, weights='distance', p=2)\n",
    "knn.fit(X_train, y_train)\n",
    "\n",
    "# Predict and save to y_pred\n",
    "y_pred = knn.predict(X_test)\n",
    "y_score = knn.predict_proba(X_test)[:, 1]\n",
    "\n",
    "# Save score values in table\n",
    "table.iloc[0, 1] = accuracy_score(y_test, y_pred)\n",
    "table.iloc[0, 2] = precision_score(y_test, y_pred)\n",
    "table.iloc[0, 3] = recall_score(y_test, y_pred)\n",
    "table.iloc[0, 4] = f1_score(y_test, y_pred)\n",
    "table.iloc[0, 5] = roc_auc_score(y_test, y_score)\n",
    "\n",
    "# Compute the precision-recall curve\n",
    "precision, recall, thresholds = precision_recall_curve(y_test, y_score)\n",
    "# Compute the area under precision-recall curve (pr_auc)\n",
    "table.iloc[0, 6] = auc(recall, precision)\n",
    "\n",
    "# Print confusion matrix\n",
    "print(confusion_matrix(y_test, y_pred))\n",
    "print(classification_report(y_test, y_pred))\n",
    "\n",
    "# Print score values\n",
    "print(table)"
   ]
  },
  {
   "cell_type": "markdown",
   "metadata": {},
   "source": [
    "It seems KNN modeling doesn't work well on the current data set. Is it possible for Recall and Precision bother to be 0? Need to discuss with Mentor and try different upsampling or different parameters with KNN and try again."
   ]
  },
  {
   "cell_type": "markdown",
   "metadata": {},
   "source": [
    "### 5.4.3 Random Forest"
   ]
  },
  {
   "cell_type": "code",
   "execution_count": 18,
   "metadata": {},
   "outputs": [
    {
     "name": "stdout",
     "output_type": "stream",
     "text": [
      "[[294797      3]\n",
      " [  3263      6]]\n",
      "              precision    recall  f1-score   support\n",
      "\n",
      "           0       0.99      1.00      0.99    294800\n",
      "           1       0.67      0.00      0.00      3269\n",
      "\n",
      "    accuracy                           0.99    298069\n",
      "   macro avg       0.83      0.50      0.50    298069\n",
      "weighted avg       0.99      0.99      0.98    298069\n",
      "\n",
      "  criterion Accuracy_score Precision_score Recall_score  F1_score  \\\n",
      "0   entropy       0.989043        0.666667     0.001835  0.003661   \n",
      "\n",
      "  roc_auc_score    pr_auc  \n",
      "0      0.832728  0.127872  \n"
     ]
    }
   ],
   "source": [
    "from sklearn.ensemble import RandomForestClassifier\n",
    "\n",
    "table = pd.DataFrame(columns = ['criterion','Accuracy_score', 'Precision_score', 'Recall_score', 'F1_score', 'roc_auc_score', 'pr_auc'])\n",
    "table['criterion'] = ['entropy']\n",
    "\n",
    "# Apply RandomForestClassifier to training data\n",
    "rfc = RandomForestClassifier(criterion='entropy', random_state=47, n_jobs=-1, class_weight='balanced')\n",
    "rfc.fit(X_train, y_train)\n",
    "\n",
    "# Predict and save to y_pred\n",
    "y_pred = rfc.predict(X_test)\n",
    "y_score = rfc.predict_proba(X_test)[:, 1]\n",
    "\n",
    "# Save score values in table\n",
    "table.iloc[0, 1] = accuracy_score(y_test, y_pred)\n",
    "table.iloc[0, 2] = precision_score(y_test, y_pred)\n",
    "table.iloc[0, 3] = recall_score(y_test, y_pred)\n",
    "table.iloc[0, 4] = f1_score(y_test, y_pred)\n",
    "table.iloc[0, 5] = roc_auc_score(y_test, y_score)\n",
    "\n",
    "# Compute the precision-recall curve\n",
    "precision, recall, thresholds = precision_recall_curve(y_test, y_score)\n",
    "# Compute the area under precision-recall curve (pr_auc)\n",
    "table.iloc[0, 6] = auc(recall, precision)\n",
    "\n",
    "# Print confusion matrix\n",
    "print(confusion_matrix(y_test, y_pred))\n",
    "print(classification_report(y_test, y_pred))\n",
    "\n",
    "# Print score values\n",
    "print(table)\n"
   ]
  },
  {
   "cell_type": "code",
   "execution_count": 19,
   "metadata": {},
   "outputs": [
    {
     "data": {
      "image/png": "[encoded data removed]",
      "text/plain": [
       "<Figure size 640x480 with 1 Axes>"
      ]
     },
     "metadata": {},
     "output_type": "display_data"
    }
   ],
   "source": [
    "# Precision recall curve\n",
    "plt.plot([0, 1], [1, 0], linestyle='--')\n",
    "plt.plot(recall, precision, marker='.', markersize=1.5, label='RandomForestClassifier')\n",
    "\n",
    "plt.xlabel('Recall')\n",
    "plt.ylabel('Precision')\n",
    "\n",
    "plt.legend()\n",
    "plt.show()"
   ]
  },
  {
   "cell_type": "code",
   "execution_count": 21,
   "metadata": {},
   "outputs": [
    {
     "name": "stdout",
     "output_type": "stream",
     "text": [
      "cross validation train scores: [0.00258398 0.00129366 0.00773694 0.00129116 0.00514801]\n",
      "Mean cross validation train score: 0.0036107490056754336\n",
      "Standard deviation of cv train scores: 0.0024976912126122267\n"
     ]
    }
   ],
   "source": [
    "from sklearn.model_selection import cross_val_score\n",
    "\n",
    "cv_scores_train= cross_val_score(rfc, X_train, y_train, scoring='f1', cv=5, n_jobs=-1)\n",
    "# cv_scores_test= cross_val_score(rfc, X_test, y_test, scoring='f1', cv=5, n_jobs=-1)\n",
    "print(f'cross validation train scores: {cv_scores_train}')\n",
    "# print(f'cross validation test scores: {cv_scores_test}')\n",
    "cv_scores_rf_train= cv_scores_train.mean()\n",
    "# cv_scores_rf_test= cv_scores_test.mean()\n",
    "cv_scores_rf_train_std= cv_scores_train.std()\n",
    "# cv_scores_std_rf= cv_scores_test.std()\n",
    "print (f'Mean cross validation train score: {cv_scores_rf_train}')\n",
    "print (f'Standard deviation of cv train scores: {cv_scores_rf_train_std}')\n",
    "# print (f'Mean cross validation test score: {cv_scores_rf_test}')\n"
   ]
  },
  {
   "cell_type": "markdown",
   "metadata": {},
   "source": [
    "When using F1 score as the metrics, the cross validation scores on train data varied with relatively big deviation."
   ]
  },
  {
   "cell_type": "markdown",
   "metadata": {},
   "source": [
    "### 5.4.4 Gradient Boost"
   ]
  },
  {
   "cell_type": "code",
   "execution_count": 22,
   "metadata": {},
   "outputs": [
    {
     "name": "stdout",
     "output_type": "stream",
     "text": [
      "[[293355   1445]\n",
      " [  3068    201]]\n",
      "              precision    recall  f1-score   support\n",
      "\n",
      "           0       0.99      1.00      0.99    294800\n",
      "           1       0.12      0.06      0.08      3269\n",
      "\n",
      "    accuracy                           0.98    298069\n",
      "   macro avg       0.56      0.53      0.54    298069\n",
      "weighted avg       0.98      0.98      0.98    298069\n",
      "\n",
      "              model Accuracy_score Precision_score Recall_score F1_score  \\\n",
      "0  GradientBoosting       0.984859        0.122114     0.061487  0.08179   \n",
      "\n",
      "  roc_auc_score    pr_auc  \n",
      "0      0.877752  0.089802  \n"
     ]
    }
   ],
   "source": [
    "from sklearn.ensemble import GradientBoostingClassifier\n",
    "\n",
    "table = pd.DataFrame(columns = ['model','Accuracy_score', 'Precision_score', 'Recall_score', 'F1_score', 'roc_auc_score', 'pr_auc'])\n",
    "table['model'] = ['GradientBoosting']\n",
    "\n",
    "gbc = GradientBoostingClassifier(learning_rate=0.1, n_estimators=150, subsample=0.8, max_depth=10, random_state=47)\n",
    "gbc.fit(X_train, y_train)\n",
    "\n",
    "# Predict and save to y_pred\n",
    "y_pred = gbc.predict(X_test)\n",
    "y_score = gbc.predict_proba(X_test)[:, 1]\n",
    "\n",
    "# Save score values in table\n",
    "table.iloc[0, 1] = accuracy_score(y_test, y_pred)\n",
    "table.iloc[0, 2] = precision_score(y_test, y_pred)\n",
    "table.iloc[0, 3] = recall_score(y_test, y_pred)\n",
    "table.iloc[0, 4] = f1_score(y_test, y_pred)\n",
    "table.iloc[0, 5] = roc_auc_score(y_test, y_score)\n",
    "\n",
    "# Compute the precision-recall curve\n",
    "precision, recall, thresholds = precision_recall_curve(y_test, y_score)\n",
    "# Compute the area under precision-recall curve (pr_auc)\n",
    "table.iloc[0, 6] = auc(recall, precision)\n",
    "\n",
    "# Print confusion matrix\n",
    "print(confusion_matrix(y_test, y_pred))\n",
    "print(classification_report(y_test, y_pred))\n",
    "\n",
    "# Print score values\n",
    "print(table)\n"
   ]
  },
  {
   "cell_type": "code",
   "execution_count": 24,
   "metadata": {},
   "outputs": [
    {
     "data": {
      "image/png": "[encoded data removed]",
      "text/plain": [
       "<Figure size 640x480 with 1 Axes>"
      ]
     },
     "metadata": {},
     "output_type": "display_data"
    }
   ],
   "source": [
    "# Precision recall curve\n",
    "plt.plot([0, 1], [1, 0], linestyle='--')\n",
    "plt.plot(recall, precision, marker='.', markersize=1.5, label='GradientBoosting')\n",
    "\n",
    "plt.xlabel('Recall')\n",
    "plt.ylabel('Precision')\n",
    "\n",
    "plt.legend()\n",
    "plt.show()"
   ]
  },
  {
   "cell_type": "code",
   "execution_count": 23,
   "metadata": {},
   "outputs": [
    {
     "name": "stdout",
     "output_type": "stream",
     "text": [
      "cross validation train scores: [0.0793177  0.07705479 0.07017544 0.07839795 0.08490963]\n",
      "Mean cross validation train score: 0.07797110221487549\n",
      "Standard deviation of cv train scores: 0.0047275918429300545\n"
     ]
    }
   ],
   "source": [
    "\n",
    "cv_scores_train= cross_val_score(gbc, X_train, y_train, scoring='f1', cv=5, n_jobs=-1)\n",
    "# cv_scores_test= cross_val_score(gbc, X_test, y_test, scoring='f1', cv=5, n_jobs=-1)\n",
    "print(f'cross validation train scores: {cv_scores_train}')\n",
    "# print(f'cross validation test scores: {cv_scores_test}')\n",
    "cv_scores_rf_train= cv_scores_train.mean()\n",
    "# cv_scores_rf_test= cv_scores_test.mean()\n",
    "cv_scores_rf_train_std= cv_scores_train.std()\n",
    "# cv_scores_std_rf= cv_scores_test.std()\n",
    "print (f'Mean cross validation train score: {cv_scores_rf_train}')\n",
    "print (f'Standard deviation of cv train scores: {cv_scores_rf_train_std}')\n",
    "# print (f'Mean cross validation test score: {cv_scores_rf_test}')"
   ]
  }
 ],
 "metadata": {
  "kernelspec": {
   "display_name": "notebook",
   "language": "python",
   "name": "python3"
  },
  "language_info": {
   "codemirror_mode": {
    "name": "ipython",
    "version": 3
   },
   "file_extension": ".py",
   "mimetype": "text/x-python",
   "name": "python",
   "nbconvert_exporter": "python",
   "pygments_lexer": "ipython3",
   "version": "3.11.5"
  }
 },
 "nbformat": 4,
 "nbformat_minor": 2
}

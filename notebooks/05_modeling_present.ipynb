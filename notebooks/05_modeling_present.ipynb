{
 "cells": [
  {
   "cell_type": "markdown",
   "metadata": {},
   "source": [
    "# 5. Modeling"
   ]
  },
  {
   "cell_type": "markdown",
   "metadata": {},
   "source": [
    "## 5.1 Imports"
   ]
  },
  {
   "cell_type": "code",
   "execution_count": 27,
   "metadata": {},
   "outputs": [],
   "source": [
    "import numpy as np\n",
    "import pandas as pd\n",
    "\n",
    "from sklearn.model_selection import train_test_split\n",
    "import os"
   ]
  },
  {
   "cell_type": "markdown",
   "metadata": {},
   "source": [
    "## 5.2 Load previously processed data"
   ]
  },
  {
   "cell_type": "code",
   "execution_count": 28,
   "metadata": {},
   "outputs": [],
   "source": [
    "# Intermediate data was saved as '../data/baf_cat_dummy_na_median_num_scaled.csv.gz' previously.\n",
    "baf_data = pd.read_csv('../data/baf_cat_dummy_na_median_num_scaled.csv.gz', compression='gzip')\n"
   ]
  },
  {
   "cell_type": "code",
   "execution_count": 29,
   "metadata": {},
   "outputs": [
    {
     "name": "stdout",
     "output_type": "stream",
     "text": [
      "<class 'pandas.core.frame.DataFrame'>\n",
      "RangeIndex: 993563 entries, 0 to 993562\n",
      "Data columns (total 53 columns):\n",
      " #   Column                            Non-Null Count   Dtype  \n",
      "---  ------                            --------------   -----  \n",
      " 0   fraud_bool                        993563 non-null  int64  \n",
      " 1   email_is_free                     993563 non-null  int64  \n",
      " 2   phone_home_valid                  993563 non-null  int64  \n",
      " 3   phone_mobile_valid                993563 non-null  int64  \n",
      " 4   has_other_cards                   993563 non-null  int64  \n",
      " 5   foreign_request                   993563 non-null  int64  \n",
      " 6   keep_alive_session                993563 non-null  int64  \n",
      " 7   payment_type_AA                   993563 non-null  int64  \n",
      " 8   payment_type_AB                   993563 non-null  int64  \n",
      " 9   payment_type_AC                   993563 non-null  int64  \n",
      " 10  payment_type_AD                   993563 non-null  int64  \n",
      " 11  payment_type_AE                   993563 non-null  int64  \n",
      " 12  employment_status_CA              993563 non-null  int64  \n",
      " 13  employment_status_CB              993563 non-null  int64  \n",
      " 14  employment_status_CC              993563 non-null  int64  \n",
      " 15  employment_status_CD              993563 non-null  int64  \n",
      " 16  employment_status_CE              993563 non-null  int64  \n",
      " 17  employment_status_CF              993563 non-null  int64  \n",
      " 18  employment_status_CG              993563 non-null  int64  \n",
      " 19  housing_status_BA                 993563 non-null  int64  \n",
      " 20  housing_status_BB                 993563 non-null  int64  \n",
      " 21  housing_status_BC                 993563 non-null  int64  \n",
      " 22  housing_status_BD                 993563 non-null  int64  \n",
      " 23  housing_status_BE                 993563 non-null  int64  \n",
      " 24  housing_status_BF                 993563 non-null  int64  \n",
      " 25  housing_status_BG                 993563 non-null  int64  \n",
      " 26  source_INTERNET                   993563 non-null  int64  \n",
      " 27  source_TELEAPP                    993563 non-null  int64  \n",
      " 28  device_os_linux                   993563 non-null  int64  \n",
      " 29  device_os_macintosh               993563 non-null  int64  \n",
      " 30  device_os_other                   993563 non-null  int64  \n",
      " 31  device_os_windows                 993563 non-null  int64  \n",
      " 32  device_os_x11                     993563 non-null  int64  \n",
      " 33  intended_balcon_amount_negative   993563 non-null  int64  \n",
      " 34  income                            993563 non-null  float64\n",
      " 35  name_email_similarity             993563 non-null  float64\n",
      " 36  prev_address_months_count         993563 non-null  float64\n",
      " 37  current_address_months_count      993563 non-null  float64\n",
      " 38  customer_age                      993563 non-null  float64\n",
      " 39  days_since_request                993563 non-null  float64\n",
      " 40  intended_balcon_amount            993563 non-null  float64\n",
      " 41  zip_count_4w                      993563 non-null  float64\n",
      " 42  velocity_6h                       993563 non-null  float64\n",
      " 43  velocity_24h                      993563 non-null  float64\n",
      " 44  velocity_4w                       993563 non-null  float64\n",
      " 45  bank_branch_count_8w              993563 non-null  float64\n",
      " 46  date_of_birth_distinct_emails_4w  993563 non-null  float64\n",
      " 47  credit_risk_score                 993563 non-null  float64\n",
      " 48  bank_months_count                 993563 non-null  float64\n",
      " 49  proposed_credit_limit             993563 non-null  float64\n",
      " 50  session_length_in_minutes         993563 non-null  float64\n",
      " 51  device_distinct_emails_8w         993563 non-null  float64\n",
      " 52  month                             993563 non-null  float64\n",
      "dtypes: float64(19), int64(34)\n",
      "memory usage: 401.8 MB\n"
     ]
    }
   ],
   "source": [
    "# Validate data types and non-null values.\n",
    "baf_data.info()"
   ]
  },
  {
   "cell_type": "code",
   "execution_count": 30,
   "metadata": {},
   "outputs": [
    {
     "name": "stdout",
     "output_type": "stream",
     "text": [
      "fraud_bool\n",
      "0    982568\n",
      "1     10995\n",
      "Name: count, dtype: int64\n",
      "fraud_bool=1 of all ratio:  0.011\n",
      "fraud_bool=0 of all ratio:  0.989\n"
     ]
    }
   ],
   "source": [
    "# Print target column `fraud_bool` value count\n",
    "print(baf_data['fraud_bool'].value_counts())\n",
    "# Print the pencentage of fraud instances of all records\n",
    "fraud_bool_1 = len(baf_data[baf_data['fraud_bool']==1]) / len(baf_data)\n",
    "fraud_bool_0 = len(baf_data[baf_data['fraud_bool']==0]) / len(baf_data)\n",
    "print(f'fraud_bool=1 of all ratio: {fraud_bool_1: .3f}')\n",
    "print(f'fraud_bool=0 of all ratio: {fraud_bool_0: .3f}')"
   ]
  },
  {
   "cell_type": "markdown",
   "metadata": {},
   "source": [
    "The fraud category is quite inbalanced. We need to consider it in later modeling."
   ]
  },
  {
   "cell_type": "markdown",
   "metadata": {},
   "source": [
    "## 5.3 Split data into training and testing subsets"
   ]
  },
  {
   "cell_type": "markdown",
   "metadata": {},
   "source": [
    "All the features will be used for modeling at the first step."
   ]
  },
  {
   "cell_type": "code",
   "execution_count": 31,
   "metadata": {},
   "outputs": [],
   "source": [
    "# split dataset into X_train, X_test, y_train, y_test\n",
    "X_train, X_test, y_train, y_test = train_test_split(baf_data.drop(columns='fraud_bool'), baf_data.fraud_bool, test_size=0.3, random_state=47)"
   ]
  },
  {
   "cell_type": "code",
   "execution_count": 32,
   "metadata": {},
   "outputs": [
    {
     "data": {
      "text/plain": [
       "((695494, 52), (298069, 52))"
      ]
     },
     "execution_count": 32,
     "metadata": {},
     "output_type": "execute_result"
    }
   ],
   "source": [
    "X_train.shape, X_test.shape"
   ]
  },
  {
   "cell_type": "code",
   "execution_count": 33,
   "metadata": {},
   "outputs": [
    {
     "data": {
      "text/plain": [
       "((695494,), (298069,))"
      ]
     },
     "execution_count": 33,
     "metadata": {},
     "output_type": "execute_result"
    }
   ],
   "source": [
    "y_train.shape, y_test.shape"
   ]
  },
  {
   "cell_type": "markdown",
   "metadata": {},
   "source": [
    "## 5.4 Applying the Machine Learning models"
   ]
  },
  {
   "cell_type": "markdown",
   "metadata": {},
   "source": [
    "Fraud or not is a classification problem. The following supervised learning classification models will be used:\n",
    "\n",
    "- Logistic Regression\n",
    "- Random Forest\n",
    "- K-Nearest Neighbor (KNN)\n",
    "- Gradient Boost"
   ]
  },
  {
   "cell_type": "markdown",
   "metadata": {},
   "source": [
    "For evaluation metrics, F1 score, Recall, Precision, ROC AUC, PR AUC will be calculated and compared."
   ]
  },
  {
   "cell_type": "code",
   "execution_count": 34,
   "metadata": {},
   "outputs": [],
   "source": [
    "# Import modules\n",
    "from sklearn.metrics import confusion_matrix, classification_report\n",
    "from sklearn.metrics import f1_score, precision_score, recall_score, roc_auc_score\n",
    "from sklearn.metrics import roc_curve, auc, precision_recall_curve\n",
    "from sklearn.metrics import accuracy_score\n",
    "from sklearn.metrics import average_precision_score\n",
    "from sklearn.model_selection import cross_val_score\n",
    "from sklearn.model_selection import validation_curve\n",
    "import matplotlib.pyplot as plt\n"
   ]
  },
  {
   "cell_type": "code",
   "execution_count": 35,
   "metadata": {},
   "outputs": [],
   "source": [
    "# Initialize a DataFrame to save model name and metrics\n",
    "table = pd.DataFrame(columns=['model_name', 'Accuracy_score', 'Precision_score', 'Recall_score', 'F1_score', 'roc_auc_score', 'pr_auc'])\n",
    "\n",
    "# Function to calculate metrics and return a dictionary\n",
    "def calculate_metrics(model_name, y_test, y_pred, y_score):\n",
    "    accuracy = accuracy_score(y_test, y_pred)\n",
    "    precision = precision_score(y_test, y_pred)\n",
    "    recall = recall_score(y_test, y_pred)\n",
    "    f1 = f1_score(y_test, y_pred)\n",
    "    roc_auc = roc_auc_score(y_test, y_score)\n",
    "    \n",
    "    # Compute the precision-recall curve\n",
    "    precision_curve, recall_curve, _ = precision_recall_curve(y_test, y_score)\n",
    "    pr_auc = auc(recall_curve, precision_curve)\n",
    "    \n",
    "    # Return a dictionary with the results\n",
    "    return {\n",
    "        'model_name': model_name,\n",
    "        'Accuracy_score': accuracy,\n",
    "        'Precision_score': precision,\n",
    "        'Recall_score': recall,\n",
    "        'F1_score': f1,\n",
    "        'roc_auc_score': roc_auc,\n",
    "        'pr_auc': pr_auc\n",
    "    }\n"
   ]
  },
  {
   "cell_type": "markdown",
   "metadata": {},
   "source": [
    "### 5.4.1 Logistic Regression"
   ]
  },
  {
   "cell_type": "markdown",
   "metadata": {},
   "source": [
    "As the fraud class is quite inbalanced, class_weight='balanced' will be used in Logistic Regression modeling."
   ]
  },
  {
   "cell_type": "code",
   "execution_count": 36,
   "metadata": {},
   "outputs": [
    {
     "name": "stderr",
     "output_type": "stream",
     "text": [
      "C:\\Windows\\Temp\\ipykernel_5912\\3450119011.py:15: FutureWarning: The behavior of DataFrame concatenation with empty or all-NA entries is deprecated. In a future version, this will no longer exclude empty or all-NA columns when determining the result dtypes. To retain the old behavior, exclude the relevant entries before the concat operation.\n",
      "  table = pd.concat([table, pd.DataFrame([metrics])], ignore_index=True)\n"
     ]
    },
    {
     "name": "stdout",
     "output_type": "stream",
     "text": [
      "[[237180  57620]\n",
      " [   716   2553]]\n",
      "              precision    recall  f1-score   support\n",
      "\n",
      "           0       1.00      0.80      0.89    294800\n",
      "           1       0.04      0.78      0.08      3269\n",
      "\n",
      "    accuracy                           0.80    298069\n",
      "   macro avg       0.52      0.79      0.49    298069\n",
      "weighted avg       0.99      0.80      0.88    298069\n",
      "\n",
      "                        model_name  Accuracy_score  Precision_score  \\\n",
      "0  Logistic_Regression_C1_balanced        0.804287         0.042428   \n",
      "\n",
      "   Recall_score  F1_score  roc_auc_score    pr_auc  \n",
      "0      0.780973  0.080483        0.87257  0.125287  \n"
     ]
    }
   ],
   "source": [
    "from sklearn.linear_model import LogisticRegression\n",
    "\n",
    "# Apply logistic regression model to training data\n",
    "logreg = LogisticRegression(penalty='l2', C=1, class_weight='balanced', random_state=47, max_iter=1000)\n",
    "logreg.fit(X_train, y_train)\n",
    "\n",
    "# Predict and save to y_pred\n",
    "y_pred = logreg.predict(X_test)\n",
    "y_score = logreg.predict_proba(X_test)[:, 1]\n",
    "\n",
    "# Calculate metrics and store them in a dictionary\n",
    "metrics = calculate_metrics('Logistic_Regression_C1_balanced', y_test, y_pred, y_score)\n",
    "\n",
    "# Append the metrics as a new row to the DataFrame using pd.concat\n",
    "table = pd.concat([table, pd.DataFrame([metrics])], ignore_index=True)\n",
    "\n",
    "# Print confusion matrix\n",
    "print(confusion_matrix(y_test, y_pred))\n",
    "print(classification_report(y_test, y_pred))\n",
    "\n",
    "# Print score values\n",
    "print(table)"
   ]
  },
  {
   "cell_type": "markdown",
   "metadata": {},
   "source": [
    "With the built in 'balanced' class_weight, Recall score is 0.78, which is fairly good. But Precision is only 0.04, quite low. F1 score is 0.08, pr_auc 0.125. Accuracy score 0.804 and roc_auc score 0.873 high, but doesn't seem to be the best metrics for inbalanced data classification in the current model. Precision and Recall may be better."
   ]
  },
  {
   "cell_type": "code",
   "execution_count": 37,
   "metadata": {},
   "outputs": [],
   "source": [
    "# Define plot_roc_pr_curves function to draw ROC and Precision_Recall curves\n",
    "def plot_roc_pr_curves(model_name, y_test, y_score):\n",
    "    # Compute ROC curve\n",
    "    fpr, tpr, _ = roc_curve(y_test, y_score)\n",
    "\n",
    "    # Compute Precision-Recall curve\n",
    "    precision, recall, _ = precision_recall_curve(y_test, y_score)\n",
    "\n",
    "    # Create a figure with 2 subplots side by side\n",
    "    fig, (ax1, ax2) = plt.subplots(1, 2, figsize=(10, 5))\n",
    "\n",
    "    # Plot ROC curve on the first subplot\n",
    "    ax1.plot([0, 1], [0, 1], linestyle='--')\n",
    "    ax1.plot(fpr, tpr, marker='.', markersize=1.5, label=model_name)\n",
    "    ax1.set_xlabel('False Positive Rate')\n",
    "    ax1.set_ylabel('True Positive Rate')\n",
    "    ax1.set_title(f'ROC Curve - {model_name}')\n",
    "    ax1.legend()\n",
    "\n",
    "    # Plot Precision-Recall curve on the second subplot\n",
    "    ax2.plot([0, 1], [1, 0], linestyle='--')\n",
    "    ax2.plot(recall, precision, marker='.', markersize=1.5, label=model_name)\n",
    "    ax2.set_xlabel('Recall')\n",
    "    ax2.set_ylabel('Precision')\n",
    "    ax2.set_title(f'Precision-Recall Curve - {model_name}')\n",
    "    ax2.legend()\n",
    "\n",
    "    # Adjust layout and display the plots\n",
    "    plt.tight_layout()\n",
    "    plt.show()\n"
   ]
  },
  {
   "cell_type": "code",
   "execution_count": 38,
   "metadata": {},
   "outputs": [
    {
     "data": {
      "image/png": "[encoded data removed]",
      "text/plain": [
       "<Figure size 1000x500 with 2 Axes>"
      ]
     },
     "metadata": {},
     "output_type": "display_data"
    }
   ],
   "source": [
    "# Draw ROC and Precision-Recall Curves for Logistic Regression\n",
    "plot_roc_pr_curves(\"Logistic Regression\", y_test, y_score)"
   ]
  },
  {
   "cell_type": "markdown",
   "metadata": {},
   "source": [
    "From the above two charts, we can see that ROC curve doesn't show the impact of class inbalance. Precision recall curve may be better to use."
   ]
  },
  {
   "cell_type": "markdown",
   "metadata": {},
   "source": [
    "### 5.4.2 Random Forest"
   ]
  },
  {
   "cell_type": "code",
   "execution_count": 39,
   "metadata": {},
   "outputs": [
    {
     "name": "stdout",
     "output_type": "stream",
     "text": [
      "[[247194  47606]\n",
      " [   842   2427]]\n",
      "              precision    recall  f1-score   support\n",
      "\n",
      "           0       1.00      0.84      0.91    294800\n",
      "           1       0.05      0.74      0.09      3269\n",
      "\n",
      "    accuracy                           0.84    298069\n",
      "   macro avg       0.52      0.79      0.50    298069\n",
      "weighted avg       0.99      0.84      0.90    298069\n",
      "\n",
      "                        model_name  Accuracy_score  Precision_score  \\\n",
      "0  Logistic_Regression_C1_balanced        0.804287         0.042428   \n",
      "1                    Random Forest        0.837460         0.048508   \n",
      "\n",
      "   Recall_score  F1_score  roc_auc_score    pr_auc  \n",
      "0      0.780973  0.080483       0.872570  0.125287  \n",
      "1      0.742429  0.091066       0.874928  0.128604  \n"
     ]
    }
   ],
   "source": [
    "from sklearn.ensemble import RandomForestClassifier\n",
    "\n",
    "# Apply RandomForestClassifier to training data\n",
    "rfc = RandomForestClassifier(criterion='entropy', max_depth=8, min_samples_split=2, max_features=4, random_state=47, n_jobs=-1, class_weight='balanced')\n",
    "rfc.fit(X_train, y_train)\n",
    "\n",
    "# Predict and save to y_pred\n",
    "y_pred = rfc.predict(X_test)\n",
    "y_score = rfc.predict_proba(X_test)[:, 1]\n",
    "\n",
    "# Calculate metrics and store them in a dictionary\n",
    "metrics = calculate_metrics('Random Forest', y_test, y_pred, y_score)\n",
    "\n",
    "# Append the metrics as a new row to the DataFrame using pd.concat\n",
    "table = pd.concat([table, pd.DataFrame([metrics])], ignore_index=True)\n",
    "\n",
    "# Print confusion matrix\n",
    "print(confusion_matrix(y_test, y_pred))\n",
    "print(classification_report(y_test, y_pred))\n",
    "\n",
    "# Print score values\n",
    "print(table)"
   ]
  },
  {
   "cell_type": "code",
   "execution_count": 40,
   "metadata": {},
   "outputs": [
    {
     "data": {
      "image/png": "[encoded data removed]",
      "text/plain": [
       "<Figure size 1000x500 with 2 Axes>"
      ]
     },
     "metadata": {},
     "output_type": "display_data"
    }
   ],
   "source": [
    "# Draw ROC and Precision-Recall Curves for Random Forest\n",
    "plot_roc_pr_curves(\"Random Forest\", y_test, y_score)"
   ]
  },
  {
   "cell_type": "markdown",
   "metadata": {},
   "source": [
    "### 5.4.3 Gradient Boost"
   ]
  },
  {
   "cell_type": "code",
   "execution_count": 41,
   "metadata": {},
   "outputs": [
    {
     "name": "stdout",
     "output_type": "stream",
     "text": [
      "[[293450   1350]\n",
      " [  3072    197]]\n",
      "              precision    recall  f1-score   support\n",
      "\n",
      "           0       0.99      1.00      0.99    294800\n",
      "           1       0.13      0.06      0.08      3269\n",
      "\n",
      "    accuracy                           0.99    298069\n",
      "   macro avg       0.56      0.53      0.54    298069\n",
      "weighted avg       0.98      0.99      0.98    298069\n",
      "\n",
      "                        model_name  Accuracy_score  Precision_score  \\\n",
      "0  Logistic_Regression_C1_balanced        0.804287         0.042428   \n",
      "1                    Random Forest        0.837460         0.048508   \n",
      "2                Gradient Boosting        0.985165         0.127343   \n",
      "\n",
      "   Recall_score  F1_score  roc_auc_score    pr_auc  \n",
      "0      0.780973  0.080483       0.872570  0.125287  \n",
      "1      0.742429  0.091066       0.874928  0.128604  \n",
      "2      0.060263  0.081811       0.876348  0.090367  \n"
     ]
    }
   ],
   "source": [
    "from sklearn.ensemble import GradientBoostingClassifier\n",
    "\n",
    "gbc = GradientBoostingClassifier(learning_rate=0.1, n_estimators=150, subsample=0.8, max_depth=10, random_state=47)\n",
    "gbc.fit(X_train, y_train)\n",
    "\n",
    "# Predict and save to y_pred\n",
    "y_pred = gbc.predict(X_test)\n",
    "y_score = gbc.predict_proba(X_test)[:, 1]\n",
    "\n",
    "# Calculate metrics and store them in a dictionary\n",
    "metrics = calculate_metrics('Gradient Boosting', y_test, y_pred, y_score)\n",
    "\n",
    "# Append the metrics as a new row to the DataFrame using pd.concat\n",
    "table = pd.concat([table, pd.DataFrame([metrics])], ignore_index=True)\n",
    "\n",
    "# Print confusion matrix\n",
    "print(confusion_matrix(y_test, y_pred))\n",
    "print(classification_report(y_test, y_pred))\n",
    "\n",
    "# Print score values\n",
    "print(table)\n"
   ]
  },
  {
   "cell_type": "code",
   "execution_count": null,
   "metadata": {},
   "outputs": [],
   "source": [
    "# Draw ROC and Precision-Recall Curves for Gradient Boosting\n",
    "plot_roc_pr_curves(\"Gradient Boosting\", y_test, y_score)"
   ]
  },
  {
   "cell_type": "markdown",
   "metadata": {},
   "source": [
    "### 5.4.4 K-Nearest neighbor (KNN)"
   ]
  },
  {
   "cell_type": "code",
   "execution_count": 25,
   "metadata": {},
   "outputs": [
    {
     "name": "stderr",
     "output_type": "stream",
     "text": [
      "c:\\Users\\shenj\\miniconda3\\envs\\datascience\\Lib\\site-packages\\sklearn\\metrics\\_classification.py:1469: UndefinedMetricWarning: Precision is ill-defined and being set to 0.0 due to no predicted samples. Use `zero_division` parameter to control this behavior.\n",
      "  _warn_prf(average, modifier, msg_start, len(result))\n"
     ]
    },
    {
     "name": "stdout",
     "output_type": "stream",
     "text": [
      "[[294800      0]\n",
      " [  3269      0]]\n"
     ]
    },
    {
     "name": "stderr",
     "output_type": "stream",
     "text": [
      "c:\\Users\\shenj\\miniconda3\\envs\\datascience\\Lib\\site-packages\\sklearn\\metrics\\_classification.py:1469: UndefinedMetricWarning: Precision and F-score are ill-defined and being set to 0.0 in labels with no predicted samples. Use `zero_division` parameter to control this behavior.\n",
      "  _warn_prf(average, modifier, msg_start, len(result))\n"
     ]
    },
    {
     "name": "stdout",
     "output_type": "stream",
     "text": [
      "              precision    recall  f1-score   support\n",
      "\n",
      "           0       0.99      1.00      0.99    294800\n",
      "           1       0.00      0.00      0.00      3269\n",
      "\n",
      "    accuracy                           0.99    298069\n",
      "   macro avg       0.49      0.50      0.50    298069\n",
      "weighted avg       0.98      0.99      0.98    298069\n",
      "\n",
      "                        model_name  Accuracy_score  Precision_score  \\\n",
      "0  Logistic_Regression_C1_balanced        0.804287         0.042428   \n",
      "1                              KNN        0.989033         0.000000   \n",
      "\n",
      "   Recall_score  F1_score  roc_auc_score    pr_auc  \n",
      "0      0.780973  0.080483       0.872570  0.125287  \n",
      "1      0.000000  0.000000       0.770316  0.092424  \n"
     ]
    },
    {
     "name": "stderr",
     "output_type": "stream",
     "text": [
      "c:\\Users\\shenj\\miniconda3\\envs\\datascience\\Lib\\site-packages\\sklearn\\metrics\\_classification.py:1469: UndefinedMetricWarning: Precision and F-score are ill-defined and being set to 0.0 in labels with no predicted samples. Use `zero_division` parameter to control this behavior.\n",
      "  _warn_prf(average, modifier, msg_start, len(result))\n",
      "c:\\Users\\shenj\\miniconda3\\envs\\datascience\\Lib\\site-packages\\sklearn\\metrics\\_classification.py:1469: UndefinedMetricWarning: Precision and F-score are ill-defined and being set to 0.0 in labels with no predicted samples. Use `zero_division` parameter to control this behavior.\n",
      "  _warn_prf(average, modifier, msg_start, len(result))\n"
     ]
    }
   ],
   "source": [
    "from sklearn.neighbors import KNeighborsClassifier\n",
    "\n",
    "# Apply KNN model to the training data\n",
    "# knn = KNeighborsClassifier(n_neighbors=50, weights='distance', p=2, metric='minkowski', n_jobs=-1)\n",
    "knn = KNeighborsClassifier(n_neighbors=50, weights='distance', p=2, n_jobs=-1)\n",
    "knn.fit(X_train, y_train)\n",
    "\n",
    "# Predict and save to y_pred\n",
    "y_pred = knn.predict(X_test)\n",
    "y_score = knn.predict_proba(X_test)[:, 1]\n",
    "\n",
    "# Calculate metrics and store them in a dictionary\n",
    "metrics = calculate_metrics('KNN', y_test, y_pred, y_score)\n",
    "\n",
    "# Append the metrics as a new row to the DataFrame using pd.concat\n",
    "table = pd.concat([table, pd.DataFrame([metrics])], ignore_index=True)\n",
    "\n",
    "# Print confusion matrix\n",
    "print(confusion_matrix(y_test, y_pred))\n",
    "print(classification_report(y_test, y_pred))\n",
    "\n",
    "# Print score values\n",
    "print(table)"
   ]
  },
  {
   "cell_type": "markdown",
   "metadata": {},
   "source": [
    "It seems KNN modeling doesn't work well on the current data set. Is it possible for Recall and Precision bother to be 0? Need to discuss with Mentor and try different upsampling or different parameters with KNN and try again."
   ]
  },
  {
   "cell_type": "code",
   "execution_count": 23,
   "metadata": {},
   "outputs": [
    {
     "name": "stdout",
     "output_type": "stream",
     "text": [
      "cross validation train scores: [0.0793177  0.07705479 0.07017544 0.07839795 0.08490963]\n",
      "Mean cross validation train score: 0.07797110221487549\n",
      "Standard deviation of cv train scores: 0.0047275918429300545\n"
     ]
    }
   ],
   "source": [
    "\n",
    "cv_scores_train= cross_val_score(gbc, X_train, y_train, scoring='f1', cv=5, n_jobs=-1)\n",
    "# cv_scores_test= cross_val_score(gbc, X_test, y_test, scoring='f1', cv=5, n_jobs=-1)\n",
    "print(f'cross validation train scores: {cv_scores_train}')\n",
    "# print(f'cross validation test scores: {cv_scores_test}')\n",
    "cv_scores_rf_train= cv_scores_train.mean()\n",
    "# cv_scores_rf_test= cv_scores_test.mean()\n",
    "cv_scores_rf_train_std= cv_scores_train.std()\n",
    "# cv_scores_std_rf= cv_scores_test.std()\n",
    "print (f'Mean cross validation train score: {cv_scores_rf_train}')\n",
    "print (f'Standard deviation of cv train scores: {cv_scores_rf_train_std}')\n",
    "# print (f'Mean cross validation test score: {cv_scores_rf_test}')"
   ]
  },
  {
   "cell_type": "markdown",
   "metadata": {},
   "source": [
    "## 5.5 Modeling with resampled training data"
   ]
  },
  {
   "cell_type": "markdown",
   "metadata": {},
   "source": [
    "The current results of precision and recall are not great at the same time, which may be related to the inbalance data of the fraud type. Next, we are going to use resampled training data trying to improve the modeling performance."
   ]
  },
  {
   "cell_type": "markdown",
   "metadata": {},
   "source": [
    "### 5.5.1 The Synthetic Minority Oversampling Technique (SMOTE)"
   ]
  },
  {
   "cell_type": "code",
   "execution_count": 22,
   "metadata": {},
   "outputs": [
    {
     "name": "stdout",
     "output_type": "stream",
     "text": [
      "[(0, 687768), (1, 687768)]\n"
     ]
    }
   ],
   "source": [
    "from collections import Counter\n",
    "from imblearn.over_sampling import SMOTE\n",
    "\n",
    "X_train_resampled, y_train_resampled = SMOTE().fit_resample(X_train, y_train)\n",
    "print(sorted(Counter(y_train_resampled).items()))"
   ]
  },
  {
   "cell_type": "markdown",
   "metadata": {},
   "source": [
    "#### 5.5.1.1 RandomForest Modeling"
   ]
  },
  {
   "cell_type": "code",
   "execution_count": 12,
   "metadata": {},
   "outputs": [
    {
     "name": "stdout",
     "output_type": "stream",
     "text": [
      "[[265789  29011]\n",
      " [  1287   1982]]\n",
      "              precision    recall  f1-score   support\n",
      "\n",
      "           0       1.00      0.90      0.95    294800\n",
      "           1       0.06      0.61      0.12      3269\n",
      "\n",
      "    accuracy                           0.90    298069\n",
      "   macro avg       0.53      0.75      0.53    298069\n",
      "weighted avg       0.98      0.90      0.94    298069\n",
      "\n",
      "  criterion Accuracy_score Precision_score Recall_score  F1_score  \\\n",
      "0   entropy       0.898352         0.06395     0.606302  0.115697   \n",
      "\n",
      "  roc_auc_score    pr_auc  \n",
      "0      0.866954  0.112036  \n"
     ]
    }
   ],
   "source": [
    "from sklearn.ensemble import RandomForestClassifier\n",
    "\n",
    "# Apply RandomForestClassifier to training data\n",
    "rfc = RandomForestClassifier(criterion='entropy', max_depth=8, min_samples_split=2, max_features=4, random_state=47, n_jobs=-1)\n",
    "rfc.fit(X_train_resampled, y_train_resampled)\n",
    "\n",
    "# Predict and save to y_pred\n",
    "y_pred = rfc.predict(X_test)\n",
    "y_score = rfc.predict_proba(X_test)[:, 1]\n",
    "\n",
    "# Calculate metrics and store them in a dictionary\n",
    "metrics = calculate_metrics('SMOTE_Random Forest', y_test, y_pred, y_score)\n",
    "\n",
    "# Append the metrics as a new row to the DataFrame using pd.concat\n",
    "table = pd.concat([table, pd.DataFrame([metrics])], ignore_index=True)\n",
    "\n",
    "# Print confusion matrix\n",
    "print(confusion_matrix(y_test, y_pred))\n",
    "print(classification_report(y_test, y_pred))\n",
    "\n",
    "# Print score values\n",
    "print(table)"
   ]
  },
  {
   "cell_type": "markdown",
   "metadata": {},
   "source": [
    "#### 5.5.1.2 XGboost Modeling"
   ]
  },
  {
   "cell_type": "code",
   "execution_count": 13,
   "metadata": {},
   "outputs": [
    {
     "name": "stdout",
     "output_type": "stream",
     "text": [
      "[[294287    513]\n",
      " [  2996    273]]\n",
      "              precision    recall  f1-score   support\n",
      "\n",
      "           0       0.99      1.00      0.99    294800\n",
      "           1       0.35      0.08      0.13      3269\n",
      "\n",
      "    accuracy                           0.99    298069\n",
      "   macro avg       0.67      0.54      0.56    298069\n",
      "weighted avg       0.98      0.99      0.98    298069\n",
      "\n",
      "  criterion Accuracy_score Precision_score Recall_score  F1_score  \\\n",
      "0       xgb       0.988228        0.347328     0.083512  0.134649   \n",
      "\n",
      "  roc_auc_score    pr_auc  \n",
      "0      0.878641  0.141921  \n"
     ]
    }
   ],
   "source": [
    "from xgboost import XGBClassifier\n",
    "\n",
    "# Apply XGBClassifier to training data\n",
    "xgb = XGBClassifier(objective='binary:logistic', seed=74, eval_metric='aucpr')\n",
    "xgb.fit(X_train_resampled, y_train_resampled)\n",
    "\n",
    "# Predict and save to y_pred\n",
    "y_pred = xgb.predict(X_test)\n",
    "y_score = xgb.predict_proba(X_test)[:, 1]\n",
    "\n",
    "# Calculate metrics and store them in a dictionary\n",
    "metrics = calculate_metrics('SMOTE_xgb', y_test, y_pred, y_score)\n",
    "\n",
    "# Append the metrics as a new row to the DataFrame using pd.concat\n",
    "table = pd.concat([table, pd.DataFrame([metrics])], ignore_index=True)\n",
    "\n",
    "# Print confusion matrix\n",
    "print(confusion_matrix(y_test, y_pred))\n",
    "print(classification_report(y_test, y_pred))\n",
    "\n",
    "# Print score values\n",
    "print(table)"
   ]
  },
  {
   "cell_type": "markdown",
   "metadata": {},
   "source": [
    "#### 5.5.1.3 KNN"
   ]
  },
  {
   "cell_type": "code",
   "execution_count": 14,
   "metadata": {},
   "outputs": [
    {
     "name": "stdout",
     "output_type": "stream",
     "text": [
      "[[222956  71844]\n",
      " [   945   2324]]\n",
      "              precision    recall  f1-score   support\n",
      "\n",
      "           0       1.00      0.76      0.86    294800\n",
      "           1       0.03      0.71      0.06      3269\n",
      "\n",
      "    accuracy                           0.76    298069\n",
      "   macro avg       0.51      0.73      0.46    298069\n",
      "weighted avg       0.99      0.76      0.85    298069\n",
      "\n",
      "   n_neighbors Accuracy_score Precision_score Recall_score  F1_score  \\\n",
      "0           50       0.755798        0.031334     0.710921  0.060023   \n",
      "\n",
      "  roc_auc_score    pr_auc  \n",
      "0      0.801767  0.084731  \n"
     ]
    }
   ],
   "source": [
    "from sklearn.neighbors import KNeighborsClassifier\n",
    "\n",
    "# Apply KNN model to the training data\n",
    "# knn = KNeighborsClassifier(n_neighbors=50, weights='distance', p=2, metric='minkowski', n_jobs=-1)\n",
    "knn = KNeighborsClassifier(n_neighbors=50, weights='distance', p=2, n_jobs=-1)\n",
    "knn.fit(X_train_resampled, y_train_resampled)\n",
    "\n",
    "# Predict and save to y_pred\n",
    "y_pred = knn.predict(X_test)\n",
    "y_score = knn.predict_proba(X_test)[:, 1]\n",
    "\n",
    "# Calculate metrics and store them in a dictionary\n",
    "metrics = calculate_metrics('SMOTE_KNN', y_test, y_pred, y_score)\n",
    "\n",
    "# Append the metrics as a new row to the DataFrame using pd.concat\n",
    "table = pd.concat([table, pd.DataFrame([metrics])], ignore_index=True)\n",
    "\n",
    "# Print confusion matrix\n",
    "print(confusion_matrix(y_test, y_pred))\n",
    "print(classification_report(y_test, y_pred))\n",
    "\n",
    "# Print score values\n",
    "print(table)"
   ]
  },
  {
   "cell_type": "markdown",
   "metadata": {},
   "source": [
    "#### 5.5.1.4 Logistic Regression"
   ]
  },
  {
   "cell_type": "code",
   "execution_count": 25,
   "metadata": {},
   "outputs": [
    {
     "name": "stdout",
     "output_type": "stream",
     "text": [
      "[[281414  13386]\n",
      " [  1897   1372]]\n",
      "              precision    recall  f1-score   support\n",
      "\n",
      "           0       0.99      0.95      0.97    294800\n",
      "           1       0.09      0.42      0.15      3269\n",
      "\n",
      "    accuracy                           0.95    298069\n",
      "   macro avg       0.54      0.69      0.56    298069\n",
      "weighted avg       0.98      0.95      0.96    298069\n",
      "\n",
      "   C_parameter Accuracy_score Precision_score Recall_score  F1_score  \\\n",
      "0          0.1       0.948727        0.092967       0.4197  0.152216   \n",
      "\n",
      "  roc_auc_score    pr_auc  \n",
      "0      0.845516  0.103601  \n"
     ]
    }
   ],
   "source": [
    "from sklearn.linear_model import LogisticRegression\n",
    "\n",
    "# Apply logistic regression model to training data\n",
    "logreg = LogisticRegression(penalty='l2', C=0.1, solver='lbfgs', random_state=47, max_iter=1000)\n",
    "logreg.fit(X_train_resampled, y_train_resampled)\n",
    "\n",
    "# Predict and save to y_pred\n",
    "y_pred = logreg.predict(X_test)\n",
    "y_score = logreg.predict_proba(X_test)[:, 1]\n",
    "\n",
    "# Calculate metrics and store them in a dictionary\n",
    "metrics = calculate_metrics('SMOTE_LogisticRegression', y_test, y_pred, y_score)\n",
    "\n",
    "# Append the metrics as a new row to the DataFrame using pd.concat\n",
    "table = pd.concat([table, pd.DataFrame([metrics])], ignore_index=True)\n",
    "\n",
    "# Print confusion matrix\n",
    "print(confusion_matrix(y_test, y_pred))\n",
    "print(classification_report(y_test, y_pred))\n",
    "\n",
    "# Print score values\n",
    "print(table)"
   ]
  },
  {
   "cell_type": "markdown",
   "metadata": {},
   "source": [
    "#### 5.5.2 Under-sampling with RandomUnderSampler"
   ]
  },
  {
   "cell_type": "code",
   "execution_count": 19,
   "metadata": {},
   "outputs": [
    {
     "name": "stdout",
     "output_type": "stream",
     "text": [
      "[(0, 7726), (1, 7726)]\n"
     ]
    }
   ],
   "source": [
    "from imblearn.under_sampling import RandomUnderSampler\n",
    "\n",
    "rus = RandomUnderSampler(random_state=42)\n",
    "X_train_resampled, y_train_resampled = rus.fit_resample(X_train, y_train)\n",
    "\n",
    "print(sorted(Counter(y_train_resampled).items()))"
   ]
  },
  {
   "cell_type": "markdown",
   "metadata": {},
   "source": [
    "#### 5.5.2.1 RandomForest Modeling"
   ]
  },
  {
   "cell_type": "code",
   "execution_count": 14,
   "metadata": {},
   "outputs": [
    {
     "name": "stdout",
     "output_type": "stream",
     "text": [
      "[[239652  55148]\n",
      " [   747   2522]]\n",
      "              precision    recall  f1-score   support\n",
      "\n",
      "           0       1.00      0.81      0.90    294800\n",
      "           1       0.04      0.77      0.08      3269\n",
      "\n",
      "    accuracy                           0.81    298069\n",
      "   macro avg       0.52      0.79      0.49    298069\n",
      "weighted avg       0.99      0.81      0.89    298069\n",
      "\n",
      "  criterion Accuracy_score Precision_score Recall_score  F1_score  \\\n",
      "0   entropy       0.812476        0.043732      0.77149  0.082771   \n",
      "\n",
      "  roc_auc_score    pr_auc  \n",
      "0      0.873721  0.132063  \n"
     ]
    }
   ],
   "source": [
    "from sklearn.ensemble import RandomForestClassifier\n",
    "\n",
    "# Apply RandomForestClassifier to training data\n",
    "rfc = RandomForestClassifier(criterion='entropy', max_depth=8, min_samples_split=2, max_features=4, random_state=47, n_jobs=-1)\n",
    "rfc.fit(X_train_resampled, y_train_resampled)\n",
    "\n",
    "# Predict and save to y_pred\n",
    "y_pred = rfc.predict(X_test)\n",
    "y_score = rfc.predict_proba(X_test)[:, 1]\n",
    "\n",
    "# Calculate metrics and store them in a dictionary\n",
    "metrics = calculate_metrics('RandomUnderSampler_Random Forest', y_test, y_pred, y_score)\n",
    "\n",
    "# Append the metrics as a new row to the DataFrame using pd.concat\n",
    "table = pd.concat([table, pd.DataFrame([metrics])], ignore_index=True)\n",
    "\n",
    "# Print confusion matrix\n",
    "print(confusion_matrix(y_test, y_pred))\n",
    "print(classification_report(y_test, y_pred))\n",
    "\n",
    "# Print score values\n",
    "print(table)"
   ]
  },
  {
   "cell_type": "markdown",
   "metadata": {},
   "source": [
    "#### 5.5.2.2 XGboost Modeling"
   ]
  },
  {
   "cell_type": "code",
   "execution_count": 15,
   "metadata": {},
   "outputs": [
    {
     "name": "stdout",
     "output_type": "stream",
     "text": [
      "[[238011  56789]\n",
      " [   676   2593]]\n",
      "              precision    recall  f1-score   support\n",
      "\n",
      "           0       1.00      0.81      0.89    294800\n",
      "           1       0.04      0.79      0.08      3269\n",
      "\n",
      "    accuracy                           0.81    298069\n",
      "   macro avg       0.52      0.80      0.49    298069\n",
      "weighted avg       0.99      0.81      0.88    298069\n",
      "\n",
      "  criterion Accuracy_score Precision_score Recall_score  F1_score  \\\n",
      "0       xgb       0.807209        0.043666     0.793209  0.082776   \n",
      "\n",
      "  roc_auc_score    pr_auc  \n",
      "0      0.881439  0.135744  \n"
     ]
    }
   ],
   "source": [
    "from xgboost import XGBClassifier\n",
    "\n",
    "# Apple XGBClassifier to training data\n",
    "xgb = XGBClassifier(objective='binary:logistic', seed=74, eval_metric='aucpr')\n",
    "xgb.fit(X_train_resampled, y_train_resampled)\n",
    "\n",
    "# Predict and save to y_pred\n",
    "y_pred = xgb.predict(X_test)\n",
    "y_score = xgb.predict_proba(X_test)[:, 1]\n",
    "\n",
    "# Calculate metrics and store them in a dictionary\n",
    "metrics = calculate_metrics('RandomUnderSampler_xgb', y_test, y_pred, y_score)\n",
    "\n",
    "# Append the metrics as a new row to the DataFrame using pd.concat\n",
    "table = pd.concat([table, pd.DataFrame([metrics])], ignore_index=True)\n",
    "\n",
    "# Print confusion matrix\n",
    "print(confusion_matrix(y_test, y_pred))\n",
    "print(classification_report(y_test, y_pred))\n",
    "\n",
    "# Print score values\n",
    "print(table)"
   ]
  },
  {
   "cell_type": "markdown",
   "metadata": {},
   "source": [
    "#### 5.5.2.3 KNN"
   ]
  },
  {
   "cell_type": "code",
   "execution_count": 16,
   "metadata": {},
   "outputs": [
    {
     "name": "stdout",
     "output_type": "stream",
     "text": [
      "[[217780  77020]\n",
      " [   710   2559]]\n",
      "              precision    recall  f1-score   support\n",
      "\n",
      "           0       1.00      0.74      0.85    294800\n",
      "           1       0.03      0.78      0.06      3269\n",
      "\n",
      "    accuracy                           0.74    298069\n",
      "   macro avg       0.51      0.76      0.46    298069\n",
      "weighted avg       0.99      0.74      0.84    298069\n",
      "\n",
      "   n_neighbors Accuracy_score Precision_score Recall_score  F1_score  \\\n",
      "0           50       0.739221        0.032157     0.782808  0.061776   \n",
      "\n",
      "  roc_auc_score    pr_auc  \n",
      "0        0.8365  0.083528  \n"
     ]
    }
   ],
   "source": [
    "from sklearn.neighbors import KNeighborsClassifier\n",
    "\n",
    "# Apply KNN model to the training data\n",
    "# knn = KNeighborsClassifier(n_neighbors=50, weights='distance', p=2, metric='minkowski', n_jobs=-1)\n",
    "knn = KNeighborsClassifier(n_neighbors=50, weights='distance', p=2)\n",
    "knn.fit(X_train_resampled, y_train_resampled)\n",
    "\n",
    "# Predict and save to y_pred\n",
    "y_pred = knn.predict(X_test)\n",
    "y_score = knn.predict_proba(X_test)[:, 1]\n",
    "\n",
    "# Calculate metrics and store them in a dictionary\n",
    "metrics = calculate_metrics('RandomUnderSampler_KNN', y_test, y_pred, y_score)\n",
    "\n",
    "# Append the metrics as a new row to the DataFrame using pd.concat\n",
    "table = pd.concat([table, pd.DataFrame([metrics])], ignore_index=True)\n",
    "\n",
    "# Print confusion matrix\n",
    "print(confusion_matrix(y_test, y_pred))\n",
    "print(classification_report(y_test, y_pred))\n",
    "\n",
    "# Print score values\n",
    "print(table)"
   ]
  },
  {
   "cell_type": "markdown",
   "metadata": {},
   "source": [
    "#### 5.5.2.4 Logistic Regression"
   ]
  },
  {
   "cell_type": "code",
   "execution_count": 21,
   "metadata": {},
   "outputs": [
    {
     "name": "stdout",
     "output_type": "stream",
     "text": [
      "[[237651  57149]\n",
      " [   726   2543]]\n",
      "              precision    recall  f1-score   support\n",
      "\n",
      "           0       1.00      0.81      0.89    294800\n",
      "           1       0.04      0.78      0.08      3269\n",
      "\n",
      "    accuracy                           0.81    298069\n",
      "   macro avg       0.52      0.79      0.49    298069\n",
      "weighted avg       0.99      0.81      0.88    298069\n",
      "\n",
      "   C_parameter Accuracy_score Precision_score Recall_score F1_score  \\\n",
      "0          0.1       0.805834        0.042602     0.777914  0.08078   \n",
      "\n",
      "  roc_auc_score    pr_auc  \n",
      "0      0.872246  0.125622  \n"
     ]
    }
   ],
   "source": [
    "from sklearn.linear_model import LogisticRegression\n",
    "\n",
    "# Apply logistic regression model to training data\n",
    "logreg = LogisticRegression(penalty='l2', C=0.1, solver='lbfgs', random_state=47, max_iter=1000)\n",
    "logreg.fit(X_train_resampled, y_train_resampled)\n",
    "\n",
    "# Predict and save to y_pred\n",
    "y_pred = logreg.predict(X_test)\n",
    "y_score = logreg.predict_proba(X_test)[:, 1]\n",
    "\n",
    "# Calculate metrics and store them in a dictionary\n",
    "metrics = calculate_metrics('RandomUnderSampler_LogisticRegression', y_test, y_pred, y_score)\n",
    "\n",
    "# Append the metrics as a new row to the DataFrame using pd.concat\n",
    "table = pd.concat([table, pd.DataFrame([metrics])], ignore_index=True)\n",
    "\n",
    "# Print confusion matrix\n",
    "print(confusion_matrix(y_test, y_pred))\n",
    "print(classification_report(y_test, y_pred))\n",
    "\n",
    "# Print score values\n",
    "print(table)"
   ]
  },
  {
   "cell_type": "markdown",
   "metadata": {},
   "source": [
    "#### 5.5.3 Under-sampling by removing Tomek’s links"
   ]
  },
  {
   "cell_type": "code",
   "execution_count": 13,
   "metadata": {},
   "outputs": [
    {
     "name": "stdout",
     "output_type": "stream",
     "text": [
      "[(0, 685578), (1, 7726)]\n"
     ]
    }
   ],
   "source": [
    "from imblearn.under_sampling import TomekLinks\n",
    "\n",
    "tl = TomekLinks(n_jobs=-1)\n",
    "X_train_resampled, y_train_resampled = tl.fit_resample(X_train, y_train)\n",
    "\n",
    "print(sorted(Counter(y_train_resampled).items()))\n"
   ]
  },
  {
   "cell_type": "markdown",
   "metadata": {},
   "source": [
    "#### 5.5.3.1 RandomForest Modeling"
   ]
  },
  {
   "cell_type": "code",
   "execution_count": 14,
   "metadata": {},
   "outputs": [
    {
     "name": "stdout",
     "output_type": "stream",
     "text": [
      "[[246382  48418]\n",
      " [   842   2427]]\n",
      "              precision    recall  f1-score   support\n",
      "\n",
      "           0       1.00      0.84      0.91    294800\n",
      "           1       0.05      0.74      0.09      3269\n",
      "\n",
      "    accuracy                           0.83    298069\n",
      "   macro avg       0.52      0.79      0.50    298069\n",
      "weighted avg       0.99      0.83      0.90    298069\n",
      "\n",
      "  criterion Accuracy_score Precision_score Recall_score F1_score  \\\n",
      "0   entropy       0.834736        0.047733     0.742429   0.0897   \n",
      "\n",
      "  roc_auc_score    pr_auc  \n",
      "0      0.873076  0.127794  \n"
     ]
    }
   ],
   "source": [
    "from sklearn.ensemble import RandomForestClassifier\n",
    "\n",
    "# Apply RandomForestClassifier to training data\n",
    "# Add class_weight='balanced'\n",
    "rfc = RandomForestClassifier(criterion='entropy', max_depth=8, min_samples_split=2, max_features=4, class_weight='balanced', random_state=47, n_jobs=-1)\n",
    "rfc.fit(X_train_resampled, y_train_resampled)\n",
    "\n",
    "# Predict and save to y_pred\n",
    "y_pred = rfc.predict(X_test)\n",
    "y_score = rfc.predict_proba(X_test)[:, 1]\n",
    "\n",
    "# Calculate metrics and store them in a dictionary\n",
    "metrics = calculate_metrics('UnderSamplingRmTomekLinks_Random Forest', y_test, y_pred, y_score)\n",
    "\n",
    "# Append the metrics as a new row to the DataFrame using pd.concat\n",
    "table = pd.concat([table, pd.DataFrame([metrics])], ignore_index=True)\n",
    "\n",
    "# Print confusion matrix\n",
    "print(confusion_matrix(y_test, y_pred))\n",
    "print(classification_report(y_test, y_pred))\n",
    "\n",
    "# Print score values\n",
    "print(table)"
   ]
  },
  {
   "cell_type": "markdown",
   "metadata": {},
   "source": [
    "#### 5.5.3.2 XGboost Modeling"
   ]
  },
  {
   "cell_type": "code",
   "execution_count": 30,
   "metadata": {},
   "outputs": [
    {
     "name": "stdout",
     "output_type": "stream",
     "text": [
      "[[294604    196]\n",
      " [  3111    158]]\n",
      "              precision    recall  f1-score   support\n",
      "\n",
      "           0       0.99      1.00      0.99    294800\n",
      "           1       0.45      0.05      0.09      3269\n",
      "\n",
      "    accuracy                           0.99    298069\n",
      "   macro avg       0.72      0.52      0.54    298069\n",
      "weighted avg       0.98      0.99      0.98    298069\n",
      "\n",
      "  criterion Accuracy_score Precision_score Recall_score  F1_score  \\\n",
      "0       xgb       0.988905        0.446328     0.048333  0.087221   \n",
      "\n",
      "  roc_auc_score    pr_auc  \n",
      "0      0.885752  0.154913  \n"
     ]
    }
   ],
   "source": [
    "from xgboost import XGBClassifier\n",
    "\n",
    "# Apply XGBClassifier to training data\n",
    "xgb = XGBClassifier(objective='binary:logistic', seed=74, eval_metric='aucpr')\n",
    "xgb.fit(X_train_resampled, y_train_resampled)\n",
    "\n",
    "# Predict and save to y_pred\n",
    "y_pred = xgb.predict(X_test)\n",
    "y_score = xgb.predict_proba(X_test)[:, 1]\n",
    "\n",
    "# Calculate metrics and store them in a dictionary\n",
    "metrics = calculate_metrics('UnderSamplingRmTomekLinks_xgb', y_test, y_pred, y_score)\n",
    "\n",
    "# Append the metrics as a new row to the DataFrame using pd.concat\n",
    "table = pd.concat([table, pd.DataFrame([metrics])], ignore_index=True)\n",
    "\n",
    "# Print confusion matrix\n",
    "print(confusion_matrix(y_test, y_pred))\n",
    "print(classification_report(y_test, y_pred))\n",
    "\n",
    "# Print score values\n",
    "print(table)"
   ]
  },
  {
   "cell_type": "markdown",
   "metadata": {},
   "source": [
    "#### 5.5.3.3 KNN"
   ]
  },
  {
   "cell_type": "code",
   "execution_count": 31,
   "metadata": {},
   "outputs": [
    {
     "name": "stdout",
     "output_type": "stream",
     "text": [
      "[[294800      0]\n",
      " [  3268      1]]\n",
      "              precision    recall  f1-score   support\n",
      "\n",
      "           0       0.99      1.00      0.99    294800\n",
      "           1       1.00      0.00      0.00      3269\n",
      "\n",
      "    accuracy                           0.99    298069\n",
      "   macro avg       0.99      0.50      0.50    298069\n",
      "weighted avg       0.99      0.99      0.98    298069\n",
      "\n",
      "   n_neighbors Accuracy_score Precision_score Recall_score  F1_score  \\\n",
      "0           50       0.989036             1.0     0.000306  0.000612   \n",
      "\n",
      "  roc_auc_score    pr_auc  \n",
      "0      0.771262  0.093185  \n"
     ]
    }
   ],
   "source": [
    "from sklearn.neighbors import KNeighborsClassifier\n",
    "\n",
    "# Apply KNN model to the training data\n",
    "# knn = KNeighborsClassifier(n_neighbors=50, weights='distance', p=2, metric='minkowski', n_jobs=-1)\n",
    "knn = KNeighborsClassifier(n_neighbors=50, weights='distance', p=2)\n",
    "knn.fit(X_train_resampled, y_train_resampled)\n",
    "\n",
    "# Predict and save to y_pred\n",
    "y_pred = knn.predict(X_test)\n",
    "y_score = knn.predict_proba(X_test)[:, 1]\n",
    "\n",
    "# Calculate metrics and store them in a dictionary\n",
    "metrics = calculate_metrics('UnderSamplingRmTomekLinks_KNN', y_test, y_pred, y_score)\n",
    "\n",
    "# Append the metrics as a new row to the DataFrame using pd.concat\n",
    "table = pd.concat([table, pd.DataFrame([metrics])], ignore_index=True)\n",
    "\n",
    "# Print confusion matrix\n",
    "print(confusion_matrix(y_test, y_pred))\n",
    "print(classification_report(y_test, y_pred))\n",
    "\n",
    "# Print score values\n",
    "print(table)"
   ]
  },
  {
   "cell_type": "markdown",
   "metadata": {},
   "source": [
    "#### 5.5.3.4 Logistic Regression"
   ]
  },
  {
   "cell_type": "code",
   "execution_count": 32,
   "metadata": {},
   "outputs": [
    {
     "name": "stdout",
     "output_type": "stream",
     "text": [
      "[[294772     28]\n",
      " [  3229     40]]\n",
      "              precision    recall  f1-score   support\n",
      "\n",
      "           0       0.99      1.00      0.99    294800\n",
      "           1       0.59      0.01      0.02      3269\n",
      "\n",
      "    accuracy                           0.99    298069\n",
      "   macro avg       0.79      0.51      0.51    298069\n",
      "weighted avg       0.98      0.99      0.98    298069\n",
      "\n",
      "   C_parameter Accuracy_score Precision_score Recall_score  F1_score  \\\n",
      "0          0.1       0.989073        0.588235     0.012236  0.023974   \n",
      "\n",
      "  roc_auc_score    pr_auc  \n",
      "0      0.871424  0.130207  \n"
     ]
    }
   ],
   "source": [
    "# Apply logistic regression model to training data\n",
    "logreg = LogisticRegression(penalty='l2', C=0.1, solver='lbfgs', random_state=47, max_iter=1000)\n",
    "logreg.fit(X_train_resampled, y_train_resampled)\n",
    "\n",
    "# Predict and save to y_pred\n",
    "y_pred = logreg.predict(X_test)\n",
    "y_score = logreg.predict_proba(X_test)[:, 1]\n",
    "\n",
    "# Calculate metrics and store them in a dictionary\n",
    "metrics = calculate_metrics('UnderSamplingRmTomekLinks_LogisticRegression', y_test, y_pred, y_score)\n",
    "\n",
    "# Append the metrics as a new row to the DataFrame using pd.concat\n",
    "table = pd.concat([table, pd.DataFrame([metrics])], ignore_index=True)\n",
    "\n",
    "# Print confusion matrix\n",
    "print(confusion_matrix(y_test, y_pred))\n",
    "print(classification_report(y_test, y_pred))\n",
    "\n",
    "# Print score values\n",
    "print(table)"
   ]
  },
  {
   "cell_type": "markdown",
   "metadata": {},
   "source": [
    "#### 5.5.4 Under-sampling by EditedNearestNeighbours"
   ]
  },
  {
   "cell_type": "code",
   "execution_count": 15,
   "metadata": {},
   "outputs": [
    {
     "name": "stdout",
     "output_type": "stream",
     "text": [
      "[(0, 667924), (1, 7726)]\n"
     ]
    }
   ],
   "source": [
    "from imblearn.under_sampling import EditedNearestNeighbours\n",
    "\n",
    "enn = EditedNearestNeighbours(n_neighbors=3, n_jobs=-1)\n",
    "X_train_resampled, y_train_resampled = enn.fit_resample(X_train, y_train)\n",
    "print(sorted(Counter(y_train_resampled).items()))"
   ]
  },
  {
   "cell_type": "markdown",
   "metadata": {},
   "source": [
    "#### 5.5.4.1 RandomForest Modeling"
   ]
  },
  {
   "cell_type": "code",
   "execution_count": 16,
   "metadata": {},
   "outputs": [
    {
     "name": "stdout",
     "output_type": "stream",
     "text": [
      "[[246942  47858]\n",
      " [   840   2429]]\n",
      "              precision    recall  f1-score   support\n",
      "\n",
      "           0       1.00      0.84      0.91    294800\n",
      "           1       0.05      0.74      0.09      3269\n",
      "\n",
      "    accuracy                           0.84    298069\n",
      "   macro avg       0.52      0.79      0.50    298069\n",
      "weighted avg       0.99      0.84      0.90    298069\n",
      "\n",
      "  criterion Accuracy_score Precision_score Recall_score  F1_score  \\\n",
      "0   entropy       0.836622        0.048303     0.743041  0.090709   \n",
      "\n",
      "  roc_auc_score    pr_auc  \n",
      "0      0.873774  0.126791  \n"
     ]
    }
   ],
   "source": [
    "# from sklearn.ensemble import RandomForestClassifier\n",
    "\n",
    "# Apply RandomForestClassifier to training data\n",
    "rfc = RandomForestClassifier(criterion='entropy', max_depth=8, min_samples_split=2, max_features=4, class_weight='balanced', random_state=47, n_jobs=-1)\n",
    "rfc.fit(X_train_resampled, y_train_resampled)\n",
    "\n",
    "# Predict and save to y_pred\n",
    "y_pred = rfc.predict(X_test)\n",
    "y_score = rfc.predict_proba(X_test)[:, 1]\n",
    "\n",
    "# Calculate metrics and store them in a dictionary\n",
    "metrics = calculate_metrics('UnderSamplingEditedNearestNeighbours_Random Forest', y_test, y_pred, y_score)\n",
    "\n",
    "# Append the metrics as a new row to the DataFrame using pd.concat\n",
    "table = pd.concat([table, pd.DataFrame([metrics])], ignore_index=True)\n",
    "\n",
    "# Print confusion matrix\n",
    "print(confusion_matrix(y_test, y_pred))\n",
    "print(classification_report(y_test, y_pred))\n",
    "\n",
    "# Print score values\n",
    "print(table)"
   ]
  },
  {
   "cell_type": "markdown",
   "metadata": {},
   "source": [
    "#### 5.5.4.2 XGboost Modeling"
   ]
  },
  {
   "cell_type": "code",
   "execution_count": 35,
   "metadata": {},
   "outputs": [
    {
     "name": "stdout",
     "output_type": "stream",
     "text": [
      "[[294387    413]\n",
      " [  2994    275]]\n",
      "              precision    recall  f1-score   support\n",
      "\n",
      "           0       0.99      1.00      0.99    294800\n",
      "           1       0.40      0.08      0.14      3269\n",
      "\n",
      "    accuracy                           0.99    298069\n",
      "   macro avg       0.69      0.54      0.57    298069\n",
      "weighted avg       0.98      0.99      0.98    298069\n",
      "\n",
      "  criterion Accuracy_score Precision_score Recall_score  F1_score  \\\n",
      "0       xgb        0.98857        0.399709     0.084124  0.138994   \n",
      "\n",
      "  roc_auc_score    pr_auc  \n",
      "0      0.889849  0.160301  \n"
     ]
    }
   ],
   "source": [
    "from xgboost import XGBClassifier\n",
    "\n",
    "# Apply xgbClassifier to training data\n",
    "xgb = XGBClassifier(objective='binary:logistic', seed=74, eval_metric='aucpr')\n",
    "xgb.fit(X_train_resampled, y_train_resampled)\n",
    "\n",
    "# Predict and save to y_pred\n",
    "y_pred = xgb.predict(X_test)\n",
    "y_score = xgb.predict_proba(X_test)[:, 1]\n",
    "\n",
    "# Calculate metrics and store them in a dictionary\n",
    "metrics = calculate_metrics('UnderSamplingEditedNearestNeighbours_xgb', y_test, y_pred, y_score)\n",
    "\n",
    "# Append the metrics as a new row to the DataFrame using pd.concat\n",
    "table = pd.concat([table, pd.DataFrame([metrics])], ignore_index=True)\n",
    "\n",
    "# Print confusion matrix\n",
    "print(confusion_matrix(y_test, y_pred))\n",
    "print(classification_report(y_test, y_pred))\n",
    "\n",
    "# Print score values\n",
    "print(table)"
   ]
  },
  {
   "cell_type": "markdown",
   "metadata": {},
   "source": [
    "#### 5.5.4.3 KNN"
   ]
  },
  {
   "cell_type": "code",
   "execution_count": 36,
   "metadata": {},
   "outputs": [
    {
     "name": "stdout",
     "output_type": "stream",
     "text": [
      "[[294793      7]\n",
      " [  3256     13]]\n",
      "              precision    recall  f1-score   support\n",
      "\n",
      "           0       0.99      1.00      0.99    294800\n",
      "           1       0.65      0.00      0.01      3269\n",
      "\n",
      "    accuracy                           0.99    298069\n",
      "   macro avg       0.82      0.50      0.50    298069\n",
      "weighted avg       0.99      0.99      0.98    298069\n",
      "\n",
      "   n_neighbors Accuracy_score Precision_score Recall_score  F1_score  \\\n",
      "0           50       0.989053            0.65     0.003977  0.007905   \n",
      "\n",
      "  roc_auc_score    pr_auc  \n",
      "0      0.774667  0.096543  \n"
     ]
    }
   ],
   "source": [
    "# Apply KNN model to the training data\n",
    "# knn = KNeighborsClassifier(n_neighbors=50, weights='distance', p=2, metric='minkowski', n_jobs=-1)\n",
    "knn = KNeighborsClassifier(n_neighbors=50, weights='distance', p=2)\n",
    "knn.fit(X_train_resampled, y_train_resampled)\n",
    "\n",
    "# Predict and save to y_pred\n",
    "y_pred = knn.predict(X_test)\n",
    "y_score = knn.predict_proba(X_test)[:, 1]\n",
    "\n",
    "# Calculate metrics and store them in a dictionary\n",
    "metrics = calculate_metrics('UnderSamplingEditedNearestNeighbours_KNN', y_test, y_pred, y_score)\n",
    "\n",
    "# Append the metrics as a new row to the DataFrame using pd.concat\n",
    "table = pd.concat([table, pd.DataFrame([metrics])], ignore_index=True)\n",
    "\n",
    "# Print confusion matrix\n",
    "print(confusion_matrix(y_test, y_pred))\n",
    "print(classification_report(y_test, y_pred))\n",
    "\n",
    "# Print score values\n",
    "print(table)"
   ]
  },
  {
   "cell_type": "markdown",
   "metadata": {},
   "source": [
    "#### 5.5.4.4 Logistic Regression"
   ]
  },
  {
   "cell_type": "code",
   "execution_count": 37,
   "metadata": {},
   "outputs": [
    {
     "name": "stdout",
     "output_type": "stream",
     "text": [
      "[[294705     95]\n",
      " [  3184     85]]\n",
      "              precision    recall  f1-score   support\n",
      "\n",
      "           0       0.99      1.00      0.99    294800\n",
      "           1       0.47      0.03      0.05      3269\n",
      "\n",
      "    accuracy                           0.99    298069\n",
      "   macro avg       0.73      0.51      0.52    298069\n",
      "weighted avg       0.98      0.99      0.98    298069\n",
      "\n",
      "   C_parameter Accuracy_score Precision_score Recall_score F1_score  \\\n",
      "0          0.1       0.988999        0.472222     0.026002  0.04929   \n",
      "\n",
      "  roc_auc_score    pr_auc  \n",
      "0      0.871013  0.130367  \n"
     ]
    }
   ],
   "source": [
    "# Apply logistic regression model to training data\n",
    "logreg = LogisticRegression(penalty='l2', C=0.1, solver='lbfgs', random_state=47, max_iter=1000)\n",
    "logreg.fit(X_train_resampled, y_train_resampled)\n",
    "\n",
    "# Predict and save to y_pred\n",
    "y_pred = logreg.predict(X_test)\n",
    "y_score = logreg.predict_proba(X_test)[:, 1]\n",
    "\n",
    "# Calculate metrics and store them in a dictionary\n",
    "metrics = calculate_metrics('UnderSamplingEditedNearestNeighbours_LogisticRegression', y_test, y_pred, y_score)\n",
    "\n",
    "# Append the metrics as a new row to the DataFrame using pd.concat\n",
    "table = pd.concat([table, pd.DataFrame([metrics])], ignore_index=True)\n",
    "\n",
    "# Print confusion matrix\n",
    "print(confusion_matrix(y_test, y_pred))\n",
    "print(classification_report(y_test, y_pred))\n",
    "\n",
    "# Print score values\n",
    "print(table)"
   ]
  },
  {
   "cell_type": "markdown",
   "metadata": {},
   "source": [
    "#### 5.5.5 Stacking modeling"
   ]
  },
  {
   "cell_type": "markdown",
   "metadata": {},
   "source": [
    "It seems the precision and recall was not very great at the same time still. To improve it, stacking modeling will be tried out."
   ]
  },
  {
   "cell_type": "code",
   "execution_count": 12,
   "metadata": {},
   "outputs": [
    {
     "name": "stdout",
     "output_type": "stream",
     "text": [
      "[[294770     30]\n",
      " [  3233     36]]\n",
      "              precision    recall  f1-score   support\n",
      "\n",
      "           0       0.99      1.00      0.99    294800\n",
      "           1       0.55      0.01      0.02      3269\n",
      "\n",
      "    accuracy                           0.99    298069\n",
      "   macro avg       0.77      0.51      0.51    298069\n",
      "weighted avg       0.98      0.99      0.98    298069\n",
      "\n"
     ]
    }
   ],
   "source": [
    "from sklearn.ensemble import StackingClassifier\n",
    "# from sklearn.pipeline import Pipeline\n",
    "from imblearn.pipeline import Pipeline as Pipeline_imb\n",
    "from imblearn.under_sampling import RandomUnderSampler\n",
    "from xgboost import XGBClassifier\n",
    "from imblearn.under_sampling import EditedNearestNeighbours\n",
    "from sklearn.neighbors import KNeighborsClassifier\n",
    "from sklearn.linear_model import LogisticRegression\n",
    "\n",
    "pipe_xgb = Pipeline_imb([\n",
    "    ('rus', RandomUnderSampler(random_state=42)), \n",
    "    ('model_1', XGBClassifier(objective='binary:logistic', seed=74, eval_metric='aucpr', n_jobs=-1))\n",
    "])\n",
    "\n",
    "pipe_knn = Pipeline_imb([\n",
    "    ('enn', EditedNearestNeighbours(n_neighbors=3, n_jobs=-1)), \n",
    "    ('model_2', KNeighborsClassifier(n_neighbors=50, weights='distance', p=2, n_jobs=-1))\n",
    "])\n",
    "\n",
    "level0 = list()\n",
    "level0.append(('xgboost', pipe_xgb))\n",
    "level0.append(('knn', pipe_knn))\n",
    "\n",
    "level1 = LogisticRegression(random_state=74, n_jobs=-1)\n",
    "\n",
    "model = StackingClassifier(estimators=level0, final_estimator=level1, cv=5, n_jobs=-1)\n",
    "\n",
    "model.fit(X_train, y_train)\n",
    "\n",
    "y_pred = model.predict(X_test)\n",
    "y_score = model.predict_proba(X_test)[:, 1]\n",
    "\n",
    "# Calculate metrics and store them in a dictionary\n",
    "metrics = calculate_metrics('stacking modeling 1', y_test, y_pred, y_score)\n",
    "\n",
    "# Append the metrics as a new row to the DataFrame using pd.concat\n",
    "table = pd.concat([table, pd.DataFrame([metrics])], ignore_index=True)\n",
    "\n",
    "# Print confusion matrix\n",
    "print(confusion_matrix(y_test, y_pred))\n",
    "print(classification_report(y_test, y_pred))\n",
    "\n",
    "# Print score values\n",
    "print(table)\n"
   ]
  },
  {
   "cell_type": "code",
   "execution_count": 13,
   "metadata": {},
   "outputs": [
    {
     "name": "stdout",
     "output_type": "stream",
     "text": [
      "      model Accuracy_score Precision_score Recall_score  F1_score  \\\n",
      "0  stacking       0.989053        0.545455     0.011013  0.021589   \n",
      "\n",
      "  roc_auc_score    pr_auc  \n",
      "0      0.881819  0.129291  \n"
     ]
    }
   ],
   "source": [
    "print(table)"
   ]
  },
  {
   "cell_type": "code",
   "execution_count": 14,
   "metadata": {},
   "outputs": [
    {
     "name": "stdout",
     "output_type": "stream",
     "text": [
      "[[294740     60]\n",
      " [  3207     62]]\n",
      "              precision    recall  f1-score   support\n",
      "\n",
      "           0       0.99      1.00      0.99    294800\n",
      "           1       0.51      0.02      0.04      3269\n",
      "\n",
      "    accuracy                           0.99    298069\n",
      "   macro avg       0.75      0.51      0.52    298069\n",
      "weighted avg       0.98      0.99      0.98    298069\n",
      "\n",
      "      model Accuracy_score Precision_score Recall_score  F1_score  \\\n",
      "0  stacking       0.989039        0.508197     0.018966  0.036567   \n",
      "\n",
      "  roc_auc_score    pr_auc  \n",
      "0      0.884291  0.144066  \n"
     ]
    }
   ],
   "source": [
    "from sklearn.ensemble import StackingClassifier\n",
    "from imblearn.pipeline import Pipeline as Pipeline_imb\n",
    "from imblearn.under_sampling import RandomUnderSampler\n",
    "from xgboost import XGBClassifier\n",
    "from imblearn.under_sampling import TomekLinks\n",
    "from sklearn.linear_model import LogisticRegression\n",
    "\n",
    "pipe_xgb = Pipeline_imb([\n",
    "    ('rus', RandomUnderSampler(random_state=42)), \n",
    "    ('model_1', XGBClassifier(objective='binary:logistic', seed=74, eval_metric='aucpr', n_jobs=-1))\n",
    "])\n",
    "\n",
    "pipe_lgb = Pipeline_imb([\n",
    "    ('tl', TomekLinks(n_jobs=-1)), \n",
    "    ('model_2', LogisticRegression(penalty='l2', C=0.1, solver='lbfgs', random_state=47, max_iter=1000, n_jobs=-1))\n",
    "])\n",
    "\n",
    "level0 = list()\n",
    "level0.append(('xgboost', pipe_xgb))\n",
    "level0.append(('lbg', pipe_lgb))\n",
    "\n",
    "level1 = LogisticRegression(random_state=74, n_jobs=-1)\n",
    "\n",
    "model = StackingClassifier(estimators=level0, final_estimator=level1, cv=5, n_jobs=-1)\n",
    "\n",
    "model.fit(X_train, y_train)\n",
    "\n",
    "y_pred = model.predict(X_test)\n",
    "y_score = model.predict_proba(X_test)[:, 1]\n",
    "\n",
    "table = pd.DataFrame(columns = ['model','Accuracy_score', 'Precision_score', 'Recall_score', 'F1_score', 'roc_auc_score', 'pr_auc'])\n",
    "table['model'] = ['stacking']\n",
    "\n",
    "# Save score values in table\n",
    "table.iloc[0, 1] = accuracy_score(y_test, y_pred)\n",
    "table.iloc[0, 2] = precision_score(y_test, y_pred)\n",
    "table.iloc[0, 3] = recall_score(y_test, y_pred)\n",
    "table.iloc[0, 4] = f1_score(y_test, y_pred)\n",
    "table.iloc[0, 5] = roc_auc_score(y_test, y_score)\n",
    "\n",
    "# Compute the precision-recall curve\n",
    "precision, recall, thresholds = precision_recall_curve(y_test, y_score)\n",
    "# Compute the area under precision-recall curve (pr_auc)\n",
    "table.iloc[0, 6] = auc(recall, precision)\n",
    "\n",
    "# Print confusion matrix\n",
    "print(confusion_matrix(y_test, y_pred))\n",
    "print(classification_report(y_test, y_pred))\n",
    "\n",
    "print(table)"
   ]
  },
  {
   "cell_type": "code",
   "execution_count": 15,
   "metadata": {},
   "outputs": [
    {
     "name": "stdout",
     "output_type": "stream",
     "text": [
      "[[294699    101]\n",
      " [  3144    125]]\n",
      "              precision    recall  f1-score   support\n",
      "\n",
      "           0       0.99      1.00      0.99    294800\n",
      "           1       0.55      0.04      0.07      3269\n",
      "\n",
      "    accuracy                           0.99    298069\n",
      "   macro avg       0.77      0.52      0.53    298069\n",
      "weighted avg       0.98      0.99      0.98    298069\n",
      "\n",
      "      model Accuracy_score Precision_score Recall_score  F1_score  \\\n",
      "0  stacking       0.989113        0.553097     0.038238  0.071531   \n",
      "\n",
      "  roc_auc_score    pr_auc  \n",
      "0      0.877583  0.153836  \n"
     ]
    }
   ],
   "source": [
    "from sklearn.ensemble import StackingClassifier\n",
    "from imblearn.pipeline import Pipeline as Pipeline_imb\n",
    "from imblearn.under_sampling import RandomUnderSampler\n",
    "from sklearn.ensemble import RandomForestClassifier\n",
    "from imblearn.under_sampling import TomekLinks\n",
    "from xgboost import XGBClassifier\n",
    "from sklearn.linear_model import LogisticRegression\n",
    "\n",
    "pipe_rfc = Pipeline_imb([\n",
    "    ('rus', RandomUnderSampler(random_state=42)), \n",
    "    ('model_1', RandomForestClassifier(criterion='entropy', max_depth=8, min_samples_split=2, max_features=4, random_state=47, n_jobs=-1))\n",
    "])\n",
    "\n",
    "pipe_xgb = Pipeline_imb([\n",
    "    ('tl', TomekLinks(n_jobs=-1)), \n",
    "    ('model_2', XGBClassifier(objective='binary:logistic', seed=74, eval_metric='aucpr', n_jobs=-1))\n",
    "])\n",
    "\n",
    "level0 = list()\n",
    "level0.append(('rfc', pipe_rfc))\n",
    "level0.append(('xgb', pipe_xgb))\n",
    "\n",
    "level1 = LogisticRegression(random_state=74, n_jobs=-1)\n",
    "\n",
    "model = StackingClassifier(estimators=level0, final_estimator=level1, cv=5, n_jobs=-1)\n",
    "\n",
    "model.fit(X_train, y_train)\n",
    "\n",
    "y_pred = model.predict(X_test)\n",
    "y_score = model.predict_proba(X_test)[:, 1]\n",
    "\n",
    "table = pd.DataFrame(columns = ['model','Accuracy_score', 'Precision_score', 'Recall_score', 'F1_score', 'roc_auc_score', 'pr_auc'])\n",
    "table['model'] = ['stacking']\n",
    "\n",
    "# Save score values in table\n",
    "table.iloc[0, 1] = accuracy_score(y_test, y_pred)\n",
    "table.iloc[0, 2] = precision_score(y_test, y_pred)\n",
    "table.iloc[0, 3] = recall_score(y_test, y_pred)\n",
    "table.iloc[0, 4] = f1_score(y_test, y_pred)\n",
    "table.iloc[0, 5] = roc_auc_score(y_test, y_score)\n",
    "\n",
    "# Compute the precision-recall curve\n",
    "precision, recall, thresholds = precision_recall_curve(y_test, y_score)\n",
    "# Compute the area under precision-recall curve (pr_auc)\n",
    "table.iloc[0, 6] = auc(recall, precision)\n",
    "\n",
    "# Print confusion matrix\n",
    "print(confusion_matrix(y_test, y_pred))\n",
    "print(classification_report(y_test, y_pred))\n",
    "\n",
    "print(table)"
   ]
  },
  {
   "cell_type": "markdown",
   "metadata": {},
   "source": [
    "#### 5.5.6 Neural network modeling"
   ]
  },
  {
   "cell_type": "markdown",
   "metadata": {},
   "source": [
    "#### 5.5.6.1 Oversample the minority class with SMOTE"
   ]
  },
  {
   "cell_type": "code",
   "execution_count": 11,
   "metadata": {},
   "outputs": [
    {
     "name": "stdout",
     "output_type": "stream",
     "text": [
      "[(0, 687768), (1, 687768)]\n"
     ]
    }
   ],
   "source": [
    "from collections import Counter\n",
    "from imblearn.over_sampling import SMOTE\n",
    "\n",
    "smote = SMOTE(random_state=42)\n",
    "X_train_resampled, y_train_resampled = smote.fit_resample(X_train, y_train)\n",
    "print(sorted(Counter(y_train_resampled).items()))\n"
   ]
  },
  {
   "cell_type": "markdown",
   "metadata": {},
   "source": [
    "#### 5.5.6.2 Build the Neural Network Model"
   ]
  },
  {
   "cell_type": "code",
   "execution_count": 16,
   "metadata": {},
   "outputs": [
    {
     "name": "stderr",
     "output_type": "stream",
     "text": [
      "c:\\Users\\shenj\\miniconda3\\envs\\datascience\\Lib\\site-packages\\keras\\src\\layers\\core\\dense.py:87: UserWarning: Do not pass an `input_shape`/`input_dim` argument to a layer. When using Sequential models, prefer using an `Input(shape)` object as the first layer in the model instead.\n",
      "  super().__init__(activity_regularizer=activity_regularizer, **kwargs)\n"
     ]
    }
   ],
   "source": [
    "from imblearn.over_sampling import SMOTE\n",
    "from tensorflow.keras.models import Sequential\n",
    "from tensorflow.keras.layers import Dense, Dropout\n",
    "from tensorflow.keras.callbacks import EarlyStopping\n",
    "from tensorflow.keras.metrics import Precision, Recall, AUC\n",
    "from sklearn.metrics import precision_recall_curve, auc\n",
    "import tensorflow as tf\n",
    "\n",
    "# Define the model\n",
    "model = Sequential([\n",
    "    Dense(64, activation='relu', input_shape=(X_train_resampled.shape[1],)),\n",
    "    Dropout(0.5),\n",
    "    Dense(32, activation='relu'),\n",
    "    Dropout(0.5),\n",
    "    Dense(1, activation='sigmoid')\n",
    "])\n",
    "\n",
    "# Compile the model with precision, recall, and AUC metrics\n",
    "model.compile(\n",
    "    optimizer='adam',\n",
    "    loss='binary_crossentropy',\n",
    "    metrics=[Precision(), Recall(), AUC(name='auc')]\n",
    ")\n"
   ]
  },
  {
   "cell_type": "code",
   "execution_count": 17,
   "metadata": {},
   "outputs": [],
   "source": [
    "# Create a Custom Callback for AUC-PR\n",
    "\n",
    "class AUC_PR(tf.keras.callbacks.Callback):\n",
    "    def __init__(self, validation_data):\n",
    "        super(AUC_PR, self).__init__()\n",
    "        self.validation_data = validation_data\n",
    "\n",
    "    def on_epoch_end(self, epoch, logs=None):\n",
    "        val_predict = np.asarray(self.model.predict(self.validation_data[0]))\n",
    "        val_targ = self.validation_data[1]\n",
    "        precision, recall, _ = precision_recall_curve(val_targ, val_predict)\n",
    "        auc_pr = auc(recall, precision)\n",
    "        print(f' - val_auc_pr: {auc_pr:.4f}')\n",
    "        logs['val_auc_pr'] = auc_pr"
   ]
  },
  {
   "cell_type": "code",
   "execution_count": 18,
   "metadata": {},
   "outputs": [
    {
     "name": "stdout",
     "output_type": "stream",
     "text": [
      "Epoch 1/100\n",
      "\u001b[1m8598/8598\u001b[0m \u001b[32m━━━━━━━━━━━━━━━━━━━━\u001b[0m\u001b[37m\u001b[0m \u001b[1m11s\u001b[0m 1ms/step\n",
      " - val_auc_pr: 0.9920\n",
      "\u001b[1m34389/34389\u001b[0m \u001b[32m━━━━━━━━━━━━━━━━━━━━\u001b[0m\u001b[37m\u001b[0m \u001b[1m92s\u001b[0m 3ms/step - auc: 0.9673 - loss: 0.2146 - precision: 0.9184 - recall: 0.9096 - val_auc: 0.9910 - val_loss: 0.1186 - val_precision: 0.9629 - val_recall: 0.9421 - val_auc_pr: 0.9920\n",
      "Epoch 2/100\n",
      "\u001b[1m8598/8598\u001b[0m \u001b[32m━━━━━━━━━━━━━━━━━━━━\u001b[0m\u001b[37m\u001b[0m \u001b[1m14s\u001b[0m 2ms/step\n",
      " - val_auc_pr: 0.9926\n",
      "\u001b[1m34389/34389\u001b[0m \u001b[32m━━━━━━━━━━━━━━━━━━━━\u001b[0m\u001b[37m\u001b[0m \u001b[1m99s\u001b[0m 3ms/step - auc: 0.9879 - loss: 0.1364 - precision: 0.9570 - recall: 0.9392 - val_auc: 0.9915 - val_loss: 0.1139 - val_precision: 0.9612 - val_recall: 0.9490 - val_auc_pr: 0.9926\n",
      "Epoch 3/100\n",
      "\u001b[1m8598/8598\u001b[0m \u001b[32m━━━━━━━━━━━━━━━━━━━━\u001b[0m\u001b[37m\u001b[0m \u001b[1m12s\u001b[0m 1ms/step\n",
      " - val_auc_pr: 0.9927\n",
      "\u001b[1m34389/34389\u001b[0m \u001b[32m━━━━━━━━━━━━━━━━━━━━\u001b[0m\u001b[37m\u001b[0m \u001b[1m93s\u001b[0m 3ms/step - auc: 0.9886 - loss: 0.1320 - precision: 0.9577 - recall: 0.9420 - val_auc: 0.9917 - val_loss: 0.1127 - val_precision: 0.9625 - val_recall: 0.9487 - val_auc_pr: 0.9927\n",
      "Epoch 4/100\n",
      "\u001b[1m8598/8598\u001b[0m \u001b[32m━━━━━━━━━━━━━━━━━━━━\u001b[0m\u001b[37m\u001b[0m \u001b[1m12s\u001b[0m 1ms/step\n",
      " - val_auc_pr: 0.9929\n",
      "\u001b[1m34389/34389\u001b[0m \u001b[32m━━━━━━━━━━━━━━━━━━━━\u001b[0m\u001b[37m\u001b[0m \u001b[1m141s\u001b[0m 3ms/step - auc: 0.9889 - loss: 0.1305 - precision: 0.9581 - recall: 0.9429 - val_auc: 0.9919 - val_loss: 0.1112 - val_precision: 0.9638 - val_recall: 0.9482 - val_auc_pr: 0.9929\n",
      "Epoch 5/100\n",
      "\u001b[1m8598/8598\u001b[0m \u001b[32m━━━━━━━━━━━━━━━━━━━━\u001b[0m\u001b[37m\u001b[0m \u001b[1m12s\u001b[0m 1ms/step\n",
      " - val_auc_pr: 0.9929\n",
      "\u001b[1m34389/34389\u001b[0m \u001b[32m━━━━━━━━━━━━━━━━━━━━\u001b[0m\u001b[37m\u001b[0m \u001b[1m88s\u001b[0m 3ms/step - auc: 0.9891 - loss: 0.1288 - precision: 0.9578 - recall: 0.9441 - val_auc: 0.9919 - val_loss: 0.1124 - val_precision: 0.9673 - val_recall: 0.9428 - val_auc_pr: 0.9929\n",
      "Epoch 6/100\n",
      "\u001b[1m8598/8598\u001b[0m \u001b[32m━━━━━━━━━━━━━━━━━━━━\u001b[0m\u001b[37m\u001b[0m \u001b[1m11s\u001b[0m 1ms/step\n",
      " - val_auc_pr: 0.9931\n",
      "\u001b[1m34389/34389\u001b[0m \u001b[32m━━━━━━━━━━━━━━━━━━━━\u001b[0m\u001b[37m\u001b[0m \u001b[1m95s\u001b[0m 3ms/step - auc: 0.9892 - loss: 0.1282 - precision: 0.9577 - recall: 0.9449 - val_auc: 0.9922 - val_loss: 0.1099 - val_precision: 0.9597 - val_recall: 0.9547 - val_auc_pr: 0.9931\n",
      "Epoch 7/100\n",
      "\u001b[1m8598/8598\u001b[0m \u001b[32m━━━━━━━━━━━━━━━━━━━━\u001b[0m\u001b[37m\u001b[0m \u001b[1m11s\u001b[0m 1ms/step\n",
      " - val_auc_pr: 0.9932\n",
      "\u001b[1m34389/34389\u001b[0m \u001b[32m━━━━━━━━━━━━━━━━━━━━\u001b[0m\u001b[37m\u001b[0m \u001b[1m85s\u001b[0m 2ms/step - auc: 0.9893 - loss: 0.1276 - precision: 0.9585 - recall: 0.9446 - val_auc: 0.9921 - val_loss: 0.1096 - val_precision: 0.9625 - val_recall: 0.9521 - val_auc_pr: 0.9932\n",
      "Epoch 8/100\n",
      "\u001b[1m8598/8598\u001b[0m \u001b[32m━━━━━━━━━━━━━━━━━━━━\u001b[0m\u001b[37m\u001b[0m \u001b[1m12s\u001b[0m 1ms/step\n",
      " - val_auc_pr: 0.9932\n",
      "\u001b[1m34389/34389\u001b[0m \u001b[32m━━━━━━━━━━━━━━━━━━━━\u001b[0m\u001b[37m\u001b[0m \u001b[1m152s\u001b[0m 3ms/step - auc: 0.9895 - loss: 0.1271 - precision: 0.9578 - recall: 0.9462 - val_auc: 0.9922 - val_loss: 0.1094 - val_precision: 0.9652 - val_recall: 0.9484 - val_auc_pr: 0.9932\n",
      "Epoch 9/100\n",
      "\u001b[1m8598/8598\u001b[0m \u001b[32m━━━━━━━━━━━━━━━━━━━━\u001b[0m\u001b[37m\u001b[0m \u001b[1m11s\u001b[0m 1ms/step\n",
      " - val_auc_pr: 0.9932\n",
      "\u001b[1m34389/34389\u001b[0m \u001b[32m━━━━━━━━━━━━━━━━━━━━\u001b[0m\u001b[37m\u001b[0m \u001b[1m96s\u001b[0m 3ms/step - auc: 0.9896 - loss: 0.1257 - precision: 0.9587 - recall: 0.9460 - val_auc: 0.9922 - val_loss: 0.1090 - val_precision: 0.9646 - val_recall: 0.9503 - val_auc_pr: 0.9932\n",
      "Epoch 10/100\n",
      "\u001b[1m8598/8598\u001b[0m \u001b[32m━━━━━━━━━━━━━━━━━━━━\u001b[0m\u001b[37m\u001b[0m \u001b[1m12s\u001b[0m 1ms/step\n",
      " - val_auc_pr: 0.9934\n",
      "\u001b[1m34389/34389\u001b[0m \u001b[32m━━━━━━━━━━━━━━━━━━━━\u001b[0m\u001b[37m\u001b[0m \u001b[1m88s\u001b[0m 3ms/step - auc: 0.9897 - loss: 0.1252 - precision: 0.9591 - recall: 0.9469 - val_auc: 0.9925 - val_loss: 0.1085 - val_precision: 0.9674 - val_recall: 0.9489 - val_auc_pr: 0.9934\n",
      "Epoch 11/100\n",
      "\u001b[1m8598/8598\u001b[0m \u001b[32m━━━━━━━━━━━━━━━━━━━━\u001b[0m\u001b[37m\u001b[0m \u001b[1m13s\u001b[0m 1ms/step\n",
      " - val_auc_pr: 0.9933\n",
      "\u001b[1m34389/34389\u001b[0m \u001b[32m━━━━━━━━━━━━━━━━━━━━\u001b[0m\u001b[37m\u001b[0m \u001b[1m99s\u001b[0m 3ms/step - auc: 0.9897 - loss: 0.1256 - precision: 0.9589 - recall: 0.9468 - val_auc: 0.9924 - val_loss: 0.1086 - val_precision: 0.9661 - val_recall: 0.9487 - val_auc_pr: 0.9933\n",
      "Epoch 12/100\n",
      "\u001b[1m8598/8598\u001b[0m \u001b[32m━━━━━━━━━━━━━━━━━━━━\u001b[0m\u001b[37m\u001b[0m \u001b[1m11s\u001b[0m 1ms/step\n",
      " - val_auc_pr: 0.9933\n",
      "\u001b[1m34389/34389\u001b[0m \u001b[32m━━━━━━━━━━━━━━━━━━━━\u001b[0m\u001b[37m\u001b[0m \u001b[1m88s\u001b[0m 3ms/step - auc: 0.9899 - loss: 0.1244 - precision: 0.9592 - recall: 0.9469 - val_auc: 0.9924 - val_loss: 0.1081 - val_precision: 0.9617 - val_recall: 0.9548 - val_auc_pr: 0.9933\n",
      "Epoch 13/100\n",
      "\u001b[1m8598/8598\u001b[0m \u001b[32m━━━━━━━━━━━━━━━━━━━━\u001b[0m\u001b[37m\u001b[0m \u001b[1m11s\u001b[0m 1ms/step\n",
      " - val_auc_pr: 0.9934\n",
      "\u001b[1m34389/34389\u001b[0m \u001b[32m━━━━━━━━━━━━━━━━━━━━\u001b[0m\u001b[37m\u001b[0m \u001b[1m84s\u001b[0m 2ms/step - auc: 0.9899 - loss: 0.1240 - precision: 0.9595 - recall: 0.9479 - val_auc: 0.9925 - val_loss: 0.1079 - val_precision: 0.9668 - val_recall: 0.9488 - val_auc_pr: 0.9934\n",
      "Epoch 14/100\n",
      "\u001b[1m8598/8598\u001b[0m \u001b[32m━━━━━━━━━━━━━━━━━━━━\u001b[0m\u001b[37m\u001b[0m \u001b[1m12s\u001b[0m 1ms/step\n",
      " - val_auc_pr: 0.9934\n",
      "\u001b[1m34389/34389\u001b[0m \u001b[32m━━━━━━━━━━━━━━━━━━━━\u001b[0m\u001b[37m\u001b[0m \u001b[1m89s\u001b[0m 3ms/step - auc: 0.9898 - loss: 0.1245 - precision: 0.9589 - recall: 0.9471 - val_auc: 0.9924 - val_loss: 0.1073 - val_precision: 0.9635 - val_recall: 0.9540 - val_auc_pr: 0.9934\n",
      "Epoch 15/100\n",
      "\u001b[1m8598/8598\u001b[0m \u001b[32m━━━━━━━━━━━━━━━━━━━━\u001b[0m\u001b[37m\u001b[0m \u001b[1m13s\u001b[0m 2ms/step\n",
      " - val_auc_pr: 0.9934\n",
      "\u001b[1m34389/34389\u001b[0m \u001b[32m━━━━━━━━━━━━━━━━━━━━\u001b[0m\u001b[37m\u001b[0m \u001b[1m93s\u001b[0m 3ms/step - auc: 0.9897 - loss: 0.1258 - precision: 0.9585 - recall: 0.9467 - val_auc: 0.9925 - val_loss: 0.1069 - val_precision: 0.9638 - val_recall: 0.9537 - val_auc_pr: 0.9934\n",
      "Epoch 16/100\n",
      "\u001b[1m8598/8598\u001b[0m \u001b[32m━━━━━━━━━━━━━━━━━━━━\u001b[0m\u001b[37m\u001b[0m \u001b[1m13s\u001b[0m 1ms/step\n",
      " - val_auc_pr: 0.9934\n",
      "\u001b[1m34389/34389\u001b[0m \u001b[32m━━━━━━━━━━━━━━━━━━━━\u001b[0m\u001b[37m\u001b[0m \u001b[1m99s\u001b[0m 3ms/step - auc: 0.9897 - loss: 0.1252 - precision: 0.9593 - recall: 0.9464 - val_auc: 0.9924 - val_loss: 0.1077 - val_precision: 0.9611 - val_recall: 0.9564 - val_auc_pr: 0.9934\n",
      "Epoch 17/100\n",
      "\u001b[1m8598/8598\u001b[0m \u001b[32m━━━━━━━━━━━━━━━━━━━━\u001b[0m\u001b[37m\u001b[0m \u001b[1m11s\u001b[0m 1ms/step\n",
      " - val_auc_pr: 0.9934\n",
      "\u001b[1m34389/34389\u001b[0m \u001b[32m━━━━━━━━━━━━━━━━━━━━\u001b[0m\u001b[37m\u001b[0m \u001b[1m130s\u001b[0m 3ms/step - auc: 0.9899 - loss: 0.1241 - precision: 0.9593 - recall: 0.9479 - val_auc: 0.9924 - val_loss: 0.1072 - val_precision: 0.9626 - val_recall: 0.9551 - val_auc_pr: 0.9934\n",
      "Epoch 18/100\n",
      "\u001b[1m8598/8598\u001b[0m \u001b[32m━━━━━━━━━━━━━━━━━━━━\u001b[0m\u001b[37m\u001b[0m \u001b[1m11s\u001b[0m 1ms/step\n",
      " - val_auc_pr: 0.9934\n",
      "\u001b[1m34389/34389\u001b[0m \u001b[32m━━━━━━━━━━━━━━━━━━━━\u001b[0m\u001b[37m\u001b[0m \u001b[1m142s\u001b[0m 3ms/step - auc: 0.9899 - loss: 0.1239 - precision: 0.9597 - recall: 0.9483 - val_auc: 0.9925 - val_loss: 0.1076 - val_precision: 0.9668 - val_recall: 0.9496 - val_auc_pr: 0.9934\n",
      "Epoch 19/100\n",
      "\u001b[1m8598/8598\u001b[0m \u001b[32m━━━━━━━━━━━━━━━━━━━━\u001b[0m\u001b[37m\u001b[0m \u001b[1m11s\u001b[0m 1ms/step\n",
      " - val_auc_pr: 0.9935\n",
      "\u001b[1m34389/34389\u001b[0m \u001b[32m━━━━━━━━━━━━━━━━━━━━\u001b[0m\u001b[37m\u001b[0m \u001b[1m92s\u001b[0m 3ms/step - auc: 0.9899 - loss: 0.1243 - precision: 0.9596 - recall: 0.9477 - val_auc: 0.9924 - val_loss: 0.1068 - val_precision: 0.9634 - val_recall: 0.9557 - val_auc_pr: 0.9935\n",
      "Epoch 20/100\n",
      "\u001b[1m8598/8598\u001b[0m \u001b[32m━━━━━━━━━━━━━━━━━━━━\u001b[0m\u001b[37m\u001b[0m \u001b[1m12s\u001b[0m 1ms/step\n",
      " - val_auc_pr: 0.9935\n",
      "\u001b[1m34389/34389\u001b[0m \u001b[32m━━━━━━━━━━━━━━━━━━━━\u001b[0m\u001b[37m\u001b[0m \u001b[1m88s\u001b[0m 3ms/step - auc: 0.9898 - loss: 0.1244 - precision: 0.9592 - recall: 0.9480 - val_auc: 0.9927 - val_loss: 0.1074 - val_precision: 0.9662 - val_recall: 0.9512 - val_auc_pr: 0.9935\n",
      "Epoch 21/100\n",
      "\u001b[1m8598/8598\u001b[0m \u001b[32m━━━━━━━━━━━━━━━━━━━━\u001b[0m\u001b[37m\u001b[0m \u001b[1m12s\u001b[0m 1ms/step\n",
      " - val_auc_pr: 0.9935\n",
      "\u001b[1m34389/34389\u001b[0m \u001b[32m━━━━━━━━━━━━━━━━━━━━\u001b[0m\u001b[37m\u001b[0m \u001b[1m88s\u001b[0m 3ms/step - auc: 0.9899 - loss: 0.1235 - precision: 0.9590 - recall: 0.9488 - val_auc: 0.9925 - val_loss: 0.1070 - val_precision: 0.9673 - val_recall: 0.9497 - val_auc_pr: 0.9935\n",
      "Epoch 22/100\n",
      "\u001b[1m8598/8598\u001b[0m \u001b[32m━━━━━━━━━━━━━━━━━━━━\u001b[0m\u001b[37m\u001b[0m \u001b[1m11s\u001b[0m 1ms/step\n",
      " - val_auc_pr: 0.9936\n",
      "\u001b[1m34389/34389\u001b[0m \u001b[32m━━━━━━━━━━━━━━━━━━━━\u001b[0m\u001b[37m\u001b[0m \u001b[1m88s\u001b[0m 3ms/step - auc: 0.9900 - loss: 0.1236 - precision: 0.9594 - recall: 0.9474 - val_auc: 0.9926 - val_loss: 0.1055 - val_precision: 0.9648 - val_recall: 0.9539 - val_auc_pr: 0.9936\n",
      "Epoch 23/100\n",
      "\u001b[1m8598/8598\u001b[0m \u001b[32m━━━━━━━━━━━━━━━━━━━━\u001b[0m\u001b[37m\u001b[0m \u001b[1m12s\u001b[0m 1ms/step\n",
      " - val_auc_pr: 0.9935\n",
      "\u001b[1m34389/34389\u001b[0m \u001b[32m━━━━━━━━━━━━━━━━━━━━\u001b[0m\u001b[37m\u001b[0m \u001b[1m89s\u001b[0m 3ms/step - auc: 0.9900 - loss: 0.1234 - precision: 0.9591 - recall: 0.9487 - val_auc: 0.9926 - val_loss: 0.1069 - val_precision: 0.9680 - val_recall: 0.9484 - val_auc_pr: 0.9935\n",
      "Epoch 24/100\n",
      "\u001b[1m8598/8598\u001b[0m \u001b[32m━━━━━━━━━━━━━━━━━━━━\u001b[0m\u001b[37m\u001b[0m \u001b[1m11s\u001b[0m 1ms/step\n",
      " - val_auc_pr: 0.9935\n",
      "\u001b[1m34389/34389\u001b[0m \u001b[32m━━━━━━━━━━━━━━━━━━━━\u001b[0m\u001b[37m\u001b[0m \u001b[1m93s\u001b[0m 3ms/step - auc: 0.9899 - loss: 0.1239 - precision: 0.9595 - recall: 0.9481 - val_auc: 0.9926 - val_loss: 0.1067 - val_precision: 0.9674 - val_recall: 0.9496 - val_auc_pr: 0.9935\n",
      "Epoch 25/100\n",
      "\u001b[1m8598/8598\u001b[0m \u001b[32m━━━━━━━━━━━━━━━━━━━━\u001b[0m\u001b[37m\u001b[0m \u001b[1m12s\u001b[0m 1ms/step\n",
      " - val_auc_pr: 0.9936\n",
      "\u001b[1m34389/34389\u001b[0m \u001b[32m━━━━━━━━━━━━━━━━━━━━\u001b[0m\u001b[37m\u001b[0m \u001b[1m91s\u001b[0m 3ms/step - auc: 0.9900 - loss: 0.1232 - precision: 0.9602 - recall: 0.9483 - val_auc: 0.9927 - val_loss: 0.1056 - val_precision: 0.9658 - val_recall: 0.9526 - val_auc_pr: 0.9936\n",
      "Epoch 26/100\n",
      "\u001b[1m8598/8598\u001b[0m \u001b[32m━━━━━━━━━━━━━━━━━━━━\u001b[0m\u001b[37m\u001b[0m \u001b[1m11s\u001b[0m 1ms/step\n",
      " - val_auc_pr: 0.9935\n",
      "\u001b[1m34389/34389\u001b[0m \u001b[32m━━━━━━━━━━━━━━━━━━━━\u001b[0m\u001b[37m\u001b[0m \u001b[1m139s\u001b[0m 3ms/step - auc: 0.9899 - loss: 0.1240 - precision: 0.9591 - recall: 0.9480 - val_auc: 0.9925 - val_loss: 0.1061 - val_precision: 0.9628 - val_recall: 0.9565 - val_auc_pr: 0.9935\n",
      "Epoch 27/100\n",
      "\u001b[1m8598/8598\u001b[0m \u001b[32m━━━━━━━━━━━━━━━━━━━━\u001b[0m\u001b[37m\u001b[0m \u001b[1m11s\u001b[0m 1ms/step\n",
      " - val_auc_pr: 0.9935\n",
      "\u001b[1m34389/34389\u001b[0m \u001b[32m━━━━━━━━━━━━━━━━━━━━\u001b[0m\u001b[37m\u001b[0m \u001b[1m84s\u001b[0m 2ms/step - auc: 0.9899 - loss: 0.1240 - precision: 0.9590 - recall: 0.9485 - val_auc: 0.9925 - val_loss: 0.1068 - val_precision: 0.9657 - val_recall: 0.9512 - val_auc_pr: 0.9935\n",
      "Epoch 28/100\n",
      "\u001b[1m8598/8598\u001b[0m \u001b[32m━━━━━━━━━━━━━━━━━━━━\u001b[0m\u001b[37m\u001b[0m \u001b[1m11s\u001b[0m 1ms/step\n",
      " - val_auc_pr: 0.9936\n",
      "\u001b[1m34389/34389\u001b[0m \u001b[32m━━━━━━━━━━━━━━━━━━━━\u001b[0m\u001b[37m\u001b[0m \u001b[1m85s\u001b[0m 2ms/step - auc: 0.9900 - loss: 0.1234 - precision: 0.9595 - recall: 0.9490 - val_auc: 0.9927 - val_loss: 0.1073 - val_precision: 0.9675 - val_recall: 0.9511 - val_auc_pr: 0.9936\n",
      "Epoch 29/100\n",
      "\u001b[1m8598/8598\u001b[0m \u001b[32m━━━━━━━━━━━━━━━━━━━━\u001b[0m\u001b[37m\u001b[0m \u001b[1m11s\u001b[0m 1ms/step\n",
      " - val_auc_pr: 0.9936\n",
      "\u001b[1m34389/34389\u001b[0m \u001b[32m━━━━━━━━━━━━━━━━━━━━\u001b[0m\u001b[37m\u001b[0m \u001b[1m84s\u001b[0m 2ms/step - auc: 0.9899 - loss: 0.1239 - precision: 0.9596 - recall: 0.9489 - val_auc: 0.9927 - val_loss: 0.1060 - val_precision: 0.9668 - val_recall: 0.9515 - val_auc_pr: 0.9936\n",
      "Epoch 30/100\n",
      "\u001b[1m8598/8598\u001b[0m \u001b[32m━━━━━━━━━━━━━━━━━━━━\u001b[0m\u001b[37m\u001b[0m \u001b[1m11s\u001b[0m 1ms/step\n",
      " - val_auc_pr: 0.9936\n",
      "\u001b[1m34389/34389\u001b[0m \u001b[32m━━━━━━━━━━━━━━━━━━━━\u001b[0m\u001b[37m\u001b[0m \u001b[1m85s\u001b[0m 2ms/step - auc: 0.9900 - loss: 0.1235 - precision: 0.9592 - recall: 0.9490 - val_auc: 0.9927 - val_loss: 0.1085 - val_precision: 0.9723 - val_recall: 0.9426 - val_auc_pr: 0.9936\n",
      "Epoch 31/100\n",
      "\u001b[1m8598/8598\u001b[0m \u001b[32m━━━━━━━━━━━━━━━━━━━━\u001b[0m\u001b[37m\u001b[0m \u001b[1m11s\u001b[0m 1ms/step\n",
      " - val_auc_pr: 0.9936\n",
      "\u001b[1m34389/34389\u001b[0m \u001b[32m━━━━━━━━━━━━━━━━━━━━\u001b[0m\u001b[37m\u001b[0m \u001b[1m85s\u001b[0m 2ms/step - auc: 0.9899 - loss: 0.1240 - precision: 0.9597 - recall: 0.9477 - val_auc: 0.9926 - val_loss: 0.1056 - val_precision: 0.9624 - val_recall: 0.9577 - val_auc_pr: 0.9936\n",
      "Epoch 32/100\n",
      "\u001b[1m8598/8598\u001b[0m \u001b[32m━━━━━━━━━━━━━━━━━━━━\u001b[0m\u001b[37m\u001b[0m \u001b[1m11s\u001b[0m 1ms/step\n",
      " - val_auc_pr: 0.9936\n",
      "\u001b[1m34389/34389\u001b[0m \u001b[32m━━━━━━━━━━━━━━━━━━━━\u001b[0m\u001b[37m\u001b[0m \u001b[1m85s\u001b[0m 2ms/step - auc: 0.9901 - loss: 0.1233 - precision: 0.9593 - recall: 0.9487 - val_auc: 0.9927 - val_loss: 0.1050 - val_precision: 0.9635 - val_recall: 0.9561 - val_auc_pr: 0.9936\n",
      "Epoch 33/100\n",
      "\u001b[1m8598/8598\u001b[0m \u001b[32m━━━━━━━━━━━━━━━━━━━━\u001b[0m\u001b[37m\u001b[0m \u001b[1m11s\u001b[0m 1ms/step\n",
      " - val_auc_pr: 0.9936\n",
      "\u001b[1m34389/34389\u001b[0m \u001b[32m━━━━━━━━━━━━━━━━━━━━\u001b[0m\u001b[37m\u001b[0m \u001b[1m87s\u001b[0m 3ms/step - auc: 0.9901 - loss: 0.1224 - precision: 0.9592 - recall: 0.9498 - val_auc: 0.9927 - val_loss: 0.1063 - val_precision: 0.9640 - val_recall: 0.9556 - val_auc_pr: 0.9936\n",
      "Epoch 34/100\n",
      "\u001b[1m8598/8598\u001b[0m \u001b[32m━━━━━━━━━━━━━━━━━━━━\u001b[0m\u001b[37m\u001b[0m \u001b[1m11s\u001b[0m 1ms/step\n",
      " - val_auc_pr: 0.9936\n",
      "\u001b[1m34389/34389\u001b[0m \u001b[32m━━━━━━━━━━━━━━━━━━━━\u001b[0m\u001b[37m\u001b[0m \u001b[1m88s\u001b[0m 3ms/step - auc: 0.9900 - loss: 0.1232 - precision: 0.9592 - recall: 0.9486 - val_auc: 0.9927 - val_loss: 0.1056 - val_precision: 0.9666 - val_recall: 0.9524 - val_auc_pr: 0.9936\n",
      "Epoch 35/100\n",
      "\u001b[1m8598/8598\u001b[0m \u001b[32m━━━━━━━━━━━━━━━━━━━━\u001b[0m\u001b[37m\u001b[0m \u001b[1m11s\u001b[0m 1ms/step\n",
      " - val_auc_pr: 0.9936\n",
      "\u001b[1m34389/34389\u001b[0m \u001b[32m━━━━━━━━━━━━━━━━━━━━\u001b[0m\u001b[37m\u001b[0m \u001b[1m86s\u001b[0m 3ms/step - auc: 0.9900 - loss: 0.1236 - precision: 0.9590 - recall: 0.9486 - val_auc: 0.9926 - val_loss: 0.1054 - val_precision: 0.9641 - val_recall: 0.9551 - val_auc_pr: 0.9936\n",
      "Epoch 36/100\n",
      "\u001b[1m8598/8598\u001b[0m \u001b[32m━━━━━━━━━━━━━━━━━━━━\u001b[0m\u001b[37m\u001b[0m \u001b[1m11s\u001b[0m 1ms/step\n",
      " - val_auc_pr: 0.9936\n",
      "\u001b[1m34389/34389\u001b[0m \u001b[32m━━━━━━━━━━━━━━━━━━━━\u001b[0m\u001b[37m\u001b[0m \u001b[1m87s\u001b[0m 3ms/step - auc: 0.9900 - loss: 0.1237 - precision: 0.9589 - recall: 0.9485 - val_auc: 0.9927 - val_loss: 0.1067 - val_precision: 0.9650 - val_recall: 0.9536 - val_auc_pr: 0.9936\n",
      "Epoch 37/100\n",
      "\u001b[1m8598/8598\u001b[0m \u001b[32m━━━━━━━━━━━━━━━━━━━━\u001b[0m\u001b[37m\u001b[0m \u001b[1m11s\u001b[0m 1ms/step\n",
      " - val_auc_pr: 0.9936\n",
      "\u001b[1m34389/34389\u001b[0m \u001b[32m━━━━━━━━━━━━━━━━━━━━\u001b[0m\u001b[37m\u001b[0m \u001b[1m90s\u001b[0m 3ms/step - auc: 0.9900 - loss: 0.1231 - precision: 0.9601 - recall: 0.9481 - val_auc: 0.9925 - val_loss: 0.1062 - val_precision: 0.9658 - val_recall: 0.9530 - val_auc_pr: 0.9936\n",
      "Epoch 38/100\n",
      "\u001b[1m8598/8598\u001b[0m \u001b[32m━━━━━━━━━━━━━━━━━━━━\u001b[0m\u001b[37m\u001b[0m \u001b[1m13s\u001b[0m 1ms/step\n",
      " - val_auc_pr: 0.9936\n",
      "\u001b[1m34389/34389\u001b[0m \u001b[32m━━━━━━━━━━━━━━━━━━━━\u001b[0m\u001b[37m\u001b[0m \u001b[1m91s\u001b[0m 3ms/step - auc: 0.9901 - loss: 0.1228 - precision: 0.9590 - recall: 0.9486 - val_auc: 0.9926 - val_loss: 0.1056 - val_precision: 0.9638 - val_recall: 0.9564 - val_auc_pr: 0.9936\n",
      "Epoch 39/100\n",
      "\u001b[1m8598/8598\u001b[0m \u001b[32m━━━━━━━━━━━━━━━━━━━━\u001b[0m\u001b[37m\u001b[0m \u001b[1m13s\u001b[0m 1ms/step\n",
      " - val_auc_pr: 0.9936\n",
      "\u001b[1m34389/34389\u001b[0m \u001b[32m━━━━━━━━━━━━━━━━━━━━\u001b[0m\u001b[37m\u001b[0m \u001b[1m96s\u001b[0m 3ms/step - auc: 0.9902 - loss: 0.1221 - precision: 0.9591 - recall: 0.9497 - val_auc: 0.9927 - val_loss: 0.1058 - val_precision: 0.9664 - val_recall: 0.9522 - val_auc_pr: 0.9936\n",
      "Epoch 40/100\n",
      "\u001b[1m8598/8598\u001b[0m \u001b[32m━━━━━━━━━━━━━━━━━━━━\u001b[0m\u001b[37m\u001b[0m \u001b[1m12s\u001b[0m 1ms/step\n",
      " - val_auc_pr: 0.9936\n",
      "\u001b[1m34389/34389\u001b[0m \u001b[32m━━━━━━━━━━━━━━━━━━━━\u001b[0m\u001b[37m\u001b[0m \u001b[1m97s\u001b[0m 3ms/step - auc: 0.9901 - loss: 0.1230 - precision: 0.9591 - recall: 0.9493 - val_auc: 0.9926 - val_loss: 0.1053 - val_precision: 0.9623 - val_recall: 0.9583 - val_auc_pr: 0.9936\n",
      "Epoch 41/100\n",
      "\u001b[1m8598/8598\u001b[0m \u001b[32m━━━━━━━━━━━━━━━━━━━━\u001b[0m\u001b[37m\u001b[0m \u001b[1m12s\u001b[0m 1ms/step\n",
      " - val_auc_pr: 0.9936\n",
      "\u001b[1m34389/34389\u001b[0m \u001b[32m━━━━━━━━━━━━━━━━━━━━\u001b[0m\u001b[37m\u001b[0m \u001b[1m94s\u001b[0m 3ms/step - auc: 0.9901 - loss: 0.1227 - precision: 0.9590 - recall: 0.9497 - val_auc: 0.9926 - val_loss: 0.1058 - val_precision: 0.9634 - val_recall: 0.9559 - val_auc_pr: 0.9936\n",
      "Epoch 42/100\n",
      "\u001b[1m8598/8598\u001b[0m \u001b[32m━━━━━━━━━━━━━━━━━━━━\u001b[0m\u001b[37m\u001b[0m \u001b[1m11s\u001b[0m 1ms/step\n",
      " - val_auc_pr: 0.9937\n",
      "\u001b[1m34389/34389\u001b[0m \u001b[32m━━━━━━━━━━━━━━━━━━━━\u001b[0m\u001b[37m\u001b[0m \u001b[1m90s\u001b[0m 3ms/step - auc: 0.9900 - loss: 0.1231 - precision: 0.9587 - recall: 0.9494 - val_auc: 0.9927 - val_loss: 0.1049 - val_precision: 0.9654 - val_recall: 0.9548 - val_auc_pr: 0.9937\n",
      "Epoch 43/100\n",
      "\u001b[1m8598/8598\u001b[0m \u001b[32m━━━━━━━━━━━━━━━━━━━━\u001b[0m\u001b[37m\u001b[0m \u001b[1m12s\u001b[0m 1ms/step\n",
      " - val_auc_pr: 0.9936\n",
      "\u001b[1m34389/34389\u001b[0m \u001b[32m━━━━━━━━━━━━━━━━━━━━\u001b[0m\u001b[37m\u001b[0m \u001b[1m87s\u001b[0m 3ms/step - auc: 0.9902 - loss: 0.1228 - precision: 0.9592 - recall: 0.9490 - val_auc: 0.9926 - val_loss: 0.1058 - val_precision: 0.9675 - val_recall: 0.9514 - val_auc_pr: 0.9936\n",
      "Epoch 44/100\n",
      "\u001b[1m8598/8598\u001b[0m \u001b[32m━━━━━━━━━━━━━━━━━━━━\u001b[0m\u001b[37m\u001b[0m \u001b[1m11s\u001b[0m 1ms/step\n",
      " - val_auc_pr: 0.9936\n",
      "\u001b[1m34389/34389\u001b[0m \u001b[32m━━━━━━━━━━━━━━━━━━━━\u001b[0m\u001b[37m\u001b[0m \u001b[1m88s\u001b[0m 3ms/step - auc: 0.9901 - loss: 0.1230 - precision: 0.9591 - recall: 0.9485 - val_auc: 0.9926 - val_loss: 0.1058 - val_precision: 0.9640 - val_recall: 0.9551 - val_auc_pr: 0.9936\n",
      "Epoch 45/100\n",
      "\u001b[1m8598/8598\u001b[0m \u001b[32m━━━━━━━━━━━━━━━━━━━━\u001b[0m\u001b[37m\u001b[0m \u001b[1m11s\u001b[0m 1ms/step\n",
      " - val_auc_pr: 0.9936\n",
      "\u001b[1m34389/34389\u001b[0m \u001b[32m━━━━━━━━━━━━━━━━━━━━\u001b[0m\u001b[37m\u001b[0m \u001b[1m92s\u001b[0m 3ms/step - auc: 0.9902 - loss: 0.1227 - precision: 0.9592 - recall: 0.9494 - val_auc: 0.9926 - val_loss: 0.1076 - val_precision: 0.9702 - val_recall: 0.9463 - val_auc_pr: 0.9936\n",
      "Epoch 46/100\n",
      "\u001b[1m8598/8598\u001b[0m \u001b[32m━━━━━━━━━━━━━━━━━━━━\u001b[0m\u001b[37m\u001b[0m \u001b[1m12s\u001b[0m 1ms/step\n",
      " - val_auc_pr: 0.9936\n",
      "\u001b[1m34389/34389\u001b[0m \u001b[32m━━━━━━━━━━━━━━━━━━━━\u001b[0m\u001b[37m\u001b[0m \u001b[1m90s\u001b[0m 3ms/step - auc: 0.9901 - loss: 0.1228 - precision: 0.9588 - recall: 0.9490 - val_auc: 0.9927 - val_loss: 0.1052 - val_precision: 0.9651 - val_recall: 0.9546 - val_auc_pr: 0.9936\n",
      "Epoch 47/100\n",
      "\u001b[1m8598/8598\u001b[0m \u001b[32m━━━━━━━━━━━━━━━━━━━━\u001b[0m\u001b[37m\u001b[0m \u001b[1m12s\u001b[0m 1ms/step\n",
      " - val_auc_pr: 0.9936\n",
      "\u001b[1m34389/34389\u001b[0m \u001b[32m━━━━━━━━━━━━━━━━━━━━\u001b[0m\u001b[37m\u001b[0m \u001b[1m89s\u001b[0m 3ms/step - auc: 0.9901 - loss: 0.1226 - precision: 0.9591 - recall: 0.9498 - val_auc: 0.9927 - val_loss: 0.1060 - val_precision: 0.9677 - val_recall: 0.9503 - val_auc_pr: 0.9936\n",
      "Epoch 48/100\n",
      "\u001b[1m8598/8598\u001b[0m \u001b[32m━━━━━━━━━━━━━━━━━━━━\u001b[0m\u001b[37m\u001b[0m \u001b[1m11s\u001b[0m 1ms/step\n",
      " - val_auc_pr: 0.9936\n",
      "\u001b[1m34389/34389\u001b[0m \u001b[32m━━━━━━━━━━━━━━━━━━━━\u001b[0m\u001b[37m\u001b[0m \u001b[1m94s\u001b[0m 3ms/step - auc: 0.9901 - loss: 0.1228 - precision: 0.9595 - recall: 0.9492 - val_auc: 0.9927 - val_loss: 0.1052 - val_precision: 0.9662 - val_recall: 0.9528 - val_auc_pr: 0.9936\n",
      "Epoch 49/100\n",
      "\u001b[1m8598/8598\u001b[0m \u001b[32m━━━━━━━━━━━━━━━━━━━━\u001b[0m\u001b[37m\u001b[0m \u001b[1m11s\u001b[0m 1ms/step\n",
      " - val_auc_pr: 0.9936\n",
      "\u001b[1m34389/34389\u001b[0m \u001b[32m━━━━━━━━━━━━━━━━━━━━\u001b[0m\u001b[37m\u001b[0m \u001b[1m85s\u001b[0m 2ms/step - auc: 0.9902 - loss: 0.1226 - precision: 0.9591 - recall: 0.9496 - val_auc: 0.9928 - val_loss: 0.1069 - val_precision: 0.9677 - val_recall: 0.9503 - val_auc_pr: 0.9936\n",
      "Epoch 50/100\n",
      "\u001b[1m8598/8598\u001b[0m \u001b[32m━━━━━━━━━━━━━━━━━━━━\u001b[0m\u001b[37m\u001b[0m \u001b[1m12s\u001b[0m 1ms/step\n",
      " - val_auc_pr: 0.9936\n",
      "\u001b[1m34389/34389\u001b[0m \u001b[32m━━━━━━━━━━━━━━━━━━━━\u001b[0m\u001b[37m\u001b[0m \u001b[1m115s\u001b[0m 3ms/step - auc: 0.9901 - loss: 0.1227 - precision: 0.9589 - recall: 0.9497 - val_auc: 0.9927 - val_loss: 0.1052 - val_precision: 0.9648 - val_recall: 0.9546 - val_auc_pr: 0.9936\n",
      "Epoch 51/100\n",
      "\u001b[1m8598/8598\u001b[0m \u001b[32m━━━━━━━━━━━━━━━━━━━━\u001b[0m\u001b[37m\u001b[0m \u001b[1m12s\u001b[0m 1ms/step\n",
      " - val_auc_pr: 0.9936\n",
      "\u001b[1m34389/34389\u001b[0m \u001b[32m━━━━━━━━━━━━━━━━━━━━\u001b[0m\u001b[37m\u001b[0m \u001b[1m99s\u001b[0m 3ms/step - auc: 0.9901 - loss: 0.1224 - precision: 0.9593 - recall: 0.9495 - val_auc: 0.9928 - val_loss: 0.1057 - val_precision: 0.9653 - val_recall: 0.9544 - val_auc_pr: 0.9936\n",
      "Epoch 52/100\n",
      "\u001b[1m8598/8598\u001b[0m \u001b[32m━━━━━━━━━━━━━━━━━━━━\u001b[0m\u001b[37m\u001b[0m \u001b[1m12s\u001b[0m 1ms/step\n",
      " - val_auc_pr: 0.9937\n",
      "\u001b[1m34389/34389\u001b[0m \u001b[32m━━━━━━━━━━━━━━━━━━━━\u001b[0m\u001b[37m\u001b[0m \u001b[1m95s\u001b[0m 3ms/step - auc: 0.9902 - loss: 0.1225 - precision: 0.9586 - recall: 0.9497 - val_auc: 0.9928 - val_loss: 0.1046 - val_precision: 0.9659 - val_recall: 0.9546 - val_auc_pr: 0.9937\n",
      "Epoch 53/100\n",
      "\u001b[1m8598/8598\u001b[0m \u001b[32m━━━━━━━━━━━━━━━━━━━━\u001b[0m\u001b[37m\u001b[0m \u001b[1m12s\u001b[0m 1ms/step\n",
      " - val_auc_pr: 0.9937\n",
      "\u001b[1m34389/34389\u001b[0m \u001b[32m━━━━━━━━━━━━━━━━━━━━\u001b[0m\u001b[37m\u001b[0m \u001b[1m91s\u001b[0m 3ms/step - auc: 0.9901 - loss: 0.1234 - precision: 0.9588 - recall: 0.9495 - val_auc: 0.9927 - val_loss: 0.1056 - val_precision: 0.9693 - val_recall: 0.9487 - val_auc_pr: 0.9937\n",
      "Epoch 54/100\n",
      "\u001b[1m8598/8598\u001b[0m \u001b[32m━━━━━━━━━━━━━━━━━━━━\u001b[0m\u001b[37m\u001b[0m \u001b[1m13s\u001b[0m 1ms/step\n",
      " - val_auc_pr: 0.9936\n",
      "\u001b[1m34389/34389\u001b[0m \u001b[32m━━━━━━━━━━━━━━━━━━━━\u001b[0m\u001b[37m\u001b[0m \u001b[1m101s\u001b[0m 3ms/step - auc: 0.9901 - loss: 0.1231 - precision: 0.9594 - recall: 0.9490 - val_auc: 0.9927 - val_loss: 0.1052 - val_precision: 0.9648 - val_recall: 0.9551 - val_auc_pr: 0.9936\n",
      "Epoch 55/100\n",
      "\u001b[1m8598/8598\u001b[0m \u001b[32m━━━━━━━━━━━━━━━━━━━━\u001b[0m\u001b[37m\u001b[0m \u001b[1m12s\u001b[0m 1ms/step\n",
      " - val_auc_pr: 0.9936\n",
      "\u001b[1m34389/34389\u001b[0m \u001b[32m━━━━━━━━━━━━━━━━━━━━\u001b[0m\u001b[37m\u001b[0m \u001b[1m94s\u001b[0m 3ms/step - auc: 0.9902 - loss: 0.1220 - precision: 0.9591 - recall: 0.9502 - val_auc: 0.9926 - val_loss: 0.1063 - val_precision: 0.9677 - val_recall: 0.9500 - val_auc_pr: 0.9936\n",
      "Epoch 56/100\n",
      "\u001b[1m8598/8598\u001b[0m \u001b[32m━━━━━━━━━━━━━━━━━━━━\u001b[0m\u001b[37m\u001b[0m \u001b[1m12s\u001b[0m 1ms/step\n",
      " - val_auc_pr: 0.9937\n",
      "\u001b[1m34389/34389\u001b[0m \u001b[32m━━━━━━━━━━━━━━━━━━━━\u001b[0m\u001b[37m\u001b[0m \u001b[1m93s\u001b[0m 3ms/step - auc: 0.9902 - loss: 0.1224 - precision: 0.9586 - recall: 0.9499 - val_auc: 0.9928 - val_loss: 0.1057 - val_precision: 0.9694 - val_recall: 0.9487 - val_auc_pr: 0.9937\n",
      "Epoch 57/100\n",
      "\u001b[1m8598/8598\u001b[0m \u001b[32m━━━━━━━━━━━━━━━━━━━━\u001b[0m\u001b[37m\u001b[0m \u001b[1m12s\u001b[0m 1ms/step\n",
      " - val_auc_pr: 0.9937\n",
      "\u001b[1m34389/34389\u001b[0m \u001b[32m━━━━━━━━━━━━━━━━━━━━\u001b[0m\u001b[37m\u001b[0m \u001b[1m91s\u001b[0m 3ms/step - auc: 0.9902 - loss: 0.1224 - precision: 0.9592 - recall: 0.9497 - val_auc: 0.9926 - val_loss: 0.1055 - val_precision: 0.9644 - val_recall: 0.9558 - val_auc_pr: 0.9937\n",
      "Epoch 58/100\n",
      "\u001b[1m8598/8598\u001b[0m \u001b[32m━━━━━━━━━━━━━━━━━━━━\u001b[0m\u001b[37m\u001b[0m \u001b[1m12s\u001b[0m 1ms/step\n",
      " - val_auc_pr: 0.9937\n",
      "\u001b[1m34389/34389\u001b[0m \u001b[32m━━━━━━━━━━━━━━━━━━━━\u001b[0m\u001b[37m\u001b[0m \u001b[1m91s\u001b[0m 3ms/step - auc: 0.9902 - loss: 0.1220 - precision: 0.9588 - recall: 0.9498 - val_auc: 0.9927 - val_loss: 0.1052 - val_precision: 0.9656 - val_recall: 0.9542 - val_auc_pr: 0.9937\n",
      "Epoch 59/100\n",
      "\u001b[1m8598/8598\u001b[0m \u001b[32m━━━━━━━━━━━━━━━━━━━━\u001b[0m\u001b[37m\u001b[0m \u001b[1m11s\u001b[0m 1ms/step\n",
      " - val_auc_pr: 0.9937\n",
      "\u001b[1m34389/34389\u001b[0m \u001b[32m━━━━━━━━━━━━━━━━━━━━\u001b[0m\u001b[37m\u001b[0m \u001b[1m140s\u001b[0m 3ms/step - auc: 0.9901 - loss: 0.1228 - precision: 0.9595 - recall: 0.9494 - val_auc: 0.9926 - val_loss: 0.1054 - val_precision: 0.9661 - val_recall: 0.9536 - val_auc_pr: 0.9937\n",
      "Epoch 60/100\n",
      "\u001b[1m8598/8598\u001b[0m \u001b[32m━━━━━━━━━━━━━━━━━━━━\u001b[0m\u001b[37m\u001b[0m \u001b[1m12s\u001b[0m 1ms/step\n",
      " - val_auc_pr: 0.9936\n",
      "\u001b[1m34389/34389\u001b[0m \u001b[32m━━━━━━━━━━━━━━━━━━━━\u001b[0m\u001b[37m\u001b[0m \u001b[1m89s\u001b[0m 3ms/step - auc: 0.9902 - loss: 0.1221 - precision: 0.9593 - recall: 0.9501 - val_auc: 0.9925 - val_loss: 0.1063 - val_precision: 0.9648 - val_recall: 0.9551 - val_auc_pr: 0.9936\n",
      "Epoch 61/100\n",
      "\u001b[1m8598/8598\u001b[0m \u001b[32m━━━━━━━━━━━━━━━━━━━━\u001b[0m\u001b[37m\u001b[0m \u001b[1m12s\u001b[0m 1ms/step\n",
      " - val_auc_pr: 0.9936\n",
      "\u001b[1m34389/34389\u001b[0m \u001b[32m━━━━━━━━━━━━━━━━━━━━\u001b[0m\u001b[37m\u001b[0m \u001b[1m91s\u001b[0m 3ms/step - auc: 0.9903 - loss: 0.1217 - precision: 0.9593 - recall: 0.9503 - val_auc: 0.9928 - val_loss: 0.1064 - val_precision: 0.9681 - val_recall: 0.9500 - val_auc_pr: 0.9936\n",
      "Epoch 62/100\n",
      "\u001b[1m8598/8598\u001b[0m \u001b[32m━━━━━━━━━━━━━━━━━━━━\u001b[0m\u001b[37m\u001b[0m \u001b[1m12s\u001b[0m 1ms/step\n",
      " - val_auc_pr: 0.9937\n",
      "\u001b[1m34389/34389\u001b[0m \u001b[32m━━━━━━━━━━━━━━━━━━━━\u001b[0m\u001b[37m\u001b[0m \u001b[1m96s\u001b[0m 3ms/step - auc: 0.9904 - loss: 0.1210 - precision: 0.9598 - recall: 0.9504 - val_auc: 0.9927 - val_loss: 0.1049 - val_precision: 0.9638 - val_recall: 0.9565 - val_auc_pr: 0.9937\n"
     ]
    }
   ],
   "source": [
    "# Train the Model with the Custom Callback\n",
    "\n",
    "# Split the training data into training and validation sets\n",
    "X_train_split, X_val_split, y_train_split, y_val_split = train_test_split(\n",
    "    X_train_resampled, y_train_resampled, test_size=0.2, random_state=42\n",
    ")\n",
    "\n",
    "# Define early stopping and custom AUC-PR callback\n",
    "early_stopping = EarlyStopping(monitor='val_loss', patience=10, restore_best_weights=True)\n",
    "auc_pr_callback = AUC_PR(validation_data=(X_val_split, y_val_split))\n",
    "\n",
    "# Train the model\n",
    "history = model.fit(\n",
    "    X_train_split, y_train_split,\n",
    "    epochs=100,\n",
    "    batch_size=32,    # limit of memory, also the running speed\n",
    "    validation_data=(X_val_split, y_val_split),\n",
    "    callbacks=[early_stopping, auc_pr_callback],\n",
    "    verbose=1\n",
    ")"
   ]
  },
  {
   "cell_type": "markdown",
   "metadata": {},
   "source": [
    "#### 5.5.6.3 Evaluate the Model"
   ]
  },
  {
   "cell_type": "code",
   "execution_count": 19,
   "metadata": {},
   "outputs": [
    {
     "name": "stdout",
     "output_type": "stream",
     "text": [
      "\u001b[1m9315/9315\u001b[0m \u001b[32m━━━━━━━━━━━━━━━━━━━━\u001b[0m\u001b[37m\u001b[0m \u001b[1m13s\u001b[0m 1ms/step - auc: 0.8440 - loss: 0.1173 - precision: 0.1058 - recall: 0.3602\n",
      "loss: 0.11628413200378418\n",
      "compile_metrics: 0.1044442430138588\n",
      "\u001b[1m9315/9315\u001b[0m \u001b[32m━━━━━━━━━━━━━━━━━━━━\u001b[0m\u001b[37m\u001b[0m \u001b[1m11s\u001b[0m 1ms/step\n",
      "              precision    recall  f1-score   support\n",
      "\n",
      "           0       0.99      0.97      0.98    294800\n",
      "           1       0.10      0.36      0.16      3269\n",
      "\n",
      "    accuracy                           0.96    298069\n",
      "   macro avg       0.55      0.66      0.57    298069\n",
      "weighted avg       0.98      0.96      0.97    298069\n",
      "\n",
      "[[284785  10015]\n",
      " [  2101   1168]]\n"
     ]
    }
   ],
   "source": [
    "# Evaluate on the test data\n",
    "results = model.evaluate(X_test, y_test)\n",
    "for name, value in zip(model.metrics_names, results):\n",
    "    print(f\"{name}: {value}\")\n",
    "\n",
    "# Predict on test data\n",
    "y_pred_probs = model.predict(X_test)\n",
    "y_pred = (y_pred_probs > 0.5).astype(int)\n",
    "\n",
    "# Classification report\n",
    "from sklearn.metrics import classification_report\n",
    "print(classification_report(y_test, y_pred))\n",
    "\n",
    "# Confusion matrix\n",
    "from sklearn.metrics import confusion_matrix\n",
    "print(confusion_matrix(y_test, y_pred))"
   ]
  },
  {
   "cell_type": "code",
   "execution_count": 21,
   "metadata": {},
   "outputs": [
    {
     "name": "stdout",
     "output_type": "stream",
     "text": [
      "0.9593516937353431\n",
      "0.10444424573012609\n",
      "0.3572958091159376\n",
      "0.1616385275394409\n",
      "0.8725704481845618\n",
      "0.12528700350742578\n"
     ]
    }
   ],
   "source": [
    "from sklearn.metrics import f1_score, precision_score, recall_score, roc_auc_score\n",
    "from sklearn.metrics import roc_curve, auc, precision_recall_curve\n",
    "from sklearn.metrics import accuracy_score\n",
    "from sklearn.metrics import average_precision_score\n",
    "\n",
    "print(accuracy_score(y_test, y_pred))\n",
    "print(precision_score(y_test, y_pred))\n",
    "print(recall_score(y_test, y_pred))\n",
    "print(f1_score(y_test, y_pred))\n",
    "print(roc_auc_score(y_test, y_score))\n",
    "\n",
    "# Compute the precision-recall curve\n",
    "precision, recall, thresholds = precision_recall_curve(y_test, y_score)\n",
    "# Compute the area under precision-recall curve (pr_auc)\n",
    "print(auc(recall, precision))"
   ]
  },
  {
   "cell_type": "markdown",
   "metadata": {},
   "source": [
    "Drop out test."
   ]
  },
  {
   "cell_type": "code",
   "execution_count": 12,
   "metadata": {},
   "outputs": [
    {
     "name": "stderr",
     "output_type": "stream",
     "text": [
      "c:\\Users\\shenj\\miniconda3\\envs\\datascience\\Lib\\site-packages\\keras\\src\\layers\\core\\dense.py:87: UserWarning: Do not pass an `input_shape`/`input_dim` argument to a layer. When using Sequential models, prefer using an `Input(shape)` object as the first layer in the model instead.\n",
      "  super().__init__(activity_regularizer=activity_regularizer, **kwargs)\n"
     ]
    },
    {
     "name": "stdout",
     "output_type": "stream",
     "text": [
      "Epoch 1/100\n",
      "\u001b[1m8598/8598\u001b[0m \u001b[32m━━━━━━━━━━━━━━━━━━━━\u001b[0m\u001b[37m\u001b[0m \u001b[1m11s\u001b[0m 1ms/step\n",
      " - val_auc_pr: 0.9928\n",
      "\u001b[1m34389/34389\u001b[0m \u001b[32m━━━━━━━━━━━━━━━━━━━━\u001b[0m\u001b[37m\u001b[0m \u001b[1m92s\u001b[0m 3ms/step - auc: 0.9774 - loss: 0.1793 - precision: 0.9339 - recall: 0.9207 - val_auc: 0.9918 - val_loss: 0.1123 - val_precision: 0.9570 - val_recall: 0.9549 - val_auc_pr: 0.9928\n",
      "Epoch 2/100\n",
      "\u001b[1m8598/8598\u001b[0m \u001b[32m━━━━━━━━━━━━━━━━━━━━\u001b[0m\u001b[37m\u001b[0m \u001b[1m11s\u001b[0m 1ms/step\n",
      " - val_auc_pr: 0.9932\n",
      "\u001b[1m34389/34389\u001b[0m \u001b[32m━━━━━━━━━━━━━━━━━━━━\u001b[0m\u001b[37m\u001b[0m \u001b[1m86s\u001b[0m 2ms/step - auc: 0.9903 - loss: 0.1220 - precision: 0.9574 - recall: 0.9487 - val_auc: 0.9924 - val_loss: 0.1089 - val_precision: 0.9552 - val_recall: 0.9609 - val_auc_pr: 0.9932\n",
      "Epoch 3/100\n",
      "\u001b[1m8598/8598\u001b[0m \u001b[32m━━━━━━━━━━━━━━━━━━━━\u001b[0m\u001b[37m\u001b[0m \u001b[1m11s\u001b[0m 1ms/step\n",
      " - val_auc_pr: 0.9935\n",
      "\u001b[1m34389/34389\u001b[0m \u001b[32m━━━━━━━━━━━━━━━━━━━━\u001b[0m\u001b[37m\u001b[0m \u001b[1m87s\u001b[0m 3ms/step - auc: 0.9909 - loss: 0.1181 - precision: 0.9586 - recall: 0.9511 - val_auc: 0.9927 - val_loss: 0.1058 - val_precision: 0.9576 - val_recall: 0.9607 - val_auc_pr: 0.9935\n",
      "Epoch 4/100\n",
      "\u001b[1m8598/8598\u001b[0m \u001b[32m━━━━━━━━━━━━━━━━━━━━\u001b[0m\u001b[37m\u001b[0m \u001b[1m21s\u001b[0m 2ms/step\n",
      " - val_auc_pr: 0.9938\n",
      "\u001b[1m34389/34389\u001b[0m \u001b[32m━━━━━━━━━━━━━━━━━━━━\u001b[0m\u001b[37m\u001b[0m \u001b[1m125s\u001b[0m 4ms/step - auc: 0.9912 - loss: 0.1159 - precision: 0.9587 - recall: 0.9533 - val_auc: 0.9930 - val_loss: 0.1042 - val_precision: 0.9602 - val_recall: 0.9599 - val_auc_pr: 0.9938\n",
      "Epoch 5/100\n",
      "\u001b[1m8598/8598\u001b[0m \u001b[32m━━━━━━━━━━━━━━━━━━━━\u001b[0m\u001b[37m\u001b[0m \u001b[1m17s\u001b[0m 2ms/step\n",
      " - val_auc_pr: 0.9939\n",
      "\u001b[1m34389/34389\u001b[0m \u001b[32m━━━━━━━━━━━━━━━━━━━━\u001b[0m\u001b[37m\u001b[0m \u001b[1m143s\u001b[0m 4ms/step - auc: 0.9913 - loss: 0.1148 - precision: 0.9591 - recall: 0.9536 - val_auc: 0.9931 - val_loss: 0.1026 - val_precision: 0.9630 - val_recall: 0.9587 - val_auc_pr: 0.9939\n",
      "Epoch 6/100\n",
      "\u001b[1m8598/8598\u001b[0m \u001b[32m━━━━━━━━━━━━━━━━━━━━\u001b[0m\u001b[37m\u001b[0m \u001b[1m16s\u001b[0m 2ms/step\n",
      " - val_auc_pr: 0.9939\n",
      "\u001b[1m34389/34389\u001b[0m \u001b[32m━━━━━━━━━━━━━━━━━━━━\u001b[0m\u001b[37m\u001b[0m \u001b[1m138s\u001b[0m 4ms/step - auc: 0.9915 - loss: 0.1142 - precision: 0.9591 - recall: 0.9541 - val_auc: 0.9932 - val_loss: 0.1024 - val_precision: 0.9607 - val_recall: 0.9607 - val_auc_pr: 0.9939\n",
      "Epoch 7/100\n",
      "\u001b[1m8598/8598\u001b[0m \u001b[32m━━━━━━━━━━━━━━━━━━━━\u001b[0m\u001b[37m\u001b[0m \u001b[1m18s\u001b[0m 2ms/step\n",
      " - val_auc_pr: 0.9940\n",
      "\u001b[1m34389/34389\u001b[0m \u001b[32m━━━━━━━━━━━━━━━━━━━━\u001b[0m\u001b[37m\u001b[0m \u001b[1m134s\u001b[0m 4ms/step - auc: 0.9915 - loss: 0.1134 - precision: 0.9599 - recall: 0.9538 - val_auc: 0.9932 - val_loss: 0.1026 - val_precision: 0.9648 - val_recall: 0.9575 - val_auc_pr: 0.9940\n",
      "Epoch 8/100\n",
      "\u001b[1m8598/8598\u001b[0m \u001b[32m━━━━━━━━━━━━━━━━━━━━\u001b[0m\u001b[37m\u001b[0m \u001b[1m15s\u001b[0m 2ms/step\n",
      " - val_auc_pr: 0.9941\n",
      "\u001b[1m34389/34389\u001b[0m \u001b[32m━━━━━━━━━━━━━━━━━━━━\u001b[0m\u001b[37m\u001b[0m \u001b[1m125s\u001b[0m 4ms/step - auc: 0.9916 - loss: 0.1128 - precision: 0.9598 - recall: 0.9557 - val_auc: 0.9934 - val_loss: 0.1007 - val_precision: 0.9618 - val_recall: 0.9612 - val_auc_pr: 0.9941\n",
      "Epoch 9/100\n",
      "\u001b[1m8598/8598\u001b[0m \u001b[32m━━━━━━━━━━━━━━━━━━━━\u001b[0m\u001b[37m\u001b[0m \u001b[1m19s\u001b[0m 2ms/step\n",
      " - val_auc_pr: 0.9941\n",
      "\u001b[1m34389/34389\u001b[0m \u001b[32m━━━━━━━━━━━━━━━━━━━━\u001b[0m\u001b[37m\u001b[0m \u001b[1m178s\u001b[0m 5ms/step - auc: 0.9917 - loss: 0.1123 - precision: 0.9597 - recall: 0.9561 - val_auc: 0.9933 - val_loss: 0.1006 - val_precision: 0.9640 - val_recall: 0.9593 - val_auc_pr: 0.9941\n",
      "Epoch 10/100\n",
      "\u001b[1m8598/8598\u001b[0m \u001b[32m━━━━━━━━━━━━━━━━━━━━\u001b[0m\u001b[37m\u001b[0m \u001b[1m17s\u001b[0m 2ms/step\n",
      " - val_auc_pr: 0.9942\n",
      "\u001b[1m34389/34389\u001b[0m \u001b[32m━━━━━━━━━━━━━━━━━━━━\u001b[0m\u001b[37m\u001b[0m \u001b[1m146s\u001b[0m 4ms/step - auc: 0.9918 - loss: 0.1111 - precision: 0.9604 - recall: 0.9563 - val_auc: 0.9935 - val_loss: 0.0996 - val_precision: 0.9633 - val_recall: 0.9606 - val_auc_pr: 0.9942\n",
      "Epoch 11/100\n",
      "\u001b[1m8598/8598\u001b[0m \u001b[32m━━━━━━━━━━━━━━━━━━━━\u001b[0m\u001b[37m\u001b[0m \u001b[1m15s\u001b[0m 2ms/step\n",
      " - val_auc_pr: 0.9942\n",
      "\u001b[1m34389/34389\u001b[0m \u001b[32m━━━━━━━━━━━━━━━━━━━━\u001b[0m\u001b[37m\u001b[0m \u001b[1m183s\u001b[0m 4ms/step - auc: 0.9918 - loss: 0.1108 - precision: 0.9604 - recall: 0.9563 - val_auc: 0.9934 - val_loss: 0.1001 - val_precision: 0.9605 - val_recall: 0.9635 - val_auc_pr: 0.9942\n",
      "Epoch 12/100\n",
      "\u001b[1m8598/8598\u001b[0m \u001b[32m━━━━━━━━━━━━━━━━━━━━\u001b[0m\u001b[37m\u001b[0m \u001b[1m16s\u001b[0m 2ms/step\n",
      " - val_auc_pr: 0.9943\n",
      "\u001b[1m34389/34389\u001b[0m \u001b[32m━━━━━━━━━━━━━━━━━━━━\u001b[0m\u001b[37m\u001b[0m \u001b[1m149s\u001b[0m 4ms/step - auc: 0.9918 - loss: 0.1110 - precision: 0.9602 - recall: 0.9564 - val_auc: 0.9935 - val_loss: 0.0991 - val_precision: 0.9613 - val_recall: 0.9637 - val_auc_pr: 0.9943\n",
      "Epoch 13/100\n",
      "\u001b[1m8598/8598\u001b[0m \u001b[32m━━━━━━━━━━━━━━━━━━━━\u001b[0m\u001b[37m\u001b[0m \u001b[1m15s\u001b[0m 2ms/step\n",
      " - val_auc_pr: 0.9942\n",
      "\u001b[1m34389/34389\u001b[0m \u001b[32m━━━━━━━━━━━━━━━━━━━━\u001b[0m\u001b[37m\u001b[0m \u001b[1m128s\u001b[0m 4ms/step - auc: 0.9917 - loss: 0.1115 - precision: 0.9603 - recall: 0.9564 - val_auc: 0.9935 - val_loss: 0.0997 - val_precision: 0.9623 - val_recall: 0.9622 - val_auc_pr: 0.9942\n",
      "Epoch 14/100\n",
      "\u001b[1m8598/8598\u001b[0m \u001b[32m━━━━━━━━━━━━━━━━━━━━\u001b[0m\u001b[37m\u001b[0m \u001b[1m15s\u001b[0m 2ms/step\n",
      " - val_auc_pr: 0.9942\n",
      "\u001b[1m34389/34389\u001b[0m \u001b[32m━━━━━━━━━━━━━━━━━━━━\u001b[0m\u001b[37m\u001b[0m \u001b[1m131s\u001b[0m 4ms/step - auc: 0.9920 - loss: 0.1098 - precision: 0.9610 - recall: 0.9568 - val_auc: 0.9934 - val_loss: 0.1003 - val_precision: 0.9589 - val_recall: 0.9647 - val_auc_pr: 0.9942\n",
      "Epoch 15/100\n",
      "\u001b[1m8598/8598\u001b[0m \u001b[32m━━━━━━━━━━━━━━━━━━━━\u001b[0m\u001b[37m\u001b[0m \u001b[1m16s\u001b[0m 2ms/step\n",
      " - val_auc_pr: 0.9943\n",
      "\u001b[1m34389/34389\u001b[0m \u001b[32m━━━━━━━━━━━━━━━━━━━━\u001b[0m\u001b[37m\u001b[0m \u001b[1m135s\u001b[0m 4ms/step - auc: 0.9921 - loss: 0.1090 - precision: 0.9607 - recall: 0.9576 - val_auc: 0.9935 - val_loss: 0.0990 - val_precision: 0.9643 - val_recall: 0.9613 - val_auc_pr: 0.9943\n",
      "Epoch 16/100\n",
      "\u001b[1m8598/8598\u001b[0m \u001b[32m━━━━━━━━━━━━━━━━━━━━\u001b[0m\u001b[37m\u001b[0m \u001b[1m15s\u001b[0m 2ms/step\n",
      " - val_auc_pr: 0.9943\n",
      "\u001b[1m34389/34389\u001b[0m \u001b[32m━━━━━━━━━━━━━━━━━━━━\u001b[0m\u001b[37m\u001b[0m \u001b[1m130s\u001b[0m 4ms/step - auc: 0.9920 - loss: 0.1095 - precision: 0.9611 - recall: 0.9573 - val_auc: 0.9935 - val_loss: 0.0989 - val_precision: 0.9638 - val_recall: 0.9619 - val_auc_pr: 0.9943\n",
      "Epoch 17/100\n",
      "\u001b[1m8598/8598\u001b[0m \u001b[32m━━━━━━━━━━━━━━━━━━━━\u001b[0m\u001b[37m\u001b[0m \u001b[1m16s\u001b[0m 2ms/step\n",
      " - val_auc_pr: 0.9943\n",
      "\u001b[1m34389/34389\u001b[0m \u001b[32m━━━━━━━━━━━━━━━━━━━━\u001b[0m\u001b[37m\u001b[0m \u001b[1m138s\u001b[0m 4ms/step - auc: 0.9921 - loss: 0.1088 - precision: 0.9611 - recall: 0.9578 - val_auc: 0.9934 - val_loss: 0.0989 - val_precision: 0.9641 - val_recall: 0.9612 - val_auc_pr: 0.9943\n",
      "Epoch 18/100\n",
      "\u001b[1m8598/8598\u001b[0m \u001b[32m━━━━━━━━━━━━━━━━━━━━\u001b[0m\u001b[37m\u001b[0m \u001b[1m11s\u001b[0m 1ms/step\n",
      " - val_auc_pr: 0.9944\n",
      "\u001b[1m34389/34389\u001b[0m \u001b[32m━━━━━━━━━━━━━━━━━━━━\u001b[0m\u001b[37m\u001b[0m \u001b[1m106s\u001b[0m 3ms/step - auc: 0.9920 - loss: 0.1100 - precision: 0.9610 - recall: 0.9569 - val_auc: 0.9937 - val_loss: 0.0980 - val_precision: 0.9622 - val_recall: 0.9643 - val_auc_pr: 0.9944\n",
      "Epoch 19/100\n",
      "\u001b[1m8598/8598\u001b[0m \u001b[32m━━━━━━━━━━━━━━━━━━━━\u001b[0m\u001b[37m\u001b[0m \u001b[1m12s\u001b[0m 1ms/step\n",
      " - val_auc_pr: 0.9944\n",
      "\u001b[1m34389/34389\u001b[0m \u001b[32m━━━━━━━━━━━━━━━━━━━━\u001b[0m\u001b[37m\u001b[0m \u001b[1m133s\u001b[0m 3ms/step - auc: 0.9920 - loss: 0.1093 - precision: 0.9612 - recall: 0.9571 - val_auc: 0.9937 - val_loss: 0.0985 - val_precision: 0.9628 - val_recall: 0.9632 - val_auc_pr: 0.9944\n",
      "Epoch 20/100\n",
      "\u001b[1m8598/8598\u001b[0m \u001b[32m━━━━━━━━━━━━━━━━━━━━\u001b[0m\u001b[37m\u001b[0m \u001b[1m12s\u001b[0m 1ms/step\n",
      " - val_auc_pr: 0.9944\n",
      "\u001b[1m34389/34389\u001b[0m \u001b[32m━━━━━━━━━━━━━━━━━━━━\u001b[0m\u001b[37m\u001b[0m \u001b[1m103s\u001b[0m 3ms/step - auc: 0.9921 - loss: 0.1090 - precision: 0.9611 - recall: 0.9573 - val_auc: 0.9937 - val_loss: 0.0987 - val_precision: 0.9654 - val_recall: 0.9599 - val_auc_pr: 0.9944\n",
      "Epoch 21/100\n",
      "\u001b[1m8598/8598\u001b[0m \u001b[32m━━━━━━━━━━━━━━━━━━━━\u001b[0m\u001b[37m\u001b[0m \u001b[1m12s\u001b[0m 1ms/step\n",
      " - val_auc_pr: 0.9944\n",
      "\u001b[1m34389/34389\u001b[0m \u001b[32m━━━━━━━━━━━━━━━━━━━━\u001b[0m\u001b[37m\u001b[0m \u001b[1m101s\u001b[0m 3ms/step - auc: 0.9920 - loss: 0.1094 - precision: 0.9611 - recall: 0.9570 - val_auc: 0.9937 - val_loss: 0.0977 - val_precision: 0.9622 - val_recall: 0.9642 - val_auc_pr: 0.9944\n",
      "Epoch 22/100\n",
      "\u001b[1m8598/8598\u001b[0m \u001b[32m━━━━━━━━━━━━━━━━━━━━\u001b[0m\u001b[37m\u001b[0m \u001b[1m15s\u001b[0m 2ms/step\n",
      " - val_auc_pr: 0.9944\n",
      "\u001b[1m34389/34389\u001b[0m \u001b[32m━━━━━━━━━━━━━━━━━━━━\u001b[0m\u001b[37m\u001b[0m \u001b[1m106s\u001b[0m 3ms/step - auc: 0.9920 - loss: 0.1096 - precision: 0.9606 - recall: 0.9573 - val_auc: 0.9937 - val_loss: 0.0981 - val_precision: 0.9636 - val_recall: 0.9632 - val_auc_pr: 0.9944\n",
      "Epoch 23/100\n",
      "\u001b[1m8598/8598\u001b[0m \u001b[32m━━━━━━━━━━━━━━━━━━━━\u001b[0m\u001b[37m\u001b[0m \u001b[1m14s\u001b[0m 2ms/step\n",
      " - val_auc_pr: 0.9944\n",
      "\u001b[1m34389/34389\u001b[0m \u001b[32m━━━━━━━━━━━━━━━━━━━━\u001b[0m\u001b[37m\u001b[0m \u001b[1m116s\u001b[0m 3ms/step - auc: 0.9921 - loss: 0.1091 - precision: 0.9604 - recall: 0.9580 - val_auc: 0.9937 - val_loss: 0.0974 - val_precision: 0.9629 - val_recall: 0.9646 - val_auc_pr: 0.9944\n",
      "Epoch 24/100\n",
      "\u001b[1m8598/8598\u001b[0m \u001b[32m━━━━━━━━━━━━━━━━━━━━\u001b[0m\u001b[37m\u001b[0m \u001b[1m12s\u001b[0m 1ms/step\n",
      " - val_auc_pr: 0.9944\n",
      "\u001b[1m34389/34389\u001b[0m \u001b[32m━━━━━━━━━━━━━━━━━━━━\u001b[0m\u001b[37m\u001b[0m \u001b[1m105s\u001b[0m 3ms/step - auc: 0.9920 - loss: 0.1094 - precision: 0.9609 - recall: 0.9575 - val_auc: 0.9936 - val_loss: 0.0977 - val_precision: 0.9616 - val_recall: 0.9653 - val_auc_pr: 0.9944\n",
      "Epoch 25/100\n",
      "\u001b[1m8598/8598\u001b[0m \u001b[32m━━━━━━━━━━━━━━━━━━━━\u001b[0m\u001b[37m\u001b[0m \u001b[1m12s\u001b[0m 1ms/step\n",
      " - val_auc_pr: 0.9944\n",
      "\u001b[1m34389/34389\u001b[0m \u001b[32m━━━━━━━━━━━━━━━━━━━━\u001b[0m\u001b[37m\u001b[0m \u001b[1m97s\u001b[0m 3ms/step - auc: 0.9922 - loss: 0.1082 - precision: 0.9613 - recall: 0.9584 - val_auc: 0.9937 - val_loss: 0.0982 - val_precision: 0.9654 - val_recall: 0.9608 - val_auc_pr: 0.9944\n",
      "Epoch 26/100\n",
      "\u001b[1m8598/8598\u001b[0m \u001b[32m━━━━━━━━━━━━━━━━━━━━\u001b[0m\u001b[37m\u001b[0m \u001b[1m17s\u001b[0m 2ms/step\n",
      " - val_auc_pr: 0.9944\n",
      "\u001b[1m34389/34389\u001b[0m \u001b[32m━━━━━━━━━━━━━━━━━━━━\u001b[0m\u001b[37m\u001b[0m \u001b[1m114s\u001b[0m 3ms/step - auc: 0.9921 - loss: 0.1087 - precision: 0.9609 - recall: 0.9583 - val_auc: 0.9937 - val_loss: 0.0977 - val_precision: 0.9633 - val_recall: 0.9633 - val_auc_pr: 0.9944\n",
      "Epoch 27/100\n",
      "\u001b[1m8598/8598\u001b[0m \u001b[32m━━━━━━━━━━━━━━━━━━━━\u001b[0m\u001b[37m\u001b[0m \u001b[1m11s\u001b[0m 1ms/step\n",
      " - val_auc_pr: 0.9944\n",
      "\u001b[1m34389/34389\u001b[0m \u001b[32m━━━━━━━━━━━━━━━━━━━━\u001b[0m\u001b[37m\u001b[0m \u001b[1m104s\u001b[0m 3ms/step - auc: 0.9920 - loss: 0.1096 - precision: 0.9608 - recall: 0.9578 - val_auc: 0.9937 - val_loss: 0.0975 - val_precision: 0.9645 - val_recall: 0.9625 - val_auc_pr: 0.9944\n",
      "Epoch 28/100\n",
      "\u001b[1m8598/8598\u001b[0m \u001b[32m━━━━━━━━━━━━━━━━━━━━\u001b[0m\u001b[37m\u001b[0m \u001b[1m12s\u001b[0m 1ms/step\n",
      " - val_auc_pr: 0.9945\n",
      "\u001b[1m34389/34389\u001b[0m \u001b[32m━━━━━━━━━━━━━━━━━━━━\u001b[0m\u001b[37m\u001b[0m \u001b[1m100s\u001b[0m 3ms/step - auc: 0.9922 - loss: 0.1082 - precision: 0.9615 - recall: 0.9582 - val_auc: 0.9938 - val_loss: 0.0973 - val_precision: 0.9631 - val_recall: 0.9643 - val_auc_pr: 0.9945\n",
      "Epoch 29/100\n",
      "\u001b[1m8598/8598\u001b[0m \u001b[32m━━━━━━━━━━━━━━━━━━━━\u001b[0m\u001b[37m\u001b[0m \u001b[1m12s\u001b[0m 1ms/step\n",
      " - val_auc_pr: 0.9945\n",
      "\u001b[1m34389/34389\u001b[0m \u001b[32m━━━━━━━━━━━━━━━━━━━━\u001b[0m\u001b[37m\u001b[0m \u001b[1m97s\u001b[0m 3ms/step - auc: 0.9923 - loss: 0.1075 - precision: 0.9614 - recall: 0.9581 - val_auc: 0.9937 - val_loss: 0.0971 - val_precision: 0.9633 - val_recall: 0.9634 - val_auc_pr: 0.9945\n",
      "Epoch 30/100\n",
      "\u001b[1m8598/8598\u001b[0m \u001b[32m━━━━━━━━━━━━━━━━━━━━\u001b[0m\u001b[37m\u001b[0m \u001b[1m12s\u001b[0m 1ms/step\n",
      " - val_auc_pr: 0.9945\n",
      "\u001b[1m34389/34389\u001b[0m \u001b[32m━━━━━━━━━━━━━━━━━━━━\u001b[0m\u001b[37m\u001b[0m \u001b[1m98s\u001b[0m 3ms/step - auc: 0.9921 - loss: 0.1085 - precision: 0.9610 - recall: 0.9581 - val_auc: 0.9938 - val_loss: 0.0967 - val_precision: 0.9623 - val_recall: 0.9655 - val_auc_pr: 0.9945\n",
      "Epoch 31/100\n",
      "\u001b[1m8598/8598\u001b[0m \u001b[32m━━━━━━━━━━━━━━━━━━━━\u001b[0m\u001b[37m\u001b[0m \u001b[1m13s\u001b[0m 1ms/step\n",
      " - val_auc_pr: 0.9945\n",
      "\u001b[1m34389/34389\u001b[0m \u001b[32m━━━━━━━━━━━━━━━━━━━━\u001b[0m\u001b[37m\u001b[0m \u001b[1m103s\u001b[0m 3ms/step - auc: 0.9921 - loss: 0.1085 - precision: 0.9616 - recall: 0.9580 - val_auc: 0.9938 - val_loss: 0.0978 - val_precision: 0.9638 - val_recall: 0.9634 - val_auc_pr: 0.9945\n",
      "Epoch 32/100\n",
      "\u001b[1m8598/8598\u001b[0m \u001b[32m━━━━━━━━━━━━━━━━━━━━\u001b[0m\u001b[37m\u001b[0m \u001b[1m12s\u001b[0m 1ms/step\n",
      " - val_auc_pr: 0.9945\n",
      "\u001b[1m34389/34389\u001b[0m \u001b[32m━━━━━━━━━━━━━━━━━━━━\u001b[0m\u001b[37m\u001b[0m \u001b[1m96s\u001b[0m 3ms/step - auc: 0.9922 - loss: 0.1078 - precision: 0.9618 - recall: 0.9586 - val_auc: 0.9938 - val_loss: 0.0971 - val_precision: 0.9662 - val_recall: 0.9608 - val_auc_pr: 0.9945\n",
      "Epoch 33/100\n",
      "\u001b[1m8598/8598\u001b[0m \u001b[32m━━━━━━━━━━━━━━━━━━━━\u001b[0m\u001b[37m\u001b[0m \u001b[1m13s\u001b[0m 2ms/step\n",
      " - val_auc_pr: 0.9945\n",
      "\u001b[1m34389/34389\u001b[0m \u001b[32m━━━━━━━━━━━━━━━━━━━━\u001b[0m\u001b[37m\u001b[0m \u001b[1m101s\u001b[0m 3ms/step - auc: 0.9921 - loss: 0.1084 - precision: 0.9614 - recall: 0.9584 - val_auc: 0.9938 - val_loss: 0.0970 - val_precision: 0.9636 - val_recall: 0.9634 - val_auc_pr: 0.9945\n",
      "Epoch 34/100\n",
      "\u001b[1m8598/8598\u001b[0m \u001b[32m━━━━━━━━━━━━━━━━━━━━\u001b[0m\u001b[37m\u001b[0m \u001b[1m11s\u001b[0m 1ms/step\n",
      " - val_auc_pr: 0.9945\n",
      "\u001b[1m34389/34389\u001b[0m \u001b[32m━━━━━━━━━━━━━━━━━━━━\u001b[0m\u001b[37m\u001b[0m \u001b[1m100s\u001b[0m 3ms/step - auc: 0.9921 - loss: 0.1084 - precision: 0.9616 - recall: 0.9583 - val_auc: 0.9938 - val_loss: 0.0985 - val_precision: 0.9619 - val_recall: 0.9660 - val_auc_pr: 0.9945\n",
      "Epoch 35/100\n",
      "\u001b[1m8598/8598\u001b[0m \u001b[32m━━━━━━━━━━━━━━━━━━━━\u001b[0m\u001b[37m\u001b[0m \u001b[1m12s\u001b[0m 1ms/step\n",
      " - val_auc_pr: 0.9945\n",
      "\u001b[1m34389/34389\u001b[0m \u001b[32m━━━━━━━━━━━━━━━━━━━━\u001b[0m\u001b[37m\u001b[0m \u001b[1m98s\u001b[0m 3ms/step - auc: 0.9922 - loss: 0.1081 - precision: 0.9615 - recall: 0.9585 - val_auc: 0.9938 - val_loss: 0.0974 - val_precision: 0.9614 - val_recall: 0.9662 - val_auc_pr: 0.9945\n",
      "Epoch 36/100\n",
      "\u001b[1m8598/8598\u001b[0m \u001b[32m━━━━━━━━━━━━━━━━━━━━\u001b[0m\u001b[37m\u001b[0m \u001b[1m11s\u001b[0m 1ms/step\n",
      " - val_auc_pr: 0.9945\n",
      "\u001b[1m34389/34389\u001b[0m \u001b[32m━━━━━━━━━━━━━━━━━━━━\u001b[0m\u001b[37m\u001b[0m \u001b[1m93s\u001b[0m 3ms/step - auc: 0.9923 - loss: 0.1077 - precision: 0.9612 - recall: 0.9585 - val_auc: 0.9938 - val_loss: 0.0969 - val_precision: 0.9627 - val_recall: 0.9649 - val_auc_pr: 0.9945\n",
      "Epoch 37/100\n",
      "\u001b[1m8598/8598\u001b[0m \u001b[32m━━━━━━━━━━━━━━━━━━━━\u001b[0m\u001b[37m\u001b[0m \u001b[1m11s\u001b[0m 1ms/step\n",
      " - val_auc_pr: 0.9945\n",
      "\u001b[1m34389/34389\u001b[0m \u001b[32m━━━━━━━━━━━━━━━━━━━━\u001b[0m\u001b[37m\u001b[0m \u001b[1m93s\u001b[0m 3ms/step - auc: 0.9923 - loss: 0.1075 - precision: 0.9618 - recall: 0.9583 - val_auc: 0.9938 - val_loss: 0.0971 - val_precision: 0.9654 - val_recall: 0.9619 - val_auc_pr: 0.9945\n",
      "Epoch 38/100\n",
      "\u001b[1m8598/8598\u001b[0m \u001b[32m━━━━━━━━━━━━━━━━━━━━\u001b[0m\u001b[37m\u001b[0m \u001b[1m11s\u001b[0m 1ms/step\n",
      " - val_auc_pr: 0.9945\n",
      "\u001b[1m34389/34389\u001b[0m \u001b[32m━━━━━━━━━━━━━━━━━━━━\u001b[0m\u001b[37m\u001b[0m \u001b[1m93s\u001b[0m 3ms/step - auc: 0.9922 - loss: 0.1079 - precision: 0.9615 - recall: 0.9585 - val_auc: 0.9937 - val_loss: 0.0967 - val_precision: 0.9643 - val_recall: 0.9625 - val_auc_pr: 0.9945\n",
      "Epoch 39/100\n",
      "\u001b[1m8598/8598\u001b[0m \u001b[32m━━━━━━━━━━━━━━━━━━━━\u001b[0m\u001b[37m\u001b[0m \u001b[1m12s\u001b[0m 1ms/step\n",
      " - val_auc_pr: 0.9945\n",
      "\u001b[1m34389/34389\u001b[0m \u001b[32m━━━━━━━━━━━━━━━━━━━━\u001b[0m\u001b[37m\u001b[0m \u001b[1m106s\u001b[0m 3ms/step - auc: 0.9922 - loss: 0.1081 - precision: 0.9616 - recall: 0.9585 - val_auc: 0.9937 - val_loss: 0.0961 - val_precision: 0.9642 - val_recall: 0.9647 - val_auc_pr: 0.9945\n",
      "Epoch 40/100\n",
      "\u001b[1m8598/8598\u001b[0m \u001b[32m━━━━━━━━━━━━━━━━━━━━\u001b[0m\u001b[37m\u001b[0m \u001b[1m15s\u001b[0m 2ms/step\n",
      " - val_auc_pr: 0.9945\n",
      "\u001b[1m34389/34389\u001b[0m \u001b[32m━━━━━━━━━━━━━━━━━━━━\u001b[0m\u001b[37m\u001b[0m \u001b[1m112s\u001b[0m 3ms/step - auc: 0.9923 - loss: 0.1075 - precision: 0.9616 - recall: 0.9586 - val_auc: 0.9938 - val_loss: 0.0976 - val_precision: 0.9667 - val_recall: 0.9599 - val_auc_pr: 0.9945\n",
      "Epoch 41/100\n",
      "\u001b[1m8598/8598\u001b[0m \u001b[32m━━━━━━━━━━━━━━━━━━━━\u001b[0m\u001b[37m\u001b[0m \u001b[1m12s\u001b[0m 1ms/step\n",
      " - val_auc_pr: 0.9945\n",
      "\u001b[1m34389/34389\u001b[0m \u001b[32m━━━━━━━━━━━━━━━━━━━━\u001b[0m\u001b[37m\u001b[0m \u001b[1m105s\u001b[0m 3ms/step - auc: 0.9921 - loss: 0.1081 - precision: 0.9614 - recall: 0.9584 - val_auc: 0.9939 - val_loss: 0.0980 - val_precision: 0.9667 - val_recall: 0.9603 - val_auc_pr: 0.9945\n",
      "Epoch 42/100\n",
      "\u001b[1m8598/8598\u001b[0m \u001b[32m━━━━━━━━━━━━━━━━━━━━\u001b[0m\u001b[37m\u001b[0m \u001b[1m12s\u001b[0m 1ms/step\n",
      " - val_auc_pr: 0.9945\n",
      "\u001b[1m34389/34389\u001b[0m \u001b[32m━━━━━━━━━━━━━━━━━━━━\u001b[0m\u001b[37m\u001b[0m \u001b[1m116s\u001b[0m 3ms/step - auc: 0.9923 - loss: 0.1075 - precision: 0.9619 - recall: 0.9583 - val_auc: 0.9938 - val_loss: 0.0985 - val_precision: 0.9690 - val_recall: 0.9576 - val_auc_pr: 0.9945\n",
      "Epoch 43/100\n",
      "\u001b[1m8598/8598\u001b[0m \u001b[32m━━━━━━━━━━━━━━━━━━━━\u001b[0m\u001b[37m\u001b[0m \u001b[1m11s\u001b[0m 1ms/step\n",
      " - val_auc_pr: 0.9945\n",
      "\u001b[1m34389/34389\u001b[0m \u001b[32m━━━━━━━━━━━━━━━━━━━━\u001b[0m\u001b[37m\u001b[0m \u001b[1m112s\u001b[0m 3ms/step - auc: 0.9922 - loss: 0.1079 - precision: 0.9616 - recall: 0.9580 - val_auc: 0.9938 - val_loss: 0.0965 - val_precision: 0.9631 - val_recall: 0.9645 - val_auc_pr: 0.9945\n",
      "Epoch 44/100\n",
      "\u001b[1m8598/8598\u001b[0m \u001b[32m━━━━━━━━━━━━━━━━━━━━\u001b[0m\u001b[37m\u001b[0m \u001b[1m12s\u001b[0m 1ms/step\n",
      " - val_auc_pr: 0.9946\n",
      "\u001b[1m34389/34389\u001b[0m \u001b[32m━━━━━━━━━━━━━━━━━━━━\u001b[0m\u001b[37m\u001b[0m \u001b[1m115s\u001b[0m 3ms/step - auc: 0.9923 - loss: 0.1073 - precision: 0.9619 - recall: 0.9589 - val_auc: 0.9939 - val_loss: 0.0976 - val_precision: 0.9680 - val_recall: 0.9593 - val_auc_pr: 0.9946\n",
      "Epoch 45/100\n",
      "\u001b[1m8598/8598\u001b[0m \u001b[32m━━━━━━━━━━━━━━━━━━━━\u001b[0m\u001b[37m\u001b[0m \u001b[1m14s\u001b[0m 2ms/step\n",
      " - val_auc_pr: 0.9945\n",
      "\u001b[1m34389/34389\u001b[0m \u001b[32m━━━━━━━━━━━━━━━━━━━━\u001b[0m\u001b[37m\u001b[0m \u001b[1m104s\u001b[0m 3ms/step - auc: 0.9922 - loss: 0.1084 - precision: 0.9613 - recall: 0.9580 - val_auc: 0.9938 - val_loss: 0.0968 - val_precision: 0.9633 - val_recall: 0.9644 - val_auc_pr: 0.9945\n",
      "Epoch 46/100\n",
      "\u001b[1m8598/8598\u001b[0m \u001b[32m━━━━━━━━━━━━━━━━━━━━\u001b[0m\u001b[37m\u001b[0m \u001b[1m10s\u001b[0m 1ms/step\n",
      " - val_auc_pr: 0.9945\n",
      "\u001b[1m34389/34389\u001b[0m \u001b[32m━━━━━━━━━━━━━━━━━━━━\u001b[0m\u001b[37m\u001b[0m \u001b[1m95s\u001b[0m 3ms/step - auc: 0.9923 - loss: 0.1074 - precision: 0.9610 - recall: 0.9587 - val_auc: 0.9938 - val_loss: 0.0967 - val_precision: 0.9629 - val_recall: 0.9650 - val_auc_pr: 0.9945\n",
      "Epoch 47/100\n",
      "\u001b[1m8598/8598\u001b[0m \u001b[32m━━━━━━━━━━━━━━━━━━━━\u001b[0m\u001b[37m\u001b[0m \u001b[1m9s\u001b[0m 1ms/step\n",
      " - val_auc_pr: 0.9945\n",
      "\u001b[1m34389/34389\u001b[0m \u001b[32m━━━━━━━━━━━━━━━━━━━━\u001b[0m\u001b[37m\u001b[0m \u001b[1m80s\u001b[0m 2ms/step - auc: 0.9923 - loss: 0.1069 - precision: 0.9624 - recall: 0.9587 - val_auc: 0.9938 - val_loss: 0.0969 - val_precision: 0.9630 - val_recall: 0.9648 - val_auc_pr: 0.9945\n",
      "Epoch 48/100\n",
      "\u001b[1m8598/8598\u001b[0m \u001b[32m━━━━━━━━━━━━━━━━━━━━\u001b[0m\u001b[37m\u001b[0m \u001b[1m9s\u001b[0m 1ms/step\n",
      " - val_auc_pr: 0.9945\n",
      "\u001b[1m34389/34389\u001b[0m \u001b[32m━━━━━━━━━━━━━━━━━━━━\u001b[0m\u001b[37m\u001b[0m \u001b[1m81s\u001b[0m 2ms/step - auc: 0.9924 - loss: 0.1067 - precision: 0.9619 - recall: 0.9587 - val_auc: 0.9939 - val_loss: 0.0965 - val_precision: 0.9657 - val_recall: 0.9618 - val_auc_pr: 0.9945\n",
      "Epoch 49/100\n",
      "\u001b[1m8598/8598\u001b[0m \u001b[32m━━━━━━━━━━━━━━━━━━━━\u001b[0m\u001b[37m\u001b[0m \u001b[1m9s\u001b[0m 1ms/step\n",
      " - val_auc_pr: 0.9945\n",
      "\u001b[1m34389/34389\u001b[0m \u001b[32m━━━━━━━━━━━━━━━━━━━━\u001b[0m\u001b[37m\u001b[0m \u001b[1m76s\u001b[0m 2ms/step - auc: 0.9923 - loss: 0.1074 - precision: 0.9617 - recall: 0.9589 - val_auc: 0.9939 - val_loss: 0.0978 - val_precision: 0.9602 - val_recall: 0.9680 - val_auc_pr: 0.9945\n",
      "\u001b[1m9315/9315\u001b[0m \u001b[32m━━━━━━━━━━━━━━━━━━━━\u001b[0m\u001b[37m\u001b[0m \u001b[1m10s\u001b[0m 1ms/step - auc: 0.8347 - loss: 0.1176 - precision: 0.1054 - recall: 0.3772\n",
      "loss: 0.11640780419111252\n",
      "compile_metrics: 0.10289252549409866\n",
      "\u001b[1m9315/9315\u001b[0m \u001b[32m━━━━━━━━━━━━━━━━━━━━\u001b[0m\u001b[37m\u001b[0m \u001b[1m10s\u001b[0m 1ms/step\n",
      "              precision    recall  f1-score   support\n",
      "\n",
      "           0       0.99      0.96      0.98    294800\n",
      "           1       0.10      0.37      0.16      3269\n",
      "\n",
      "    accuracy                           0.96    298069\n",
      "   macro avg       0.55      0.67      0.57    298069\n",
      "weighted avg       0.98      0.96      0.97    298069\n",
      "\n",
      "[[284224  10576]\n",
      " [  2056   1213]]\n"
     ]
    }
   ],
   "source": [
    "from imblearn.over_sampling import SMOTE\n",
    "from tensorflow.keras.models import Sequential\n",
    "from tensorflow.keras.layers import Dense, Dropout\n",
    "from tensorflow.keras.callbacks import EarlyStopping\n",
    "from tensorflow.keras.metrics import Precision, Recall, AUC\n",
    "from sklearn.metrics import precision_recall_curve, auc\n",
    "import tensorflow as tf\n",
    "\n",
    "# Define the model\n",
    "model = Sequential([\n",
    "    Dense(64, activation='relu', input_shape=(X_train_resampled.shape[1],)),\n",
    "    Dropout(0.3),\n",
    "    Dense(32, activation='relu'),\n",
    "    Dropout(0.3),\n",
    "    Dense(1, activation='sigmoid')\n",
    "])\n",
    "\n",
    "# Compile the model with precision, recall, and AUC metrics\n",
    "model.compile(\n",
    "    optimizer='adam',\n",
    "    loss='binary_crossentropy',\n",
    "    metrics=[Precision(), Recall(), AUC(name='auc')]\n",
    ")\n",
    "\n",
    "# Create a Custom Callback for AUC-PR\n",
    "\n",
    "class AUC_PR(tf.keras.callbacks.Callback):\n",
    "    def __init__(self, validation_data):\n",
    "        super(AUC_PR, self).__init__()\n",
    "        self.validation_data = validation_data\n",
    "\n",
    "    def on_epoch_end(self, epoch, logs=None):\n",
    "        val_predict = np.asarray(self.model.predict(self.validation_data[0]))\n",
    "        val_targ = self.validation_data[1]\n",
    "        precision, recall, _ = precision_recall_curve(val_targ, val_predict)\n",
    "        auc_pr = auc(recall, precision)\n",
    "        print(f' - val_auc_pr: {auc_pr:.4f}')\n",
    "        logs['val_auc_pr'] = auc_pr\n",
    "\n",
    "# Train the Model with the Custom Callback\n",
    "\n",
    "# Split the training data into training and validation sets\n",
    "X_train_split, X_val_split, y_train_split, y_val_split = train_test_split(\n",
    "    X_train_resampled, y_train_resampled, test_size=0.2, random_state=42\n",
    ")\n",
    "\n",
    "# Define early stopping and custom AUC-PR callback\n",
    "early_stopping = EarlyStopping(monitor='val_loss', patience=10, restore_best_weights=True)\n",
    "auc_pr_callback = AUC_PR(validation_data=(X_val_split, y_val_split))\n",
    "\n",
    "# Train the model\n",
    "history = model.fit(\n",
    "    X_train_split, y_train_split,\n",
    "    epochs=100,\n",
    "    batch_size=32,    # limit of memory, also the running speed\n",
    "    validation_data=(X_val_split, y_val_split),\n",
    "    callbacks=[early_stopping, auc_pr_callback],\n",
    "    verbose=1\n",
    ")\n",
    "\n",
    "# Evaluate on the test data\n",
    "results = model.evaluate(X_test, y_test)\n",
    "for name, value in zip(model.metrics_names, results):\n",
    "    print(f\"{name}: {value}\")\n",
    "\n",
    "# Predict on test data\n",
    "y_pred_probs = model.predict(X_test)\n",
    "y_pred = (y_pred_probs > 0.5).astype(int)\n",
    "\n",
    "# Classification report\n",
    "from sklearn.metrics import classification_report\n",
    "print(classification_report(y_test, y_pred))\n",
    "\n",
    "# Confusion matrix\n",
    "from sklearn.metrics import confusion_matrix\n",
    "print(confusion_matrix(y_test, y_pred))\n"
   ]
  },
  {
   "cell_type": "code",
   "execution_count": 13,
   "metadata": {},
   "outputs": [
    {
     "name": "stdout",
     "output_type": "stream",
     "text": [
      "              precision    recall  f1-score   support\n",
      "\n",
      "           0       0.99      0.96      0.98    294800\n",
      "           1       0.10      0.37      0.16      3269\n",
      "\n",
      "    accuracy                           0.96    298069\n",
      "   macro avg       0.55      0.67      0.57    298069\n",
      "weighted avg       0.98      0.96      0.97    298069\n",
      "\n",
      "[[284224  10576]\n",
      " [  2056   1213]]\n"
     ]
    }
   ],
   "source": [
    "print(classification_report(y_test, y_pred))\n",
    "print(confusion_matrix(y_test, y_pred))"
   ]
  },
  {
   "cell_type": "markdown",
   "metadata": {},
   "source": [
    "Normalization"
   ]
  },
  {
   "cell_type": "code",
   "execution_count": 12,
   "metadata": {},
   "outputs": [
    {
     "name": "stdout",
     "output_type": "stream",
     "text": [
      "[(0, 687768), (1, 687768)]\n"
     ]
    },
    {
     "name": "stderr",
     "output_type": "stream",
     "text": [
      "c:\\Users\\shenj\\miniconda3\\envs\\datascience\\Lib\\site-packages\\keras\\src\\layers\\core\\dense.py:87: UserWarning: Do not pass an `input_shape`/`input_dim` argument to a layer. When using Sequential models, prefer using an `Input(shape)` object as the first layer in the model instead.\n",
      "  super().__init__(activity_regularizer=activity_regularizer, **kwargs)\n"
     ]
    },
    {
     "name": "stdout",
     "output_type": "stream",
     "text": [
      "Epoch 1/100\n",
      "\u001b[1m8598/8598\u001b[0m \u001b[32m━━━━━━━━━━━━━━━━━━━━\u001b[0m\u001b[37m\u001b[0m \u001b[1m11s\u001b[0m 1ms/step\n",
      " - val_auc_pr: 0.9926\n",
      "\u001b[1m34389/34389\u001b[0m \u001b[32m━━━━━━━━━━━━━━━━━━━━\u001b[0m\u001b[37m\u001b[0m \u001b[1m103s\u001b[0m 3ms/step - auc: 0.9740 - loss: 0.1939 - precision: 0.9260 - recall: 0.9196 - val_auc: 0.9916 - val_loss: 0.1146 - val_precision: 0.9611 - val_recall: 0.9473 - val_auc_pr: 0.9926\n",
      "Epoch 2/100\n",
      "\u001b[1m8598/8598\u001b[0m \u001b[32m━━━━━━━━━━━━━━━━━━━━\u001b[0m\u001b[37m\u001b[0m \u001b[1m11s\u001b[0m 1ms/step\n",
      " - val_auc_pr: 0.9929\n",
      "\u001b[1m34389/34389\u001b[0m \u001b[32m━━━━━━━━━━━━━━━━━━━━\u001b[0m\u001b[37m\u001b[0m \u001b[1m100s\u001b[0m 3ms/step - auc: 0.9873 - loss: 0.1396 - precision: 0.9506 - recall: 0.9443 - val_auc: 0.9921 - val_loss: 0.1121 - val_precision: 0.9545 - val_recall: 0.9574 - val_auc_pr: 0.9929\n",
      "Epoch 3/100\n",
      "\u001b[1m8598/8598\u001b[0m \u001b[32m━━━━━━━━━━━━━━━━━━━━\u001b[0m\u001b[37m\u001b[0m \u001b[1m13s\u001b[0m 1ms/step\n",
      " - val_auc_pr: 0.9931\n",
      "\u001b[1m34389/34389\u001b[0m \u001b[32m━━━━━━━━━━━━━━━━━━━━\u001b[0m\u001b[37m\u001b[0m \u001b[1m143s\u001b[0m 3ms/step - auc: 0.9890 - loss: 0.1307 - precision: 0.9539 - recall: 0.9467 - val_auc: 0.9923 - val_loss: 0.1102 - val_precision: 0.9649 - val_recall: 0.9458 - val_auc_pr: 0.9931\n",
      "Epoch 4/100\n",
      "\u001b[1m8598/8598\u001b[0m \u001b[32m━━━━━━━━━━━━━━━━━━━━\u001b[0m\u001b[37m\u001b[0m \u001b[1m11s\u001b[0m 1ms/step\n",
      " - val_auc_pr: 0.9933\n",
      "\u001b[1m34389/34389\u001b[0m \u001b[32m━━━━━━━━━━━━━━━━━━━━\u001b[0m\u001b[37m\u001b[0m \u001b[1m98s\u001b[0m 3ms/step - auc: 0.9893 - loss: 0.1285 - precision: 0.9551 - recall: 0.9477 - val_auc: 0.9925 - val_loss: 0.1087 - val_precision: 0.9528 - val_recall: 0.9617 - val_auc_pr: 0.9933\n",
      "Epoch 5/100\n",
      "\u001b[1m8598/8598\u001b[0m \u001b[32m━━━━━━━━━━━━━━━━━━━━\u001b[0m\u001b[37m\u001b[0m \u001b[1m11s\u001b[0m 1ms/step\n",
      " - val_auc_pr: 0.9933\n",
      "\u001b[1m34389/34389\u001b[0m \u001b[32m━━━━━━━━━━━━━━━━━━━━\u001b[0m\u001b[37m\u001b[0m \u001b[1m96s\u001b[0m 3ms/step - auc: 0.9898 - loss: 0.1253 - precision: 0.9555 - recall: 0.9492 - val_auc: 0.9925 - val_loss: 0.1079 - val_precision: 0.9594 - val_recall: 0.9552 - val_auc_pr: 0.9933\n",
      "Epoch 6/100\n",
      "\u001b[1m8598/8598\u001b[0m \u001b[32m━━━━━━━━━━━━━━━━━━━━\u001b[0m\u001b[37m\u001b[0m \u001b[1m11s\u001b[0m 1ms/step\n",
      " - val_auc_pr: 0.9934\n",
      "\u001b[1m34389/34389\u001b[0m \u001b[32m━━━━━━━━━━━━━━━━━━━━\u001b[0m\u001b[37m\u001b[0m \u001b[1m145s\u001b[0m 3ms/step - auc: 0.9898 - loss: 0.1252 - precision: 0.9555 - recall: 0.9487 - val_auc: 0.9927 - val_loss: 0.1074 - val_precision: 0.9571 - val_recall: 0.9588 - val_auc_pr: 0.9934\n",
      "Epoch 7/100\n",
      "\u001b[1m8598/8598\u001b[0m \u001b[32m━━━━━━━━━━━━━━━━━━━━\u001b[0m\u001b[37m\u001b[0m \u001b[1m11s\u001b[0m 1ms/step\n",
      " - val_auc_pr: 0.9936\n",
      "\u001b[1m34389/34389\u001b[0m \u001b[32m━━━━━━━━━━━━━━━━━━━━\u001b[0m\u001b[37m\u001b[0m \u001b[1m100s\u001b[0m 3ms/step - auc: 0.9901 - loss: 0.1232 - precision: 0.9564 - recall: 0.9496 - val_auc: 0.9929 - val_loss: 0.1057 - val_precision: 0.9585 - val_recall: 0.9584 - val_auc_pr: 0.9936\n",
      "Epoch 8/100\n",
      "\u001b[1m8598/8598\u001b[0m \u001b[32m━━━━━━━━━━━━━━━━━━━━\u001b[0m\u001b[37m\u001b[0m \u001b[1m12s\u001b[0m 1ms/step\n",
      " - val_auc_pr: 0.9937\n",
      "\u001b[1m34389/34389\u001b[0m \u001b[32m━━━━━━━━━━━━━━━━━━━━\u001b[0m\u001b[37m\u001b[0m \u001b[1m102s\u001b[0m 3ms/step - auc: 0.9904 - loss: 0.1209 - precision: 0.9569 - recall: 0.9511 - val_auc: 0.9930 - val_loss: 0.1051 - val_precision: 0.9587 - val_recall: 0.9588 - val_auc_pr: 0.9937\n",
      "Epoch 9/100\n",
      "\u001b[1m8598/8598\u001b[0m \u001b[32m━━━━━━━━━━━━━━━━━━━━\u001b[0m\u001b[37m\u001b[0m \u001b[1m12s\u001b[0m 1ms/step\n",
      " - val_auc_pr: 0.9936\n",
      "\u001b[1m34389/34389\u001b[0m \u001b[32m━━━━━━━━━━━━━━━━━━━━\u001b[0m\u001b[37m\u001b[0m \u001b[1m140s\u001b[0m 3ms/step - auc: 0.9904 - loss: 0.1214 - precision: 0.9564 - recall: 0.9505 - val_auc: 0.9929 - val_loss: 0.1060 - val_precision: 0.9581 - val_recall: 0.9596 - val_auc_pr: 0.9936\n",
      "Epoch 10/100\n",
      "\u001b[1m8598/8598\u001b[0m \u001b[32m━━━━━━━━━━━━━━━━━━━━\u001b[0m\u001b[37m\u001b[0m \u001b[1m11s\u001b[0m 1ms/step\n",
      " - val_auc_pr: 0.9937\n",
      "\u001b[1m34389/34389\u001b[0m \u001b[32m━━━━━━━━━━━━━━━━━━━━\u001b[0m\u001b[37m\u001b[0m \u001b[1m101s\u001b[0m 3ms/step - auc: 0.9904 - loss: 0.1212 - precision: 0.9565 - recall: 0.9513 - val_auc: 0.9930 - val_loss: 0.1061 - val_precision: 0.9547 - val_recall: 0.9635 - val_auc_pr: 0.9937\n",
      "Epoch 11/100\n",
      "\u001b[1m8598/8598\u001b[0m \u001b[32m━━━━━━━━━━━━━━━━━━━━\u001b[0m\u001b[37m\u001b[0m \u001b[1m11s\u001b[0m 1ms/step\n",
      " - val_auc_pr: 0.9937\n",
      "\u001b[1m34389/34389\u001b[0m \u001b[32m━━━━━━━━━━━━━━━━━━━━\u001b[0m\u001b[37m\u001b[0m \u001b[1m103s\u001b[0m 3ms/step - auc: 0.9905 - loss: 0.1204 - precision: 0.9575 - recall: 0.9512 - val_auc: 0.9930 - val_loss: 0.1045 - val_precision: 0.9580 - val_recall: 0.9602 - val_auc_pr: 0.9937\n",
      "Epoch 12/100\n",
      "\u001b[1m8598/8598\u001b[0m \u001b[32m━━━━━━━━━━━━━━━━━━━━\u001b[0m\u001b[37m\u001b[0m \u001b[1m11s\u001b[0m 1ms/step\n",
      " - val_auc_pr: 0.9938\n",
      "\u001b[1m34389/34389\u001b[0m \u001b[32m━━━━━━━━━━━━━━━━━━━━\u001b[0m\u001b[37m\u001b[0m \u001b[1m100s\u001b[0m 3ms/step - auc: 0.9905 - loss: 0.1204 - precision: 0.9568 - recall: 0.9516 - val_auc: 0.9931 - val_loss: 0.1040 - val_precision: 0.9572 - val_recall: 0.9621 - val_auc_pr: 0.9938\n",
      "Epoch 13/100\n",
      "\u001b[1m8598/8598\u001b[0m \u001b[32m━━━━━━━━━━━━━━━━━━━━\u001b[0m\u001b[37m\u001b[0m \u001b[1m12s\u001b[0m 1ms/step\n",
      " - val_auc_pr: 0.9937\n",
      "\u001b[1m34389/34389\u001b[0m \u001b[32m━━━━━━━━━━━━━━━━━━━━\u001b[0m\u001b[37m\u001b[0m \u001b[1m99s\u001b[0m 3ms/step - auc: 0.9905 - loss: 0.1204 - precision: 0.9568 - recall: 0.9512 - val_auc: 0.9931 - val_loss: 0.1044 - val_precision: 0.9606 - val_recall: 0.9582 - val_auc_pr: 0.9937\n",
      "Epoch 14/100\n",
      "\u001b[1m8598/8598\u001b[0m \u001b[32m━━━━━━━━━━━━━━━━━━━━\u001b[0m\u001b[37m\u001b[0m \u001b[1m11s\u001b[0m 1ms/step\n",
      " - val_auc_pr: 0.9938\n",
      "\u001b[1m34389/34389\u001b[0m \u001b[32m━━━━━━━━━━━━━━━━━━━━\u001b[0m\u001b[37m\u001b[0m \u001b[1m101s\u001b[0m 3ms/step - auc: 0.9906 - loss: 0.1195 - precision: 0.9571 - recall: 0.9517 - val_auc: 0.9931 - val_loss: 0.1036 - val_precision: 0.9588 - val_recall: 0.9608 - val_auc_pr: 0.9938\n",
      "Epoch 15/100\n",
      "\u001b[1m8598/8598\u001b[0m \u001b[32m━━━━━━━━━━━━━━━━━━━━\u001b[0m\u001b[37m\u001b[0m \u001b[1m11s\u001b[0m 1ms/step\n",
      " - val_auc_pr: 0.9938\n",
      "\u001b[1m34389/34389\u001b[0m \u001b[32m━━━━━━━━━━━━━━━━━━━━\u001b[0m\u001b[37m\u001b[0m \u001b[1m103s\u001b[0m 3ms/step - auc: 0.9906 - loss: 0.1197 - precision: 0.9571 - recall: 0.9522 - val_auc: 0.9932 - val_loss: 0.1036 - val_precision: 0.9609 - val_recall: 0.9589 - val_auc_pr: 0.9938\n",
      "Epoch 16/100\n",
      "\u001b[1m8598/8598\u001b[0m \u001b[32m━━━━━━━━━━━━━━━━━━━━\u001b[0m\u001b[37m\u001b[0m \u001b[1m11s\u001b[0m 1ms/step\n",
      " - val_auc_pr: 0.9939\n",
      "\u001b[1m34389/34389\u001b[0m \u001b[32m━━━━━━━━━━━━━━━━━━━━\u001b[0m\u001b[37m\u001b[0m \u001b[1m100s\u001b[0m 3ms/step - auc: 0.9907 - loss: 0.1190 - precision: 0.9573 - recall: 0.9519 - val_auc: 0.9932 - val_loss: 0.1027 - val_precision: 0.9616 - val_recall: 0.9585 - val_auc_pr: 0.9939\n",
      "Epoch 17/100\n",
      "\u001b[1m8598/8598\u001b[0m \u001b[32m━━━━━━━━━━━━━━━━━━━━\u001b[0m\u001b[37m\u001b[0m \u001b[1m12s\u001b[0m 1ms/step\n",
      " - val_auc_pr: 0.9939\n",
      "\u001b[1m34389/34389\u001b[0m \u001b[32m━━━━━━━━━━━━━━━━━━━━\u001b[0m\u001b[37m\u001b[0m \u001b[1m98s\u001b[0m 3ms/step - auc: 0.9908 - loss: 0.1189 - precision: 0.9573 - recall: 0.9520 - val_auc: 0.9932 - val_loss: 0.1032 - val_precision: 0.9611 - val_recall: 0.9591 - val_auc_pr: 0.9939\n",
      "Epoch 18/100\n",
      "\u001b[1m8598/8598\u001b[0m \u001b[32m━━━━━━━━━━━━━━━━━━━━\u001b[0m\u001b[37m\u001b[0m \u001b[1m11s\u001b[0m 1ms/step\n",
      " - val_auc_pr: 0.9939\n",
      "\u001b[1m34389/34389\u001b[0m \u001b[32m━━━━━━━━━━━━━━━━━━━━\u001b[0m\u001b[37m\u001b[0m \u001b[1m100s\u001b[0m 3ms/step - auc: 0.9907 - loss: 0.1193 - precision: 0.9571 - recall: 0.9520 - val_auc: 0.9932 - val_loss: 0.1035 - val_precision: 0.9552 - val_recall: 0.9639 - val_auc_pr: 0.9939\n",
      "Epoch 19/100\n",
      "\u001b[1m8598/8598\u001b[0m \u001b[32m━━━━━━━━━━━━━━━━━━━━\u001b[0m\u001b[37m\u001b[0m \u001b[1m11s\u001b[0m 1ms/step\n",
      " - val_auc_pr: 0.9939\n",
      "\u001b[1m34389/34389\u001b[0m \u001b[32m━━━━━━━━━━━━━━━━━━━━\u001b[0m\u001b[37m\u001b[0m \u001b[1m140s\u001b[0m 3ms/step - auc: 0.9908 - loss: 0.1187 - precision: 0.9566 - recall: 0.9523 - val_auc: 0.9933 - val_loss: 0.1027 - val_precision: 0.9579 - val_recall: 0.9628 - val_auc_pr: 0.9939\n",
      "Epoch 20/100\n",
      "\u001b[1m8598/8598\u001b[0m \u001b[32m━━━━━━━━━━━━━━━━━━━━\u001b[0m\u001b[37m\u001b[0m \u001b[1m11s\u001b[0m 1ms/step\n",
      " - val_auc_pr: 0.9939\n",
      "\u001b[1m34389/34389\u001b[0m \u001b[32m━━━━━━━━━━━━━━━━━━━━\u001b[0m\u001b[37m\u001b[0m \u001b[1m144s\u001b[0m 3ms/step - auc: 0.9908 - loss: 0.1182 - precision: 0.9577 - recall: 0.9523 - val_auc: 0.9932 - val_loss: 0.1030 - val_precision: 0.9578 - val_recall: 0.9622 - val_auc_pr: 0.9939\n",
      "Epoch 21/100\n",
      "\u001b[1m8598/8598\u001b[0m \u001b[32m━━━━━━━━━━━━━━━━━━━━\u001b[0m\u001b[37m\u001b[0m \u001b[1m12s\u001b[0m 1ms/step\n",
      " - val_auc_pr: 0.9940\n",
      "\u001b[1m34389/34389\u001b[0m \u001b[32m━━━━━━━━━━━━━━━━━━━━\u001b[0m\u001b[37m\u001b[0m \u001b[1m106s\u001b[0m 3ms/step - auc: 0.9910 - loss: 0.1173 - precision: 0.9576 - recall: 0.9525 - val_auc: 0.9933 - val_loss: 0.1033 - val_precision: 0.9630 - val_recall: 0.9577 - val_auc_pr: 0.9940\n",
      "Epoch 22/100\n",
      "\u001b[1m8598/8598\u001b[0m \u001b[32m━━━━━━━━━━━━━━━━━━━━\u001b[0m\u001b[37m\u001b[0m \u001b[1m9s\u001b[0m 1ms/step\n",
      " - val_auc_pr: 0.9940\n",
      "\u001b[1m34389/34389\u001b[0m \u001b[32m━━━━━━━━━━━━━━━━━━━━\u001b[0m\u001b[37m\u001b[0m \u001b[1m97s\u001b[0m 3ms/step - auc: 0.9909 - loss: 0.1180 - precision: 0.9572 - recall: 0.9522 - val_auc: 0.9933 - val_loss: 0.1035 - val_precision: 0.9537 - val_recall: 0.9664 - val_auc_pr: 0.9940\n",
      "Epoch 23/100\n",
      "\u001b[1m8598/8598\u001b[0m \u001b[32m━━━━━━━━━━━━━━━━━━━━\u001b[0m\u001b[37m\u001b[0m \u001b[1m9s\u001b[0m 1ms/step\n",
      " - val_auc_pr: 0.9939\n",
      "\u001b[1m34389/34389\u001b[0m \u001b[32m━━━━━━━━━━━━━━━━━━━━\u001b[0m\u001b[37m\u001b[0m \u001b[1m91s\u001b[0m 3ms/step - auc: 0.9908 - loss: 0.1182 - precision: 0.9575 - recall: 0.9520 - val_auc: 0.9933 - val_loss: 0.1027 - val_precision: 0.9583 - val_recall: 0.9626 - val_auc_pr: 0.9939\n",
      "Epoch 24/100\n",
      "\u001b[1m8598/8598\u001b[0m \u001b[32m━━━━━━━━━━━━━━━━━━━━\u001b[0m\u001b[37m\u001b[0m \u001b[1m9s\u001b[0m 1ms/step\n",
      " - val_auc_pr: 0.9939\n",
      "\u001b[1m34389/34389\u001b[0m \u001b[32m━━━━━━━━━━━━━━━━━━━━\u001b[0m\u001b[37m\u001b[0m \u001b[1m86s\u001b[0m 3ms/step - auc: 0.9910 - loss: 0.1175 - precision: 0.9578 - recall: 0.9532 - val_auc: 0.9933 - val_loss: 0.1042 - val_precision: 0.9588 - val_recall: 0.9613 - val_auc_pr: 0.9939\n",
      "Epoch 25/100\n",
      "\u001b[1m8598/8598\u001b[0m \u001b[32m━━━━━━━━━━━━━━━━━━━━\u001b[0m\u001b[37m\u001b[0m \u001b[1m9s\u001b[0m 1ms/step\n",
      " - val_auc_pr: 0.9940\n",
      "\u001b[1m34389/34389\u001b[0m \u001b[32m━━━━━━━━━━━━━━━━━━━━\u001b[0m\u001b[37m\u001b[0m \u001b[1m93s\u001b[0m 3ms/step - auc: 0.9909 - loss: 0.1177 - precision: 0.9573 - recall: 0.9532 - val_auc: 0.9933 - val_loss: 0.1025 - val_precision: 0.9634 - val_recall: 0.9571 - val_auc_pr: 0.9940\n",
      "Epoch 26/100\n",
      "\u001b[1m8598/8598\u001b[0m \u001b[32m━━━━━━━━━━━━━━━━━━━━\u001b[0m\u001b[37m\u001b[0m \u001b[1m9s\u001b[0m 1ms/step\n",
      " - val_auc_pr: 0.9940\n",
      "\u001b[1m34389/34389\u001b[0m \u001b[32m━━━━━━━━━━━━━━━━━━━━\u001b[0m\u001b[37m\u001b[0m \u001b[1m84s\u001b[0m 2ms/step - auc: 0.9910 - loss: 0.1171 - precision: 0.9581 - recall: 0.9530 - val_auc: 0.9934 - val_loss: 0.1017 - val_precision: 0.9577 - val_recall: 0.9640 - val_auc_pr: 0.9940\n",
      "Epoch 27/100\n",
      "\u001b[1m8598/8598\u001b[0m \u001b[32m━━━━━━━━━━━━━━━━━━━━\u001b[0m\u001b[37m\u001b[0m \u001b[1m9s\u001b[0m 1ms/step\n",
      " - val_auc_pr: 0.9940\n",
      "\u001b[1m34389/34389\u001b[0m \u001b[32m━━━━━━━━━━━━━━━━━━━━\u001b[0m\u001b[37m\u001b[0m \u001b[1m85s\u001b[0m 2ms/step - auc: 0.9910 - loss: 0.1175 - precision: 0.9575 - recall: 0.9528 - val_auc: 0.9934 - val_loss: 0.1016 - val_precision: 0.9612 - val_recall: 0.9597 - val_auc_pr: 0.9940\n",
      "Epoch 28/100\n",
      "\u001b[1m8598/8598\u001b[0m \u001b[32m━━━━━━━━━━━━━━━━━━━━\u001b[0m\u001b[37m\u001b[0m \u001b[1m9s\u001b[0m 1ms/step\n",
      " - val_auc_pr: 0.9940\n",
      "\u001b[1m34389/34389\u001b[0m \u001b[32m━━━━━━━━━━━━━━━━━━━━\u001b[0m\u001b[37m\u001b[0m \u001b[1m85s\u001b[0m 2ms/step - auc: 0.9911 - loss: 0.1166 - precision: 0.9578 - recall: 0.9535 - val_auc: 0.9933 - val_loss: 0.1016 - val_precision: 0.9614 - val_recall: 0.9599 - val_auc_pr: 0.9940\n",
      "Epoch 29/100\n",
      "\u001b[1m8598/8598\u001b[0m \u001b[32m━━━━━━━━━━━━━━━━━━━━\u001b[0m\u001b[37m\u001b[0m \u001b[1m9s\u001b[0m 1ms/step\n",
      " - val_auc_pr: 0.9940\n",
      "\u001b[1m34389/34389\u001b[0m \u001b[32m━━━━━━━━━━━━━━━━━━━━\u001b[0m\u001b[37m\u001b[0m \u001b[1m86s\u001b[0m 3ms/step - auc: 0.9911 - loss: 0.1165 - precision: 0.9579 - recall: 0.9535 - val_auc: 0.9934 - val_loss: 0.1015 - val_precision: 0.9580 - val_recall: 0.9631 - val_auc_pr: 0.9940\n",
      "Epoch 30/100\n",
      "\u001b[1m8598/8598\u001b[0m \u001b[32m━━━━━━━━━━━━━━━━━━━━\u001b[0m\u001b[37m\u001b[0m \u001b[1m9s\u001b[0m 1ms/step\n",
      " - val_auc_pr: 0.9940\n",
      "\u001b[1m34389/34389\u001b[0m \u001b[32m━━━━━━━━━━━━━━━━━━━━\u001b[0m\u001b[37m\u001b[0m \u001b[1m85s\u001b[0m 2ms/step - auc: 0.9911 - loss: 0.1169 - precision: 0.9580 - recall: 0.9534 - val_auc: 0.9934 - val_loss: 0.1023 - val_precision: 0.9666 - val_recall: 0.9535 - val_auc_pr: 0.9940\n",
      "Epoch 31/100\n",
      "\u001b[1m8598/8598\u001b[0m \u001b[32m━━━━━━━━━━━━━━━━━━━━\u001b[0m\u001b[37m\u001b[0m \u001b[1m9s\u001b[0m 1ms/step\n",
      " - val_auc_pr: 0.9941\n",
      "\u001b[1m34389/34389\u001b[0m \u001b[32m━━━━━━━━━━━━━━━━━━━━\u001b[0m\u001b[37m\u001b[0m \u001b[1m85s\u001b[0m 2ms/step - auc: 0.9910 - loss: 0.1165 - precision: 0.9584 - recall: 0.9533 - val_auc: 0.9934 - val_loss: 0.1009 - val_precision: 0.9622 - val_recall: 0.9591 - val_auc_pr: 0.9941\n",
      "Epoch 32/100\n",
      "\u001b[1m8598/8598\u001b[0m \u001b[32m━━━━━━━━━━━━━━━━━━━━\u001b[0m\u001b[37m\u001b[0m \u001b[1m9s\u001b[0m 1ms/step\n",
      " - val_auc_pr: 0.9940\n",
      "\u001b[1m34389/34389\u001b[0m \u001b[32m━━━━━━━━━━━━━━━━━━━━\u001b[0m\u001b[37m\u001b[0m \u001b[1m85s\u001b[0m 2ms/step - auc: 0.9910 - loss: 0.1171 - precision: 0.9576 - recall: 0.9530 - val_auc: 0.9934 - val_loss: 0.1033 - val_precision: 0.9569 - val_recall: 0.9645 - val_auc_pr: 0.9940\n",
      "Epoch 33/100\n",
      "\u001b[1m8598/8598\u001b[0m \u001b[32m━━━━━━━━━━━━━━━━━━━━\u001b[0m\u001b[37m\u001b[0m \u001b[1m9s\u001b[0m 1ms/step\n",
      " - val_auc_pr: 0.9941\n",
      "\u001b[1m34389/34389\u001b[0m \u001b[32m━━━━━━━━━━━━━━━━━━━━\u001b[0m\u001b[37m\u001b[0m \u001b[1m84s\u001b[0m 2ms/step - auc: 0.9910 - loss: 0.1164 - precision: 0.9579 - recall: 0.9538 - val_auc: 0.9935 - val_loss: 0.1007 - val_precision: 0.9604 - val_recall: 0.9616 - val_auc_pr: 0.9941\n",
      "Epoch 34/100\n",
      "\u001b[1m8598/8598\u001b[0m \u001b[32m━━━━━━━━━━━━━━━━━━━━\u001b[0m\u001b[37m\u001b[0m \u001b[1m9s\u001b[0m 1ms/step\n",
      " - val_auc_pr: 0.9941\n",
      "\u001b[1m34389/34389\u001b[0m \u001b[32m━━━━━━━━━━━━━━━━━━━━\u001b[0m\u001b[37m\u001b[0m \u001b[1m83s\u001b[0m 2ms/step - auc: 0.9911 - loss: 0.1164 - precision: 0.9581 - recall: 0.9533 - val_auc: 0.9935 - val_loss: 0.1005 - val_precision: 0.9594 - val_recall: 0.9629 - val_auc_pr: 0.9941\n",
      "Epoch 35/100\n",
      "\u001b[1m8598/8598\u001b[0m \u001b[32m━━━━━━━━━━━━━━━━━━━━\u001b[0m\u001b[37m\u001b[0m \u001b[1m9s\u001b[0m 1ms/step\n",
      " - val_auc_pr: 0.9940\n",
      "\u001b[1m34389/34389\u001b[0m \u001b[32m━━━━━━━━━━━━━━━━━━━━\u001b[0m\u001b[37m\u001b[0m \u001b[1m86s\u001b[0m 2ms/step - auc: 0.9911 - loss: 0.1165 - precision: 0.9577 - recall: 0.9538 - val_auc: 0.9934 - val_loss: 0.1017 - val_precision: 0.9581 - val_recall: 0.9624 - val_auc_pr: 0.9940\n",
      "Epoch 36/100\n",
      "\u001b[1m8598/8598\u001b[0m \u001b[32m━━━━━━━━━━━━━━━━━━━━\u001b[0m\u001b[37m\u001b[0m \u001b[1m9s\u001b[0m 1ms/step\n",
      " - val_auc_pr: 0.9941\n",
      "\u001b[1m34389/34389\u001b[0m \u001b[32m━━━━━━━━━━━━━━━━━━━━\u001b[0m\u001b[37m\u001b[0m \u001b[1m86s\u001b[0m 2ms/step - auc: 0.9912 - loss: 0.1158 - precision: 0.9577 - recall: 0.9537 - val_auc: 0.9935 - val_loss: 0.1006 - val_precision: 0.9586 - val_recall: 0.9634 - val_auc_pr: 0.9941\n",
      "Epoch 37/100\n",
      "\u001b[1m8598/8598\u001b[0m \u001b[32m━━━━━━━━━━━━━━━━━━━━\u001b[0m\u001b[37m\u001b[0m \u001b[1m9s\u001b[0m 1ms/step\n",
      " - val_auc_pr: 0.9941\n",
      "\u001b[1m34389/34389\u001b[0m \u001b[32m━━━━━━━━━━━━━━━━━━━━\u001b[0m\u001b[37m\u001b[0m \u001b[1m84s\u001b[0m 2ms/step - auc: 0.9911 - loss: 0.1166 - precision: 0.9577 - recall: 0.9537 - val_auc: 0.9935 - val_loss: 0.1006 - val_precision: 0.9581 - val_recall: 0.9642 - val_auc_pr: 0.9941\n",
      "Epoch 38/100\n",
      "\u001b[1m8598/8598\u001b[0m \u001b[32m━━━━━━━━━━━━━━━━━━━━\u001b[0m\u001b[37m\u001b[0m \u001b[1m9s\u001b[0m 1ms/step\n",
      " - val_auc_pr: 0.9941\n",
      "\u001b[1m34389/34389\u001b[0m \u001b[32m━━━━━━━━━━━━━━━━━━━━\u001b[0m\u001b[37m\u001b[0m \u001b[1m85s\u001b[0m 2ms/step - auc: 0.9910 - loss: 0.1169 - precision: 0.9576 - recall: 0.9530 - val_auc: 0.9935 - val_loss: 0.1005 - val_precision: 0.9602 - val_recall: 0.9622 - val_auc_pr: 0.9941\n",
      "Epoch 39/100\n",
      "\u001b[1m8598/8598\u001b[0m \u001b[32m━━━━━━━━━━━━━━━━━━━━\u001b[0m\u001b[37m\u001b[0m \u001b[1m9s\u001b[0m 1ms/step\n",
      " - val_auc_pr: 0.9941\n",
      "\u001b[1m34389/34389\u001b[0m \u001b[32m━━━━━━━━━━━━━━━━━━━━\u001b[0m\u001b[37m\u001b[0m \u001b[1m85s\u001b[0m 2ms/step - auc: 0.9911 - loss: 0.1166 - precision: 0.9582 - recall: 0.9528 - val_auc: 0.9935 - val_loss: 0.1009 - val_precision: 0.9596 - val_recall: 0.9626 - val_auc_pr: 0.9941\n",
      "Epoch 40/100\n",
      "\u001b[1m8598/8598\u001b[0m \u001b[32m━━━━━━━━━━━━━━━━━━━━\u001b[0m\u001b[37m\u001b[0m \u001b[1m9s\u001b[0m 1ms/step\n",
      " - val_auc_pr: 0.9941\n",
      "\u001b[1m34389/34389\u001b[0m \u001b[32m━━━━━━━━━━━━━━━━━━━━\u001b[0m\u001b[37m\u001b[0m \u001b[1m85s\u001b[0m 2ms/step - auc: 0.9912 - loss: 0.1157 - precision: 0.9585 - recall: 0.9534 - val_auc: 0.9935 - val_loss: 0.1013 - val_precision: 0.9606 - val_recall: 0.9614 - val_auc_pr: 0.9941\n",
      "Epoch 41/100\n",
      "\u001b[1m8598/8598\u001b[0m \u001b[32m━━━━━━━━━━━━━━━━━━━━\u001b[0m\u001b[37m\u001b[0m \u001b[1m9s\u001b[0m 1ms/step\n",
      " - val_auc_pr: 0.9941\n",
      "\u001b[1m34389/34389\u001b[0m \u001b[32m━━━━━━━━━━━━━━━━━━━━\u001b[0m\u001b[37m\u001b[0m \u001b[1m85s\u001b[0m 2ms/step - auc: 0.9912 - loss: 0.1160 - precision: 0.9578 - recall: 0.9536 - val_auc: 0.9934 - val_loss: 0.1007 - val_precision: 0.9599 - val_recall: 0.9626 - val_auc_pr: 0.9941\n",
      "Epoch 42/100\n",
      "\u001b[1m8598/8598\u001b[0m \u001b[32m━━━━━━━━━━━━━━━━━━━━\u001b[0m\u001b[37m\u001b[0m \u001b[1m9s\u001b[0m 1ms/step\n",
      " - val_auc_pr: 0.9941\n",
      "\u001b[1m34389/34389\u001b[0m \u001b[32m━━━━━━━━━━━━━━━━━━━━\u001b[0m\u001b[37m\u001b[0m \u001b[1m86s\u001b[0m 3ms/step - auc: 0.9912 - loss: 0.1160 - precision: 0.9577 - recall: 0.9536 - val_auc: 0.9935 - val_loss: 0.1006 - val_precision: 0.9594 - val_recall: 0.9634 - val_auc_pr: 0.9941\n",
      "Epoch 43/100\n",
      "\u001b[1m8598/8598\u001b[0m \u001b[32m━━━━━━━━━━━━━━━━━━━━\u001b[0m\u001b[37m\u001b[0m \u001b[1m9s\u001b[0m 1ms/step\n",
      " - val_auc_pr: 0.9941\n",
      "\u001b[1m34389/34389\u001b[0m \u001b[32m━━━━━━━━━━━━━━━━━━━━\u001b[0m\u001b[37m\u001b[0m \u001b[1m85s\u001b[0m 2ms/step - auc: 0.9912 - loss: 0.1156 - precision: 0.9585 - recall: 0.9538 - val_auc: 0.9935 - val_loss: 0.1005 - val_precision: 0.9609 - val_recall: 0.9607 - val_auc_pr: 0.9941\n",
      "Epoch 44/100\n",
      "\u001b[1m8598/8598\u001b[0m \u001b[32m━━━━━━━━━━━━━━━━━━━━\u001b[0m\u001b[37m\u001b[0m \u001b[1m9s\u001b[0m 1ms/step\n",
      " - val_auc_pr: 0.9941\n",
      "\u001b[1m34389/34389\u001b[0m \u001b[32m━━━━━━━━━━━━━━━━━━━━\u001b[0m\u001b[37m\u001b[0m \u001b[1m85s\u001b[0m 2ms/step - auc: 0.9911 - loss: 0.1166 - precision: 0.9574 - recall: 0.9537 - val_auc: 0.9935 - val_loss: 0.1003 - val_precision: 0.9605 - val_recall: 0.9623 - val_auc_pr: 0.9941\n",
      "Epoch 45/100\n",
      "\u001b[1m8598/8598\u001b[0m \u001b[32m━━━━━━━━━━━━━━━━━━━━\u001b[0m\u001b[37m\u001b[0m \u001b[1m9s\u001b[0m 1ms/step\n",
      " - val_auc_pr: 0.9942\n",
      "\u001b[1m34389/34389\u001b[0m \u001b[32m━━━━━━━━━━━━━━━━━━━━\u001b[0m\u001b[37m\u001b[0m \u001b[1m85s\u001b[0m 2ms/step - auc: 0.9912 - loss: 0.1154 - precision: 0.9583 - recall: 0.9539 - val_auc: 0.9936 - val_loss: 0.1004 - val_precision: 0.9617 - val_recall: 0.9613 - val_auc_pr: 0.9942\n",
      "Epoch 46/100\n",
      "\u001b[1m8598/8598\u001b[0m \u001b[32m━━━━━━━━━━━━━━━━━━━━\u001b[0m\u001b[37m\u001b[0m \u001b[1m9s\u001b[0m 1ms/step\n",
      " - val_auc_pr: 0.9942\n",
      "\u001b[1m34389/34389\u001b[0m \u001b[32m━━━━━━━━━━━━━━━━━━━━\u001b[0m\u001b[37m\u001b[0m \u001b[1m86s\u001b[0m 2ms/step - auc: 0.9911 - loss: 0.1160 - precision: 0.9582 - recall: 0.9539 - val_auc: 0.9936 - val_loss: 0.1008 - val_precision: 0.9591 - val_recall: 0.9635 - val_auc_pr: 0.9942\n",
      "Epoch 47/100\n",
      "\u001b[1m8598/8598\u001b[0m \u001b[32m━━━━━━━━━━━━━━━━━━━━\u001b[0m\u001b[37m\u001b[0m \u001b[1m9s\u001b[0m 1ms/step\n",
      " - val_auc_pr: 0.9942\n",
      "\u001b[1m34389/34389\u001b[0m \u001b[32m━━━━━━━━━━━━━━━━━━━━\u001b[0m\u001b[37m\u001b[0m \u001b[1m84s\u001b[0m 2ms/step - auc: 0.9912 - loss: 0.1156 - precision: 0.9579 - recall: 0.9541 - val_auc: 0.9936 - val_loss: 0.1006 - val_precision: 0.9596 - val_recall: 0.9634 - val_auc_pr: 0.9942\n",
      "Epoch 48/100\n",
      "\u001b[1m8598/8598\u001b[0m \u001b[32m━━━━━━━━━━━━━━━━━━━━\u001b[0m\u001b[37m\u001b[0m \u001b[1m9s\u001b[0m 1ms/step\n",
      " - val_auc_pr: 0.9942\n",
      "\u001b[1m34389/34389\u001b[0m \u001b[32m━━━━━━━━━━━━━━━━━━━━\u001b[0m\u001b[37m\u001b[0m \u001b[1m85s\u001b[0m 2ms/step - auc: 0.9913 - loss: 0.1154 - precision: 0.9579 - recall: 0.9540 - val_auc: 0.9936 - val_loss: 0.1004 - val_precision: 0.9598 - val_recall: 0.9636 - val_auc_pr: 0.9942\n",
      "Epoch 49/100\n",
      "\u001b[1m8598/8598\u001b[0m \u001b[32m━━━━━━━━━━━━━━━━━━━━\u001b[0m\u001b[37m\u001b[0m \u001b[1m9s\u001b[0m 1ms/step\n",
      " - val_auc_pr: 0.9942\n",
      "\u001b[1m34389/34389\u001b[0m \u001b[32m━━━━━━━━━━━━━━━━━━━━\u001b[0m\u001b[37m\u001b[0m \u001b[1m85s\u001b[0m 2ms/step - auc: 0.9913 - loss: 0.1149 - precision: 0.9583 - recall: 0.9535 - val_auc: 0.9936 - val_loss: 0.1008 - val_precision: 0.9629 - val_recall: 0.9595 - val_auc_pr: 0.9942\n",
      "Epoch 50/100\n",
      "\u001b[1m8598/8598\u001b[0m \u001b[32m━━━━━━━━━━━━━━━━━━━━\u001b[0m\u001b[37m\u001b[0m \u001b[1m9s\u001b[0m 1ms/step\n",
      " - val_auc_pr: 0.9941\n",
      "\u001b[1m34389/34389\u001b[0m \u001b[32m━━━━━━━━━━━━━━━━━━━━\u001b[0m\u001b[37m\u001b[0m \u001b[1m86s\u001b[0m 2ms/step - auc: 0.9913 - loss: 0.1152 - precision: 0.9578 - recall: 0.9541 - val_auc: 0.9935 - val_loss: 0.1007 - val_precision: 0.9574 - val_recall: 0.9651 - val_auc_pr: 0.9941\n",
      "Epoch 51/100\n",
      "\u001b[1m8598/8598\u001b[0m \u001b[32m━━━━━━━━━━━━━━━━━━━━\u001b[0m\u001b[37m\u001b[0m \u001b[1m9s\u001b[0m 1ms/step\n",
      " - val_auc_pr: 0.9942\n",
      "\u001b[1m34389/34389\u001b[0m \u001b[32m━━━━━━━━━━━━━━━━━━━━\u001b[0m\u001b[37m\u001b[0m \u001b[1m86s\u001b[0m 3ms/step - auc: 0.9913 - loss: 0.1148 - precision: 0.9580 - recall: 0.9547 - val_auc: 0.9936 - val_loss: 0.0993 - val_precision: 0.9616 - val_recall: 0.9619 - val_auc_pr: 0.9942\n",
      "Epoch 52/100\n",
      "\u001b[1m8598/8598\u001b[0m \u001b[32m━━━━━━━━━━━━━━━━━━━━\u001b[0m\u001b[37m\u001b[0m \u001b[1m9s\u001b[0m 1ms/step\n",
      " - val_auc_pr: 0.9942\n",
      "\u001b[1m34389/34389\u001b[0m \u001b[32m━━━━━━━━━━━━━━━━━━━━\u001b[0m\u001b[37m\u001b[0m \u001b[1m86s\u001b[0m 3ms/step - auc: 0.9911 - loss: 0.1161 - precision: 0.9579 - recall: 0.9536 - val_auc: 0.9935 - val_loss: 0.1005 - val_precision: 0.9611 - val_recall: 0.9613 - val_auc_pr: 0.9942\n",
      "Epoch 53/100\n",
      "\u001b[1m8598/8598\u001b[0m \u001b[32m━━━━━━━━━━━━━━━━━━━━\u001b[0m\u001b[37m\u001b[0m \u001b[1m9s\u001b[0m 1ms/step\n",
      " - val_auc_pr: 0.9942\n",
      "\u001b[1m34389/34389\u001b[0m \u001b[32m━━━━━━━━━━━━━━━━━━━━\u001b[0m\u001b[37m\u001b[0m \u001b[1m86s\u001b[0m 2ms/step - auc: 0.9912 - loss: 0.1158 - precision: 0.9581 - recall: 0.9537 - val_auc: 0.9935 - val_loss: 0.1004 - val_precision: 0.9600 - val_recall: 0.9628 - val_auc_pr: 0.9942\n",
      "Epoch 54/100\n",
      "\u001b[1m8598/8598\u001b[0m \u001b[32m━━━━━━━━━━━━━━━━━━━━\u001b[0m\u001b[37m\u001b[0m \u001b[1m9s\u001b[0m 1ms/step\n",
      " - val_auc_pr: 0.9942\n",
      "\u001b[1m34389/34389\u001b[0m \u001b[32m━━━━━━━━━━━━━━━━━━━━\u001b[0m\u001b[37m\u001b[0m \u001b[1m85s\u001b[0m 2ms/step - auc: 0.9913 - loss: 0.1153 - precision: 0.9579 - recall: 0.9542 - val_auc: 0.9935 - val_loss: 0.1002 - val_precision: 0.9603 - val_recall: 0.9628 - val_auc_pr: 0.9942\n",
      "Epoch 55/100\n",
      "\u001b[1m8598/8598\u001b[0m \u001b[32m━━━━━━━━━━━━━━━━━━━━\u001b[0m\u001b[37m\u001b[0m \u001b[1m10s\u001b[0m 1ms/step\n",
      " - val_auc_pr: 0.9942\n",
      "\u001b[1m34389/34389\u001b[0m \u001b[32m━━━━━━━━━━━━━━━━━━━━\u001b[0m\u001b[37m\u001b[0m \u001b[1m86s\u001b[0m 2ms/step - auc: 0.9913 - loss: 0.1154 - precision: 0.9578 - recall: 0.9545 - val_auc: 0.9936 - val_loss: 0.1001 - val_precision: 0.9656 - val_recall: 0.9564 - val_auc_pr: 0.9942\n",
      "Epoch 56/100\n",
      "\u001b[1m8598/8598\u001b[0m \u001b[32m━━━━━━━━━━━━━━━━━━━━\u001b[0m\u001b[37m\u001b[0m \u001b[1m9s\u001b[0m 1ms/step\n",
      " - val_auc_pr: 0.9942\n",
      "\u001b[1m34389/34389\u001b[0m \u001b[32m━━━━━━━━━━━━━━━━━━━━\u001b[0m\u001b[37m\u001b[0m \u001b[1m85s\u001b[0m 2ms/step - auc: 0.9912 - loss: 0.1156 - precision: 0.9582 - recall: 0.9540 - val_auc: 0.9936 - val_loss: 0.0997 - val_precision: 0.9624 - val_recall: 0.9604 - val_auc_pr: 0.9942\n",
      "Epoch 57/100\n",
      "\u001b[1m8598/8598\u001b[0m \u001b[32m━━━━━━━━━━━━━━━━━━━━\u001b[0m\u001b[37m\u001b[0m \u001b[1m9s\u001b[0m 1ms/step\n",
      " - val_auc_pr: 0.9942\n",
      "\u001b[1m34389/34389\u001b[0m \u001b[32m━━━━━━━━━━━━━━━━━━━━\u001b[0m\u001b[37m\u001b[0m \u001b[1m86s\u001b[0m 2ms/step - auc: 0.9913 - loss: 0.1149 - precision: 0.9583 - recall: 0.9546 - val_auc: 0.9936 - val_loss: 0.0996 - val_precision: 0.9625 - val_recall: 0.9609 - val_auc_pr: 0.9942\n",
      "Epoch 58/100\n",
      "\u001b[1m8598/8598\u001b[0m \u001b[32m━━━━━━━━━━━━━━━━━━━━\u001b[0m\u001b[37m\u001b[0m \u001b[1m9s\u001b[0m 1ms/step\n",
      " - val_auc_pr: 0.9942\n",
      "\u001b[1m34389/34389\u001b[0m \u001b[32m━━━━━━━━━━━━━━━━━━━━\u001b[0m\u001b[37m\u001b[0m \u001b[1m87s\u001b[0m 3ms/step - auc: 0.9913 - loss: 0.1152 - precision: 0.9584 - recall: 0.9543 - val_auc: 0.9936 - val_loss: 0.0994 - val_precision: 0.9612 - val_recall: 0.9623 - val_auc_pr: 0.9942\n",
      "Epoch 59/100\n",
      "\u001b[1m8598/8598\u001b[0m \u001b[32m━━━━━━━━━━━━━━━━━━━━\u001b[0m\u001b[37m\u001b[0m \u001b[1m9s\u001b[0m 1ms/step\n",
      " - val_auc_pr: 0.9942\n",
      "\u001b[1m34389/34389\u001b[0m \u001b[32m━━━━━━━━━━━━━━━━━━━━\u001b[0m\u001b[37m\u001b[0m \u001b[1m87s\u001b[0m 3ms/step - auc: 0.9913 - loss: 0.1152 - precision: 0.9583 - recall: 0.9544 - val_auc: 0.9936 - val_loss: 0.0995 - val_precision: 0.9638 - val_recall: 0.9597 - val_auc_pr: 0.9942\n",
      "Epoch 60/100\n",
      "\u001b[1m8598/8598\u001b[0m \u001b[32m━━━━━━━━━━━━━━━━━━━━\u001b[0m\u001b[37m\u001b[0m \u001b[1m10s\u001b[0m 1ms/step\n",
      " - val_auc_pr: 0.9942\n",
      "\u001b[1m34389/34389\u001b[0m \u001b[32m━━━━━━━━━━━━━━━━━━━━\u001b[0m\u001b[37m\u001b[0m \u001b[1m87s\u001b[0m 3ms/step - auc: 0.9913 - loss: 0.1147 - precision: 0.9587 - recall: 0.9543 - val_auc: 0.9935 - val_loss: 0.0999 - val_precision: 0.9646 - val_recall: 0.9586 - val_auc_pr: 0.9942\n",
      "Epoch 61/100\n",
      "\u001b[1m8598/8598\u001b[0m \u001b[32m━━━━━━━━━━━━━━━━━━━━\u001b[0m\u001b[37m\u001b[0m \u001b[1m9s\u001b[0m 1ms/step\n",
      " - val_auc_pr: 0.9942\n",
      "\u001b[1m34389/34389\u001b[0m \u001b[32m━━━━━━━━━━━━━━━━━━━━\u001b[0m\u001b[37m\u001b[0m \u001b[1m86s\u001b[0m 3ms/step - auc: 0.9914 - loss: 0.1146 - precision: 0.9583 - recall: 0.9547 - val_auc: 0.9936 - val_loss: 0.0996 - val_precision: 0.9608 - val_recall: 0.9625 - val_auc_pr: 0.9942\n",
      "\u001b[1m9315/9315\u001b[0m \u001b[32m━━━━━━━━━━━━━━━━━━━━\u001b[0m\u001b[37m\u001b[0m \u001b[1m10s\u001b[0m 1ms/step - auc: 0.8427 - loss: 0.1168 - precision: 0.0997 - recall: 0.3789\n",
      "loss: 0.11602653563022614\n",
      "compile_metrics: 0.09824926406145096\n",
      "\u001b[1m9315/9315\u001b[0m \u001b[32m━━━━━━━━━━━━━━━━━━━━\u001b[0m\u001b[37m\u001b[0m \u001b[1m10s\u001b[0m 1ms/step\n",
      "              precision    recall  f1-score   support\n",
      "\n",
      "           0       0.99      0.96      0.98    294800\n",
      "           1       0.10      0.38      0.16      3269\n",
      "\n",
      "    accuracy                           0.96    298069\n",
      "   macro avg       0.55      0.67      0.57    298069\n",
      "weighted avg       0.98      0.96      0.97    298069\n",
      "\n",
      "[[283520  11280]\n",
      " [  2040   1229]]\n",
      "0.9553123605608097\n",
      "0.09824926053241666\n",
      "0.37595594983175284\n",
      "0.15578653821777158\n",
      "0.8725704481845618\n",
      "0.12528700350742578\n"
     ]
    }
   ],
   "source": [
    "from collections import Counter\n",
    "from imblearn.over_sampling import SMOTE\n",
    "\n",
    "smote = SMOTE(random_state=42)\n",
    "X_train_resampled, y_train_resampled = smote.fit_resample(X_train, y_train)\n",
    "print(sorted(Counter(y_train_resampled).items()))\n",
    "\n",
    "#---------------------------------------------\n",
    "from tensorflow.keras.models import Sequential\n",
    "from tensorflow.keras.layers import Dense, Dropout, BatchNormalization\n",
    "from tensorflow.keras.callbacks import EarlyStopping\n",
    "from tensorflow.keras.metrics import Precision, Recall, AUC\n",
    "from sklearn.metrics import precision_recall_curve, auc\n",
    "import tensorflow as tf\n",
    "\n",
    "# Define the model\n",
    "model = Sequential([\n",
    "    Dense(64, activation='relu', input_shape=(X_train_resampled.shape[1],)),\n",
    "    BatchNormalization(),\n",
    "    Dropout(0.3),\n",
    "    Dense(32, activation='relu'),\n",
    "    BatchNormalization(),\n",
    "    Dropout(0.3),\n",
    "    Dense(1, activation='sigmoid')\n",
    "])\n",
    "\n",
    "# Compile the model with precision, recall, and AUC metrics\n",
    "model.compile(\n",
    "    optimizer='adam',\n",
    "    loss='binary_crossentropy',\n",
    "    metrics=[Precision(), Recall(), AUC(name='auc')]\n",
    ")\n",
    "\n",
    "# Create a Custom Callback for AUC-PR\n",
    "\n",
    "class AUC_PR(tf.keras.callbacks.Callback):\n",
    "    def __init__(self, validation_data):\n",
    "        super(AUC_PR, self).__init__()\n",
    "        self.validation_data = validation_data\n",
    "\n",
    "    def on_epoch_end(self, epoch, logs=None):\n",
    "        val_predict = np.asarray(self.model.predict(self.validation_data[0]))\n",
    "        val_targ = self.validation_data[1]\n",
    "        precision, recall, _ = precision_recall_curve(val_targ, val_predict)\n",
    "        auc_pr = auc(recall, precision)\n",
    "        print(f' - val_auc_pr: {auc_pr:.4f}')\n",
    "        logs['val_auc_pr'] = auc_pr\n",
    "\n",
    "# Train the Model with the Custom Callback\n",
    "\n",
    "# Split the training data into training and validation sets\n",
    "X_train_split, X_val_split, y_train_split, y_val_split = train_test_split(\n",
    "    X_train_resampled, y_train_resampled, test_size=0.2, random_state=42\n",
    ")\n",
    "\n",
    "# Define early stopping and custom AUC-PR callback\n",
    "early_stopping = EarlyStopping(monitor='val_loss', patience=10, restore_best_weights=True)\n",
    "auc_pr_callback = AUC_PR(validation_data=(X_val_split, y_val_split))\n",
    "\n",
    "# Train the model\n",
    "history = model.fit(\n",
    "    X_train_split, y_train_split,\n",
    "    epochs=100,\n",
    "    batch_size=32,    # limit of memory, also the running speed\n",
    "    validation_data=(X_val_split, y_val_split),\n",
    "    callbacks=[early_stopping, auc_pr_callback],\n",
    "    verbose=1\n",
    ")\n",
    "\n",
    "# Evaluate on the test data\n",
    "results = model.evaluate(X_test, y_test)\n",
    "for name, value in zip(model.metrics_names, results):\n",
    "    print(f\"{name}: {value}\")\n",
    "\n",
    "# Predict on test data\n",
    "y_pred_probs = model.predict(X_test)\n",
    "y_pred = (y_pred_probs > 0.5).astype(int)\n",
    "\n",
    "# Classification report\n",
    "from sklearn.metrics import classification_report\n",
    "print(classification_report(y_test, y_pred))\n",
    "\n",
    "# Confusion matrix\n",
    "from sklearn.metrics import confusion_matrix\n",
    "print(confusion_matrix(y_test, y_pred))\n",
    "\n",
    "#--------------------------------------\n",
    "from sklearn.metrics import f1_score, precision_score, recall_score, roc_auc_score\n",
    "from sklearn.metrics import roc_curve, auc, precision_recall_curve\n",
    "from sklearn.metrics import accuracy_score\n",
    "from sklearn.metrics import average_precision_score\n",
    "\n",
    "print(accuracy_score(y_test, y_pred))\n",
    "print(precision_score(y_test, y_pred))\n",
    "print(recall_score(y_test, y_pred))\n",
    "print(f1_score(y_test, y_pred))\n",
    "print(roc_auc_score(y_test, y_score))\n",
    "\n",
    "# Compute the precision-recall curve\n",
    "precision, recall, thresholds = precision_recall_curve(y_test, y_score)\n",
    "# Compute the area under precision-recall curve (pr_auc)\n",
    "print(auc(recall, precision))\n"
   ]
  },
  {
   "cell_type": "markdown",
   "metadata": {},
   "source": []
  }
 ],
 "metadata": {
  "kernelspec": {
   "display_name": "notebook",
   "language": "python",
   "name": "python3"
  },
  "language_info": {
   "codemirror_mode": {
    "name": "ipython",
    "version": 3
   },
   "file_extension": ".py",
   "mimetype": "text/x-python",
   "name": "python",
   "nbconvert_exporter": "python",
   "pygments_lexer": "ipython3",
   "version": "3.12.1"
  }
 },
 "nbformat": 4,
 "nbformat_minor": 2
}
